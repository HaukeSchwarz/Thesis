{
 "cells": [
  {
   "cell_type": "markdown",
   "metadata": {},
   "source": [
    "To-Do\n",
    "- Specify procedure for outliers (additional?)\n",
    "- Binary loan grant variable for classification (and drop of action taken)\n",
    "- Check standardization of features\n",
    "- Interaction Terms for protected attributes"
   ]
  },
  {
   "cell_type": "markdown",
   "metadata": {},
   "source": [
    "# Data Cleaning and EDA - Continued"
   ]
  },
  {
   "cell_type": "markdown",
   "metadata": {},
   "source": [
    "This notebook picks up where the first analysis notebook has ended, after value imputation and preliminary outlier removal. The pickle saved at the end of the first workbook will be the starting point here."
   ]
  },
  {
   "cell_type": "code",
   "execution_count": 1,
   "metadata": {},
   "outputs": [],
   "source": [
    "import numpy as np\n",
    "import pandas as pd\n",
    "import matplotlib.pyplot as plt\n",
    "import seaborn as sns\n",
    "\n",
    "sns.set_theme(style=\"darkgrid\", context= \"paper\")"
   ]
  },
  {
   "cell_type": "code",
   "execution_count": 2,
   "metadata": {},
   "outputs": [],
   "source": [
    "HMDA_clean = pd.read_pickle(\"C:/Users/Hauke/OneDrive - ucp.pt/04_Thesis/00_GitHub/Thesis/data/processed/HMDA_cleaned.pkl\")"
   ]
  },
  {
   "cell_type": "markdown",
   "metadata": {},
   "source": [
    "## Additional Typecasting"
   ]
  },
  {
   "cell_type": "markdown",
   "metadata": {},
   "source": [
    "In the previous notebook, the only aim of adjusting the data types was to get all of them in a numerical format in order to facilitate imputation and analysis. Now, the data types will be cast to their correct format."
   ]
  },
  {
   "cell_type": "code",
   "execution_count": 3,
   "metadata": {},
   "outputs": [],
   "source": [
    "str_cols = [\"county_code\"]\n",
    "cat_cols = [\"conforming_loan_limit\", \"action_taken\", \"purchaser_type\", \"preapproval\", \"loan_type\", \"loan_purpose\", \"lien_status\", \"reverse_mortgage\", \"open-end_line_of_credit\", \"business_or_commercial_purpose\",\n",
    "            \"hoepa_status\", \"negative_amortization\", \"interest_only_payment\", \"balloon_payment\", \"other_nonamortizing_features\", \"occupancy_type\", \"manufactured_home_secured_property_type\", \"manufactured_home_land_property_interest\", \"total_units\", \n",
    "            \"applicant_credit_score_type\", \"applicant_ethnicity-1\", \"applicant_ethnicity-2\",\n",
    "            \"applicant_ethnicity_observed\", \"applicant_race-1\",\t\"applicant_race-2\",\t\"applicant_race_observed\", \"applicant_sex\",\t\"applicant_sex_observed\", \"applicant_age\", \"submission_of_application\", \"initially_payable_to_institution\", \"aus-1\"]"
   ]
  },
  {
   "cell_type": "code",
   "execution_count": 5,
   "metadata": {},
   "outputs": [],
   "source": [
    "HMDA_clean[str_cols] = HMDA_clean[str_cols].round(0).astype(\"str\")\n",
    "HMDA_clean[cat_cols] = HMDA_clean[cat_cols].astype(\"category\")"
   ]
  }
 ],
 "metadata": {
  "kernelspec": {
   "display_name": "Python 3",
   "language": "python",
   "name": "python3"
  },
  "language_info": {
   "codemirror_mode": {
    "name": "ipython",
    "version": 3
   },
   "file_extension": ".py",
   "mimetype": "text/x-python",
   "name": "python",
   "nbconvert_exporter": "python",
   "pygments_lexer": "ipython3",
   "version": "3.11.0"
  }
 },
 "nbformat": 4,
 "nbformat_minor": 2
}
