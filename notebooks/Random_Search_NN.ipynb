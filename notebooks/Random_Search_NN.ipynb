{
 "cells": [
  {
   "cell_type": "code",
   "execution_count": 9,
   "metadata": {},
   "outputs": [],
   "source": [
    "import numpy as np\n",
    "import pandas as pd\n",
    "from sklearn.model_selection import RandomizedSearchCV\n",
    "from sklearn.metrics import accuracy_score\n",
    "from keras.wrappers.scikit_learn import KerasClassifier\n",
    "from tensorflow import keras\n",
    "import pickle"
   ]
  },
  {
   "cell_type": "code",
   "execution_count": 10,
   "metadata": {},
   "outputs": [],
   "source": [
    "pickle_file_path = \"C:/Users/Hauke/OneDrive - ucp.pt/04_Thesis/00_GitHub/Thesis/data/interim/subsets_data.pickle\"\n",
    "\n",
    "with open(pickle_file_path, 'rb') as f:\n",
    "    subsets = pickle.load(f)\n",
    "\n",
    "X_train_scaled = subsets['X_train_scaled']\n",
    "X_test_scaled = subsets['X_test_scaled']\n",
    "X_val_scaled = subsets['X_val_scaled']\n",
    "y_train = subsets['y_train']\n",
    "y_test = subsets['y_test']\n",
    "y_val = subsets['y_val']\n",
    "\n",
    "X_column_names = ['county_code', 'interest_rate', 'loan_to_value_ratio',\n",
    "       'applicant_sex_Female', 'applicant_race-1_White', 'loan_type_FHA',\n",
    "       'loan_type_VA', 'loan_type_FSA/RHS', 'debt_to_income_ratio_20%-<30%',\n",
    "       'debt_to_income_ratio_30%-<36%-41%%', 'debt_to_income_ratio_36%-41%',\n",
    "       'debt_to_income_ratio_41%-45%', 'debt_to_income_ratio_46%-49%',\n",
    "       'debt_to_income_ratio_50%-60%', 'debt_to_income_ratio_<20%',\n",
    "       'debt_to_income_ratio_>60%', 'debt_to_income_ratio_missing',\n",
    "       'lien_status_Subordinate lien']\n",
    "\n",
    "X_column_names_trans = X_column_names.copy()\n",
    "X_column_names_trans.remove('applicant_race-1_White')\n",
    "\n",
    "X_train_scaled_df = pd.DataFrame(X_train_scaled, columns=X_column_names)\n",
    "X_test_scaled_df = pd.DataFrame(X_test_scaled, columns=X_column_names)\n",
    "X_val_scaled_df = pd.DataFrame(X_val_scaled, columns=X_column_names)"
   ]
  },
  {
   "cell_type": "code",
   "execution_count": 11,
   "metadata": {},
   "outputs": [
    {
     "name": "stderr",
     "output_type": "stream",
     "text": [
      "C:\\Users\\Hauke\\AppData\\Local\\Temp\\ipykernel_83512\\542669475.py:20: DeprecationWarning: KerasClassifier is deprecated, use Sci-Keras (https://github.com/adriangb/scikeras) instead. See https://www.adriangb.com/scikeras/stable/migration.html for help migrating.\n",
      "  model = KerasClassifier(build_fn=create_model, epochs=30, batch_size=48, verbose=0)\n"
     ]
    },
    {
     "name": "stdout",
     "output_type": "stream",
     "text": [
      "Fitting 3 folds for each of 10 candidates, totalling 30 fits\n",
      "[CV] END dropout_rate=0.5, l2_penalty=0.01, neurons_layer1=128, neurons_layer2=128, neurons_layer3=32, optimizer=adam; total time=10.9min\n",
      "[CV] END dropout_rate=0.5, l2_penalty=0.01, neurons_layer1=128, neurons_layer2=128, neurons_layer3=32, optimizer=adam; total time=12.4min\n",
      "[CV] END dropout_rate=0.5, l2_penalty=0.01, neurons_layer1=128, neurons_layer2=128, neurons_layer3=32, optimizer=adam; total time=10.2min\n",
      "[CV] END dropout_rate=0.25, l2_penalty=0.01, neurons_layer1=128, neurons_layer2=128, neurons_layer3=128, optimizer=adam; total time=10.5min\n",
      "[CV] END dropout_rate=0.25, l2_penalty=0.01, neurons_layer1=128, neurons_layer2=128, neurons_layer3=128, optimizer=adam; total time=10.8min\n",
      "[CV] END dropout_rate=0.25, l2_penalty=0.01, neurons_layer1=128, neurons_layer2=128, neurons_layer3=128, optimizer=adam; total time=11.9min\n",
      "[CV] END dropout_rate=0.5, l2_penalty=0.01, neurons_layer1=128, neurons_layer2=256, neurons_layer3=128, optimizer=rmsprop; total time=15.6min\n",
      "[CV] END dropout_rate=0.5, l2_penalty=0.01, neurons_layer1=128, neurons_layer2=256, neurons_layer3=128, optimizer=rmsprop; total time=15.4min\n",
      "[CV] END dropout_rate=0.5, l2_penalty=0.01, neurons_layer1=128, neurons_layer2=256, neurons_layer3=128, optimizer=rmsprop; total time=16.3min\n",
      "[CV] END dropout_rate=0.5, l2_penalty=0.1, neurons_layer1=32, neurons_layer2=256, neurons_layer3=128, optimizer=adam; total time=14.1min\n",
      "[CV] END dropout_rate=0.5, l2_penalty=0.1, neurons_layer1=32, neurons_layer2=256, neurons_layer3=128, optimizer=adam; total time=14.3min\n",
      "[CV] END dropout_rate=0.5, l2_penalty=0.1, neurons_layer1=32, neurons_layer2=256, neurons_layer3=128, optimizer=adam; total time=13.2min\n",
      "[CV] END dropout_rate=0.5, l2_penalty=0.001, neurons_layer1=128, neurons_layer2=64, neurons_layer3=128, optimizer=adam; total time= 9.2min\n",
      "[CV] END dropout_rate=0.5, l2_penalty=0.001, neurons_layer1=128, neurons_layer2=64, neurons_layer3=128, optimizer=adam; total time= 8.0min\n",
      "[CV] END dropout_rate=0.5, l2_penalty=0.001, neurons_layer1=128, neurons_layer2=64, neurons_layer3=128, optimizer=adam; total time= 8.4min\n",
      "[CV] END dropout_rate=0.5, l2_penalty=0.1, neurons_layer1=64, neurons_layer2=256, neurons_layer3=64, optimizer=rmsprop; total time=13.8min\n",
      "[CV] END dropout_rate=0.5, l2_penalty=0.1, neurons_layer1=64, neurons_layer2=256, neurons_layer3=64, optimizer=rmsprop; total time=13.5min\n",
      "[CV] END dropout_rate=0.5, l2_penalty=0.1, neurons_layer1=64, neurons_layer2=256, neurons_layer3=64, optimizer=rmsprop; total time=13.6min\n",
      "[CV] END dropout_rate=0.25, l2_penalty=0.001, neurons_layer1=64, neurons_layer2=256, neurons_layer3=32, optimizer=rmsprop; total time=11.6min\n",
      "[CV] END dropout_rate=0.25, l2_penalty=0.001, neurons_layer1=64, neurons_layer2=256, neurons_layer3=32, optimizer=rmsprop; total time=11.8min\n",
      "[CV] END dropout_rate=0.25, l2_penalty=0.001, neurons_layer1=64, neurons_layer2=256, neurons_layer3=32, optimizer=rmsprop; total time=11.8min\n",
      "[CV] END dropout_rate=0.25, l2_penalty=0.01, neurons_layer1=32, neurons_layer2=128, neurons_layer3=64, optimizer=rmsprop; total time= 8.1min\n",
      "[CV] END dropout_rate=0.25, l2_penalty=0.01, neurons_layer1=32, neurons_layer2=128, neurons_layer3=64, optimizer=rmsprop; total time= 8.3min\n",
      "[CV] END dropout_rate=0.25, l2_penalty=0.01, neurons_layer1=32, neurons_layer2=128, neurons_layer3=64, optimizer=rmsprop; total time= 8.8min\n",
      "[CV] END dropout_rate=0.1, l2_penalty=0.01, neurons_layer1=128, neurons_layer2=256, neurons_layer3=64, optimizer=adam; total time=12.9min\n",
      "[CV] END dropout_rate=0.1, l2_penalty=0.01, neurons_layer1=128, neurons_layer2=256, neurons_layer3=64, optimizer=adam; total time=588.3min\n",
      "[CV] END dropout_rate=0.1, l2_penalty=0.01, neurons_layer1=128, neurons_layer2=256, neurons_layer3=64, optimizer=adam; total time=14.9min\n",
      "[CV] END dropout_rate=0.25, l2_penalty=0.01, neurons_layer1=32, neurons_layer2=256, neurons_layer3=32, optimizer=rmsprop; total time=11.8min\n",
      "[CV] END dropout_rate=0.25, l2_penalty=0.01, neurons_layer1=32, neurons_layer2=256, neurons_layer3=32, optimizer=rmsprop; total time=11.7min\n",
      "[CV] END dropout_rate=0.25, l2_penalty=0.01, neurons_layer1=32, neurons_layer2=256, neurons_layer3=32, optimizer=rmsprop; total time=11.9min\n",
      "Best parameters found: {'optimizer': 'adam', 'neurons_layer3': 128, 'neurons_layer2': 64, 'neurons_layer1': 128, 'l2_penalty': 0.001, 'dropout_rate': 0.5}\n",
      "Validation Accuracy of the best model: 0.9012104868888855\n"
     ]
    }
   ],
   "source": [
    "import numpy as np\n",
    "from sklearn.model_selection import RandomizedSearchCV\n",
    "from sklearn.metrics import accuracy_score\n",
    "from keras.wrappers.scikit_learn import KerasClassifier\n",
    "\n",
    "def create_model(optimizer='adam', dropout_rate=0.1, neurons_layer1=32, neurons_layer2=64, neurons_layer3=128, l2_penalty=0.001):\n",
    "    model = keras.Sequential([\n",
    "        keras.layers.Dense(neurons_layer1, activation=\"relu\", kernel_regularizer=keras.regularizers.l2(l2_penalty), input_shape=(X_train_scaled.shape[1],)),\n",
    "        keras.layers.Dense(neurons_layer2, activation=\"relu\", kernel_regularizer=keras.regularizers.l2(l2_penalty)),\n",
    "        keras.layers.Dropout(dropout_rate),\n",
    "        keras.layers.Dense(neurons_layer3, activation=\"relu\"),\n",
    "        keras.layers.Dropout(dropout_rate),\n",
    "        keras.layers.Dense(neurons_layer2, activation=\"relu\", kernel_regularizer=keras.regularizers.l2(l2_penalty)),\n",
    "        keras.layers.Dropout(dropout_rate),\n",
    "        keras.layers.Dense(1, activation=\"sigmoid\")\n",
    "    ])\n",
    "    model.compile(optimizer=optimizer, loss=\"binary_crossentropy\", metrics=[\"accuracy\"])\n",
    "    return model\n",
    "\n",
    "model = KerasClassifier(build_fn=create_model, epochs=30, batch_size=48, verbose=0)\n",
    "\n",
    "# Define the hyperparameter space\n",
    "param_grid = {\n",
    "    'optimizer': ['adam', 'rmsprop'],\n",
    "    'dropout_rate': [0.1, 0.25, 0.5],\n",
    "    'neurons_layer1': [32, 64, 128],\n",
    "    'neurons_layer2': [64, 128, 256],\n",
    "    'neurons_layer3': [32, 64, 128],\n",
    "    'l2_penalty': [0.001, 0.01, 0.1]\n",
    "}\n",
    "\n",
    "random_search = RandomizedSearchCV(estimator=model, param_distributions=param_grid, n_iter=10, cv=3, verbose=2, random_state=42)\n",
    "random_search.fit(X_train_scaled, y_train, validation_data=(X_val_scaled, y_val))\n",
    "\n",
    "print(\"Best parameters found:\", random_search.best_params_)\n",
    "\n",
    "best_model = random_search.best_estimator_\n",
    "validation_accuracy = best_model.score(X_val_scaled, y_val)\n",
    "print(\"Validation Accuracy of the best model:\", validation_accuracy)"
   ]
  }
 ],
 "metadata": {
  "kernelspec": {
   "display_name": "Python 3",
   "language": "python",
   "name": "python3"
  },
  "language_info": {
   "codemirror_mode": {
    "name": "ipython",
    "version": 3
   },
   "file_extension": ".py",
   "mimetype": "text/x-python",
   "name": "python",
   "nbconvert_exporter": "python",
   "pygments_lexer": "ipython3",
   "version": "3.11.0"
  }
 },
 "nbformat": 4,
 "nbformat_minor": 2
}
