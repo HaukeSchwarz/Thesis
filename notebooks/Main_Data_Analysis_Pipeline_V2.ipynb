{
 "cells": [
  {
   "cell_type": "code",
   "execution_count": 1,
   "metadata": {},
   "outputs": [],
   "source": [
    "import numpy as np\n",
    "import pandas as pd\n",
    "import matplotlib.pyplot as plt\n",
    "import seaborn as sns\n",
    "\n",
    "from sklearn.impute import KNNImputer\n",
    "from sklearn.experimental import enable_iterative_imputer\n",
    "from sklearn.impute import IterativeImputer\n",
    "\n",
    "from scipy.stats import normaltest\n",
    "from scipy.stats import ttest_ind\n",
    "from scipy.stats import mannwhitneyu\n",
    "\n",
    "\n",
    "sns.set_theme(style=\"darkgrid\", context= \"paper\")"
   ]
  },
  {
   "cell_type": "code",
   "execution_count": 2,
   "metadata": {},
   "outputs": [
    {
     "name": "stderr",
     "output_type": "stream",
     "text": [
      "C:\\Users\\Hauke\\AppData\\Local\\Temp\\ipykernel_19724\\3624649937.py:1: DtypeWarning: Columns (22,23,24,26,27,28,29,30,31,32,33,38,43,44) have mixed types. Specify dtype option on import or set low_memory=False.\n",
      "  HMDA_raw = pd.read_csv(\"C:/Users/Hauke/OneDrive - ucp.pt/04_Thesis/00_GitHub/Thesis/data/raw/HMDA_SD_LA_UT_TX_MT/state_SD-LA-UT-TX-MT_races_White-Black or African American_ethnicities_Not Hispanic or Latino.csv\")\n"
     ]
    }
   ],
   "source": [
    "HMDA_raw = pd.read_csv(\"C:/Users/Hauke/OneDrive - ucp.pt/04_Thesis/00_GitHub/Thesis/data/raw/HMDA_SD_LA_UT_TX_MT/state_SD-LA-UT-TX-MT_races_White-Black or African American_ethnicities_Not Hispanic or Latino.csv\")"
   ]
  },
  {
   "cell_type": "code",
   "execution_count": 3,
   "metadata": {},
   "outputs": [
    {
     "data": {
      "text/html": [
       "<div>\n",
       "<style scoped>\n",
       "    .dataframe tbody tr th:only-of-type {\n",
       "        vertical-align: middle;\n",
       "    }\n",
       "\n",
       "    .dataframe tbody tr th {\n",
       "        vertical-align: top;\n",
       "    }\n",
       "\n",
       "    .dataframe thead th {\n",
       "        text-align: right;\n",
       "    }\n",
       "</style>\n",
       "<table border=\"1\" class=\"dataframe\">\n",
       "  <thead>\n",
       "    <tr style=\"text-align: right;\">\n",
       "      <th></th>\n",
       "      <th>activity_year</th>\n",
       "      <th>derived_msa-md</th>\n",
       "      <th>county_code</th>\n",
       "      <th>census_tract</th>\n",
       "      <th>action_taken</th>\n",
       "      <th>purchaser_type</th>\n",
       "      <th>preapproval</th>\n",
       "      <th>loan_type</th>\n",
       "      <th>loan_purpose</th>\n",
       "      <th>lien_status</th>\n",
       "      <th>...</th>\n",
       "      <th>denial_reason-2</th>\n",
       "      <th>denial_reason-3</th>\n",
       "      <th>denial_reason-4</th>\n",
       "      <th>tract_population</th>\n",
       "      <th>tract_minority_population_percent</th>\n",
       "      <th>ffiec_msa_md_median_family_income</th>\n",
       "      <th>tract_to_msa_income_percentage</th>\n",
       "      <th>tract_owner_occupied_units</th>\n",
       "      <th>tract_one_to_four_family_homes</th>\n",
       "      <th>tract_median_age_of_housing_units</th>\n",
       "    </tr>\n",
       "  </thead>\n",
       "  <tbody>\n",
       "    <tr>\n",
       "      <th>count</th>\n",
       "      <td>867401.0</td>\n",
       "      <td>867401.000000</td>\n",
       "      <td>858348.000000</td>\n",
       "      <td>8.526450e+05</td>\n",
       "      <td>867401.000000</td>\n",
       "      <td>867401.000000</td>\n",
       "      <td>867401.000000</td>\n",
       "      <td>867401.000000</td>\n",
       "      <td>867401.000000</td>\n",
       "      <td>867401.000000</td>\n",
       "      <td>...</td>\n",
       "      <td>28518.000000</td>\n",
       "      <td>4425.000000</td>\n",
       "      <td>308.000000</td>\n",
       "      <td>867401.000000</td>\n",
       "      <td>867401.000000</td>\n",
       "      <td>867401.000000</td>\n",
       "      <td>867401.000000</td>\n",
       "      <td>867401.000000</td>\n",
       "      <td>867401.000000</td>\n",
       "      <td>867401.000000</td>\n",
       "    </tr>\n",
       "    <tr>\n",
       "      <th>mean</th>\n",
       "      <td>2022.0</td>\n",
       "      <td>37669.451768</td>\n",
       "      <td>43877.141363</td>\n",
       "      <td>4.389374e+10</td>\n",
       "      <td>2.176018</td>\n",
       "      <td>6.163825</td>\n",
       "      <td>1.978501</td>\n",
       "      <td>1.271926</td>\n",
       "      <td>11.219380</td>\n",
       "      <td>1.139666</td>\n",
       "      <td>...</td>\n",
       "      <td>4.383337</td>\n",
       "      <td>5.458757</td>\n",
       "      <td>6.678571</td>\n",
       "      <td>5224.850477</td>\n",
       "      <td>37.806498</td>\n",
       "      <td>87019.318631</td>\n",
       "      <td>115.803369</td>\n",
       "      <td>1244.669945</td>\n",
       "      <td>1655.695343</td>\n",
       "      <td>29.057046</td>\n",
       "    </tr>\n",
       "    <tr>\n",
       "      <th>std</th>\n",
       "      <td>0.0</td>\n",
       "      <td>27078.157779</td>\n",
       "      <td>9572.577290</td>\n",
       "      <td>9.556759e+09</td>\n",
       "      <td>1.514877</td>\n",
       "      <td>18.260913</td>\n",
       "      <td>0.145040</td>\n",
       "      <td>0.624273</td>\n",
       "      <td>14.162271</td>\n",
       "      <td>0.346640</td>\n",
       "      <td>...</td>\n",
       "      <td>2.810114</td>\n",
       "      <td>2.447215</td>\n",
       "      <td>2.621124</td>\n",
       "      <td>2847.468094</td>\n",
       "      <td>23.243886</td>\n",
       "      <td>15353.351620</td>\n",
       "      <td>45.819774</td>\n",
       "      <td>627.686578</td>\n",
       "      <td>720.713579</td>\n",
       "      <td>15.883379</td>\n",
       "    </tr>\n",
       "    <tr>\n",
       "      <th>min</th>\n",
       "      <td>2022.0</td>\n",
       "      <td>0.000000</td>\n",
       "      <td>22001.000000</td>\n",
       "      <td>2.200196e+10</td>\n",
       "      <td>1.000000</td>\n",
       "      <td>0.000000</td>\n",
       "      <td>1.000000</td>\n",
       "      <td>1.000000</td>\n",
       "      <td>1.000000</td>\n",
       "      <td>1.000000</td>\n",
       "      <td>...</td>\n",
       "      <td>1.000000</td>\n",
       "      <td>1.000000</td>\n",
       "      <td>1.000000</td>\n",
       "      <td>0.000000</td>\n",
       "      <td>0.000000</td>\n",
       "      <td>0.000000</td>\n",
       "      <td>0.000000</td>\n",
       "      <td>0.000000</td>\n",
       "      <td>0.000000</td>\n",
       "      <td>0.000000</td>\n",
       "    </tr>\n",
       "    <tr>\n",
       "      <th>25%</th>\n",
       "      <td>2022.0</td>\n",
       "      <td>19124.000000</td>\n",
       "      <td>48029.000000</td>\n",
       "      <td>4.802918e+10</td>\n",
       "      <td>1.000000</td>\n",
       "      <td>0.000000</td>\n",
       "      <td>2.000000</td>\n",
       "      <td>1.000000</td>\n",
       "      <td>1.000000</td>\n",
       "      <td>1.000000</td>\n",
       "      <td>...</td>\n",
       "      <td>2.000000</td>\n",
       "      <td>4.000000</td>\n",
       "      <td>5.000000</td>\n",
       "      <td>3535.000000</td>\n",
       "      <td>19.510000</td>\n",
       "      <td>81200.000000</td>\n",
       "      <td>88.000000</td>\n",
       "      <td>835.000000</td>\n",
       "      <td>1194.000000</td>\n",
       "      <td>17.000000</td>\n",
       "    </tr>\n",
       "    <tr>\n",
       "      <th>50%</th>\n",
       "      <td>2022.0</td>\n",
       "      <td>26420.000000</td>\n",
       "      <td>48201.000000</td>\n",
       "      <td>4.820134e+10</td>\n",
       "      <td>1.000000</td>\n",
       "      <td>0.000000</td>\n",
       "      <td>2.000000</td>\n",
       "      <td>1.000000</td>\n",
       "      <td>1.000000</td>\n",
       "      <td>1.000000</td>\n",
       "      <td>...</td>\n",
       "      <td>4.000000</td>\n",
       "      <td>5.000000</td>\n",
       "      <td>8.000000</td>\n",
       "      <td>4780.000000</td>\n",
       "      <td>32.510000</td>\n",
       "      <td>90800.000000</td>\n",
       "      <td>111.000000</td>\n",
       "      <td>1172.000000</td>\n",
       "      <td>1609.000000</td>\n",
       "      <td>27.000000</td>\n",
       "    </tr>\n",
       "    <tr>\n",
       "      <th>75%</th>\n",
       "      <td>2022.0</td>\n",
       "      <td>41620.000000</td>\n",
       "      <td>48439.000000</td>\n",
       "      <td>4.843912e+10</td>\n",
       "      <td>3.000000</td>\n",
       "      <td>2.000000</td>\n",
       "      <td>2.000000</td>\n",
       "      <td>1.000000</td>\n",
       "      <td>31.000000</td>\n",
       "      <td>1.000000</td>\n",
       "      <td>...</td>\n",
       "      <td>6.000000</td>\n",
       "      <td>8.000000</td>\n",
       "      <td>9.000000</td>\n",
       "      <td>6343.000000</td>\n",
       "      <td>52.100000</td>\n",
       "      <td>97400.000000</td>\n",
       "      <td>140.000000</td>\n",
       "      <td>1552.000000</td>\n",
       "      <td>2036.000000</td>\n",
       "      <td>40.000000</td>\n",
       "    </tr>\n",
       "    <tr>\n",
       "      <th>max</th>\n",
       "      <td>2022.0</td>\n",
       "      <td>99999.000000</td>\n",
       "      <td>49057.000000</td>\n",
       "      <td>4.905721e+10</td>\n",
       "      <td>8.000000</td>\n",
       "      <td>72.000000</td>\n",
       "      <td>2.000000</td>\n",
       "      <td>4.000000</td>\n",
       "      <td>32.000000</td>\n",
       "      <td>2.000000</td>\n",
       "      <td>...</td>\n",
       "      <td>9.000000</td>\n",
       "      <td>9.000000</td>\n",
       "      <td>9.000000</td>\n",
       "      <td>30199.000000</td>\n",
       "      <td>100.000000</td>\n",
       "      <td>118700.000000</td>\n",
       "      <td>369.000000</td>\n",
       "      <td>4909.000000</td>\n",
       "      <td>6025.000000</td>\n",
       "      <td>80.000000</td>\n",
       "    </tr>\n",
       "  </tbody>\n",
       "</table>\n",
       "<p>8 rows × 72 columns</p>\n",
       "</div>"
      ],
      "text/plain": [
       "       activity_year  derived_msa-md    county_code  census_tract  \\\n",
       "count       867401.0   867401.000000  858348.000000  8.526450e+05   \n",
       "mean          2022.0    37669.451768   43877.141363  4.389374e+10   \n",
       "std              0.0    27078.157779    9572.577290  9.556759e+09   \n",
       "min           2022.0        0.000000   22001.000000  2.200196e+10   \n",
       "25%           2022.0    19124.000000   48029.000000  4.802918e+10   \n",
       "50%           2022.0    26420.000000   48201.000000  4.820134e+10   \n",
       "75%           2022.0    41620.000000   48439.000000  4.843912e+10   \n",
       "max           2022.0    99999.000000   49057.000000  4.905721e+10   \n",
       "\n",
       "        action_taken  purchaser_type    preapproval      loan_type  \\\n",
       "count  867401.000000   867401.000000  867401.000000  867401.000000   \n",
       "mean        2.176018        6.163825       1.978501       1.271926   \n",
       "std         1.514877       18.260913       0.145040       0.624273   \n",
       "min         1.000000        0.000000       1.000000       1.000000   \n",
       "25%         1.000000        0.000000       2.000000       1.000000   \n",
       "50%         1.000000        0.000000       2.000000       1.000000   \n",
       "75%         3.000000        2.000000       2.000000       1.000000   \n",
       "max         8.000000       72.000000       2.000000       4.000000   \n",
       "\n",
       "        loan_purpose    lien_status  ...  denial_reason-2  denial_reason-3  \\\n",
       "count  867401.000000  867401.000000  ...     28518.000000      4425.000000   \n",
       "mean       11.219380       1.139666  ...         4.383337         5.458757   \n",
       "std        14.162271       0.346640  ...         2.810114         2.447215   \n",
       "min         1.000000       1.000000  ...         1.000000         1.000000   \n",
       "25%         1.000000       1.000000  ...         2.000000         4.000000   \n",
       "50%         1.000000       1.000000  ...         4.000000         5.000000   \n",
       "75%        31.000000       1.000000  ...         6.000000         8.000000   \n",
       "max        32.000000       2.000000  ...         9.000000         9.000000   \n",
       "\n",
       "       denial_reason-4  tract_population  tract_minority_population_percent  \\\n",
       "count       308.000000     867401.000000                      867401.000000   \n",
       "mean          6.678571       5224.850477                          37.806498   \n",
       "std           2.621124       2847.468094                          23.243886   \n",
       "min           1.000000          0.000000                           0.000000   \n",
       "25%           5.000000       3535.000000                          19.510000   \n",
       "50%           8.000000       4780.000000                          32.510000   \n",
       "75%           9.000000       6343.000000                          52.100000   \n",
       "max           9.000000      30199.000000                         100.000000   \n",
       "\n",
       "       ffiec_msa_md_median_family_income  tract_to_msa_income_percentage  \\\n",
       "count                      867401.000000                   867401.000000   \n",
       "mean                        87019.318631                      115.803369   \n",
       "std                         15353.351620                       45.819774   \n",
       "min                             0.000000                        0.000000   \n",
       "25%                         81200.000000                       88.000000   \n",
       "50%                         90800.000000                      111.000000   \n",
       "75%                         97400.000000                      140.000000   \n",
       "max                        118700.000000                      369.000000   \n",
       "\n",
       "       tract_owner_occupied_units  tract_one_to_four_family_homes  \\\n",
       "count               867401.000000                   867401.000000   \n",
       "mean                  1244.669945                     1655.695343   \n",
       "std                    627.686578                      720.713579   \n",
       "min                      0.000000                        0.000000   \n",
       "25%                    835.000000                     1194.000000   \n",
       "50%                   1172.000000                     1609.000000   \n",
       "75%                   1552.000000                     2036.000000   \n",
       "max                   4909.000000                     6025.000000   \n",
       "\n",
       "       tract_median_age_of_housing_units  \n",
       "count                      867401.000000  \n",
       "mean                           29.057046  \n",
       "std                            15.883379  \n",
       "min                             0.000000  \n",
       "25%                            17.000000  \n",
       "50%                            27.000000  \n",
       "75%                            40.000000  \n",
       "max                            80.000000  \n",
       "\n",
       "[8 rows x 72 columns]"
      ]
     },
     "execution_count": 3,
     "metadata": {},
     "output_type": "execute_result"
    }
   ],
   "source": [
    "HMDA_raw.describe()"
   ]
  },
  {
   "cell_type": "code",
   "execution_count": 4,
   "metadata": {},
   "outputs": [],
   "source": [
    "HMDA_clean = HMDA_raw.copy()"
   ]
  },
  {
   "cell_type": "code",
   "execution_count": 5,
   "metadata": {},
   "outputs": [],
   "source": [
    "HMDA_clean = HMDA_clean[[\"county_code\", \"interest_rate\", \"applicant_sex\", \"applicant_race-1\", \"loan_type\", \"debt_to_income_ratio\", \"loan_to_value_ratio\", \"lien_status\"]]"
   ]
  },
  {
   "cell_type": "code",
   "execution_count": 6,
   "metadata": {},
   "outputs": [
    {
     "name": "stdout",
     "output_type": "stream",
     "text": [
      "(867401, 8) \n",
      " county_code             float64\n",
      "interest_rate            object\n",
      "applicant_sex             int64\n",
      "applicant_race-1          int64\n",
      "loan_type                 int64\n",
      "debt_to_income_ratio     object\n",
      "loan_to_value_ratio      object\n",
      "lien_status               int64\n",
      "dtype: object\n"
     ]
    }
   ],
   "source": [
    "print(HMDA_clean.shape, \"\\n\", HMDA_clean.dtypes)"
   ]
  },
  {
   "cell_type": "code",
   "execution_count": 7,
   "metadata": {},
   "outputs": [
    {
     "data": {
      "text/plain": [
       "interest_rate           320335\n",
       "loan_to_value_ratio     257408\n",
       "debt_to_income_ratio    229442\n",
       "county_code               9053\n",
       "applicant_sex                0\n",
       "applicant_race-1             0\n",
       "loan_type                    0\n",
       "lien_status                  0\n",
       "dtype: int64"
      ]
     },
     "execution_count": 7,
     "metadata": {},
     "output_type": "execute_result"
    }
   ],
   "source": [
    "HMDA_clean.isnull().sum().sort_values(ascending=False)"
   ]
  },
  {
   "cell_type": "code",
   "execution_count": 8,
   "metadata": {},
   "outputs": [
    {
     "data": {
      "text/plain": [
       "interest_rate           20591\n",
       "loan_to_value_ratio     20535\n",
       "debt_to_income_ratio    20533\n",
       "county_code                 0\n",
       "applicant_sex               0\n",
       "applicant_race-1            0\n",
       "loan_type                   0\n",
       "lien_status                 0\n",
       "dtype: int64"
      ]
     },
     "execution_count": 8,
     "metadata": {},
     "output_type": "execute_result"
    }
   ],
   "source": [
    "HMDA_clean.astype(str).apply(lambda x: x.str.contains(\"Exempt\").sum()).sort_values(ascending=False)"
   ]
  },
  {
   "cell_type": "code",
   "execution_count": 9,
   "metadata": {},
   "outputs": [],
   "source": [
    "HMDA_clean = HMDA_clean.dropna(subset=\"county_code\")"
   ]
  },
  {
   "cell_type": "code",
   "execution_count": 10,
   "metadata": {},
   "outputs": [],
   "source": [
    "HMDA_clean[\"county_code\"] = HMDA_clean[\"county_code\"].round(0).astype(int).astype(str)\n",
    "HMDA_clean[\"applicant_race-1\"] = HMDA_clean[\"applicant_race-1\"].astype(\"category\")\n",
    "HMDA_clean[\"applicant_sex\"] = HMDA_clean[\"applicant_sex\"].astype(\"category\")\n",
    "HMDA_clean[\"lien_status\"] = HMDA_clean[\"lien_status\"].astype(\"category\")\n",
    "HMDA_clean[\"loan_type\"] = HMDA_clean[\"loan_type\"].astype(\"category\")"
   ]
  },
  {
   "cell_type": "code",
   "execution_count": 11,
   "metadata": {},
   "outputs": [
    {
     "data": {
      "text/plain": [
       "array(['44', '42', '37', '39', '49', '>60%', '30%-<36%', '46', '50%-60%',\n",
       "       '<20%', '20%-<30%', '36', '47', nan, '38', '45', '48', '43', '40',\n",
       "       '41', 'Exempt'], dtype=object)"
      ]
     },
     "execution_count": 11,
     "metadata": {},
     "output_type": "execute_result"
    }
   ],
   "source": [
    "HMDA_clean[\"debt_to_income_ratio\"].unique()"
   ]
  },
  {
   "cell_type": "code",
   "execution_count": 12,
   "metadata": {},
   "outputs": [],
   "source": [
    "HMDA_clean[\"interest_rate\"] = HMDA_clean[\"interest_rate\"].str.replace(\"Exempt\", \"0\").astype(float)\n",
    "\n",
    "HMDA_clean[\"debt_to_income_ratio\"] = HMDA_clean[\"debt_to_income_ratio\"].str.replace(\"Exempt\", \"0\")\n",
    "replacement_dict = {\n",
    "    \"37\": \"37%-41%\",\n",
    "    \"38\": \"37%-41%\",\n",
    "    \"39\": \"37%-41%\",\n",
    "    \"40\": \"37%-41%\",\n",
    "    \"41\": \"37%-41%\",\n",
    "    \"42\": \"41%-45%\",\n",
    "    \"43\": \"41%-45%\",\n",
    "    \"44\": \"41%-45%\",\n",
    "    \"45\": \"41%-45%\",\n",
    "    \"46\": \"46%-49%\",\n",
    "    \"47\": \"46%-49%\",\n",
    "    \"48\": \"46%-49%\",\n",
    "    \"49\": \"46%-49%\"\n",
    "}\n",
    "HMDA_clean[\"debt_to_income_ratio\"] = HMDA_clean[\"debt_to_income_ratio\"].replace(replacement_dict, regex=True)\n",
    "HMDA_clean[\"debt_to_income_ratio\"] = HMDA_clean[\"debt_to_income_ratio\"].replace(np.nan, \"missing\")\n",
    "HMDA_clean[\"debt_to_income_ratio\"] = HMDA_clean[\"debt_to_income_ratio\"].astype(\"category\")\n",
    "\n",
    "HMDA_clean[\"loan_to_value_ratio\"] = HMDA_clean[\"loan_to_value_ratio\"].str.replace(\"Exempt\", \"0\").astype(float)"
   ]
  },
  {
   "cell_type": "code",
   "execution_count": 13,
   "metadata": {},
   "outputs": [
    {
     "data": {
      "text/plain": [
       "['41%-45%', '37%-41%', '46%-49%', '>60%', '30%-<36%', ..., '<20%', '20%-<30%', '36', 'missing', '0']\n",
       "Length: 11\n",
       "Categories (11, object): ['0', '20%-<30%', '30%-<36%', '36', ..., '50%-60%', '<20%', '>60%', 'missing']"
      ]
     },
     "execution_count": 13,
     "metadata": {},
     "output_type": "execute_result"
    }
   ],
   "source": [
    "HMDA_clean[\"debt_to_income_ratio\"].unique()"
   ]
  },
  {
   "cell_type": "code",
   "execution_count": 14,
   "metadata": {},
   "outputs": [
    {
     "data": {
      "image/png": "[encoded data removed]",
      "text/plain": [
       "<Figure size 640x480 with 1 Axes>"
      ]
     },
     "metadata": {},
     "output_type": "display_data"
    },
    {
     "data": {
      "image/png": "[encoded data removed]",
      "text/plain": [
       "<Figure size 640x480 with 1 Axes>"
      ]
     },
     "metadata": {},
     "output_type": "display_data"
    },
    {
     "name": "stdout",
     "output_type": "stream",
     "text": [
      "NormaltestResult(statistic=16332.56427742272, pvalue=0.0)\n",
      "NormaltestResult(statistic=2240339.008360178, pvalue=0.0)\n",
      "538732    18.99\n",
      "163113    18.00\n",
      "538727    17.99\n",
      "538728    17.99\n",
      "538729    17.99\n",
      "538730    17.99\n",
      "538733    17.99\n",
      "619678    17.50\n",
      "619681    16.45\n",
      "157666    15.50\n",
      "Name: interest_rate, dtype: float64\n",
      "38911    0.0\n",
      "38912    0.0\n",
      "38913    0.0\n",
      "38914    0.0\n",
      "38915    0.0\n",
      "38916    0.0\n",
      "38917    0.0\n",
      "38918    0.0\n",
      "38919    0.0\n",
      "38920    0.0\n",
      "Name: interest_rate, dtype: float64\n",
      "160152    99999.900\n",
      "160406    99999.900\n",
      "368621    84074.075\n",
      "833855    49450.549\n",
      "617406     9999.999\n",
      "617430     9999.999\n",
      "617569     9999.999\n",
      "617631     9999.999\n",
      "619390     9999.999\n",
      "615987     6920.063\n",
      "Name: loan_to_value_ratio, dtype: float64\n",
      "38911    0.0\n",
      "38912    0.0\n",
      "38913    0.0\n",
      "38914    0.0\n",
      "38915    0.0\n",
      "38916    0.0\n",
      "38917    0.0\n",
      "38918    0.0\n",
      "38919    0.0\n",
      "38920    0.0\n",
      "Name: loan_to_value_ratio, dtype: float64\n"
     ]
    }
   ],
   "source": [
    "# analyse outliers in interest_rate and loan_to_value_ratio\n",
    "plt.boxplot(HMDA_clean[\"interest_rate\"].dropna())\n",
    "plt.show()\n",
    "\n",
    "plt.boxplot(HMDA_clean[\"loan_to_value_ratio\"].dropna())\n",
    "plt.show()\n",
    "\n",
    "# normality test\n",
    "print(normaltest(HMDA_clean[\"interest_rate\"].dropna()))\n",
    "print(normaltest(HMDA_clean[\"loan_to_value_ratio\"].dropna()))\n",
    "\n",
    "# print 5 highest and lowest values\n",
    "print(HMDA_clean[\"interest_rate\"].nlargest(10))\n",
    "print(HMDA_clean[\"interest_rate\"].nsmallest(10))\n",
    "print(HMDA_clean[\"loan_to_value_ratio\"].nlargest(10))\n",
    "print(HMDA_clean[\"loan_to_value_ratio\"].nsmallest(10))\n"
   ]
  },
  {
   "cell_type": "code",
   "execution_count": 15,
   "metadata": {},
   "outputs": [],
   "source": [
    "HMDA_clean.drop(HMDA_clean[HMDA_clean[\"loan_to_value_ratio\"] > 250].index, inplace=True)"
   ]
  },
  {
   "cell_type": "code",
   "execution_count": 16,
   "metadata": {},
   "outputs": [
    {
     "data": {
      "image/png": "[encoded data removed]",
      "text/plain": [
       "<Figure size 640x480 with 1 Axes>"
      ]
     },
     "metadata": {},
     "output_type": "display_data"
    },
    {
     "data": {
      "image/png": "[encoded data removed]",
      "text/plain": [
       "<Figure size 640x480 with 1 Axes>"
      ]
     },
     "metadata": {},
     "output_type": "display_data"
    }
   ],
   "source": [
    "plt.boxplot(HMDA_clean[\"interest_rate\"].dropna())\n",
    "plt.show()\n",
    "\n",
    "plt.boxplot(HMDA_clean[\"loan_to_value_ratio\"].dropna())\n",
    "plt.show()"
   ]
  },
  {
   "cell_type": "code",
   "execution_count": 17,
   "metadata": {},
   "outputs": [
    {
     "data": {
      "image/png": "[encoded data removed]",
      "text/plain": [
       "<Figure size 640x480 with 1 Axes>"
      ]
     },
     "metadata": {},
     "output_type": "display_data"
    },
    {
     "data": {
      "image/png": "[encoded data removed]",
      "text/plain": [
       "<Figure size 640x480 with 1 Axes>"
      ]
     },
     "metadata": {},
     "output_type": "display_data"
    }
   ],
   "source": [
    "# print histograms\n",
    "plt.hist(HMDA_clean[\"interest_rate\"].dropna(), bins=30)\n",
    "plt.show()\n",
    "\n",
    "plt.hist(HMDA_clean[\"loan_to_value_ratio\"].dropna(), bins=30)\n",
    "plt.show()"
   ]
  },
  {
   "cell_type": "code",
   "execution_count": 18,
   "metadata": {},
   "outputs": [],
   "source": [
    "imputer = IterativeImputer(max_iter=25, random_state=0) # KNNImputer(n_neighbors=2)\n",
    "HMDA_clean[[\"interest_rate\", \"loan_to_value_ratio\"]] = imputer.fit_transform(HMDA_clean[[\"interest_rate\", \"loan_to_value_ratio\"]])"
   ]
  },
  {
   "cell_type": "code",
   "execution_count": 19,
   "metadata": {},
   "outputs": [
    {
     "data": {
      "image/png": "[encoded data removed]",
      "text/plain": [
       "<Figure size 640x480 with 1 Axes>"
      ]
     },
     "metadata": {},
     "output_type": "display_data"
    },
    {
     "data": {
      "image/png": "[encoded data removed]",
      "text/plain": [
       "<Figure size 640x480 with 1 Axes>"
      ]
     },
     "metadata": {},
     "output_type": "display_data"
    }
   ],
   "source": [
    "plt.boxplot(HMDA_clean[\"interest_rate\"])\n",
    "plt.show()\n",
    "\n",
    "plt.boxplot(HMDA_clean[\"loan_to_value_ratio\"])\n",
    "plt.show()"
   ]
  },
  {
   "cell_type": "code",
   "execution_count": 20,
   "metadata": {},
   "outputs": [
    {
     "data": {
      "image/png": "[encoded data removed]",
      "text/plain": [
       "<Figure size 640x480 with 1 Axes>"
      ]
     },
     "metadata": {},
     "output_type": "display_data"
    },
    {
     "data": {
      "image/png": "[encoded data removed]",
      "text/plain": [
       "<Figure size 640x480 with 1 Axes>"
      ]
     },
     "metadata": {},
     "output_type": "display_data"
    }
   ],
   "source": [
    "plt.hist(HMDA_clean[\"interest_rate\"].dropna(), bins=30)\n",
    "plt.show()\n",
    "\n",
    "plt.hist(HMDA_clean[\"loan_to_value_ratio\"].dropna(), bins=30)\n",
    "plt.show()"
   ]
  }
 ],
 "metadata": {
  "kernelspec": {
   "display_name": "Python 3",
   "language": "python",
   "name": "python3"
  },
  "language_info": {
   "codemirror_mode": {
    "name": "ipython",
    "version": 3
   },
   "file_extension": ".py",
   "mimetype": "text/x-python",
   "name": "python",
   "nbconvert_exporter": "python",
   "pygments_lexer": "ipython3",
   "version": "3.11.0"
  }
 },
 "nbformat": 4,
 "nbformat_minor": 2
}
