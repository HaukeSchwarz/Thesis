{
 "cells": [
  {
   "cell_type": "markdown",
   "metadata": {},
   "source": [
    "1. Import HMDA_clean_final\n",
    "2. Import prediction_df\n",
    "3. Revert scaling to have actual geography again\n",
    "4. Import enrichment data\n",
    "5. Clean both to just have geographic information and prediction (/grant)\n",
    "6. ... Analyze\n",
    "7. Save this workbook"
   ]
  }
 ],
 "metadata": {
  "kernelspec": {
   "display_name": "Python 3",
   "language": "python",
   "name": "python3"
  },
  "language_info": {
   "name": "python",
   "version": "3.11.0"
  }
 },
 "nbformat": 4,
 "nbformat_minor": 2
}
