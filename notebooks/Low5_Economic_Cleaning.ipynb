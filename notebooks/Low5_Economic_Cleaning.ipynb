{
 "cells": [
  {
   "cell_type": "markdown",
   "metadata": {},
   "source": [
    "# Cleaning of the geographical enrichment variables"
   ]
  },
  {
   "cell_type": "markdown",
   "metadata": {},
   "source": [
    "This notebook aims to bring the geographical enrichment variables (https://www.ers.usda.gov/data-products/county-level-data-sets/) into a format that is useful to work with for the purpose of this thesis."
   ]
  },
  {
   "cell_type": "markdown",
   "metadata": {},
   "source": [
    "## Set-Up"
   ]
  },
  {
   "cell_type": "markdown",
   "metadata": {},
   "source": [
    "The goal is to work with pandas dataframes, so numpy and pandas are required."
   ]
  },
  {
   "cell_type": "code",
   "execution_count": 1,
   "metadata": {},
   "outputs": [],
   "source": [
    "import pandas as pd \n",
    "import numpy as np"
   ]
  },
  {
   "cell_type": "markdown",
   "metadata": {},
   "source": [
    "## Raw Files"
   ]
  },
  {
   "cell_type": "markdown",
   "metadata": {},
   "source": [
    "All data (separate datasets on education, population, poverty, and unemployment per state) is available in CSV format, the inbuilt pandas function `read_csv` is utilized to store the data in a pandas dataframe."
   ]
  },
  {
   "cell_type": "code",
   "execution_count": 2,
   "metadata": {},
   "outputs": [],
   "source": [
    "educ_raw = pd.read_csv(\"C:/Users/Hauke/OneDrive - ucp.pt/04_Thesis/00_GitHub/Thesis/data/raw/California_Geographic/Education.csv\", encoding = \"latin1\")\n",
    "pop_raw = pd.read_csv(\"C:/Users/Hauke/OneDrive - ucp.pt/04_Thesis/00_GitHub/Thesis/data/raw/California_Geographic/PopulationEstimates.csv\", encoding = \"latin1\")\n",
    "pov_raw = pd.read_csv(\"C:/Users/Hauke/OneDrive - ucp.pt/04_Thesis/00_GitHub/Thesis/data/raw/California_Geographic/PovertyEstimates.csv\", encoding = \"latin1\")\n",
    "unemp_raw = pd.read_csv(\"C:/Users/Hauke/OneDrive - ucp.pt/04_Thesis/00_GitHub/Thesis/data/raw/California_Geographic/Unemployment.csv\", encoding = \"latin1\")"
   ]
  },
  {
   "cell_type": "code",
   "execution_count": 3,
   "metadata": {},
   "outputs": [
    {
     "data": {
      "text/html": [
       "<div>\n",
       "<style scoped>\n",
       "    .dataframe tbody tr th:only-of-type {\n",
       "        vertical-align: middle;\n",
       "    }\n",
       "\n",
       "    .dataframe tbody tr th {\n",
       "        vertical-align: top;\n",
       "    }\n",
       "\n",
       "    .dataframe thead th {\n",
       "        text-align: right;\n",
       "    }\n",
       "</style>\n",
       "<table border=\"1\" class=\"dataframe\">\n",
       "  <thead>\n",
       "    <tr style=\"text-align: right;\">\n",
       "      <th></th>\n",
       "      <th>Federal Information Processing Standard (FIPS) Code</th>\n",
       "      <th>State</th>\n",
       "      <th>Area name</th>\n",
       "      <th>Attribute</th>\n",
       "      <th>Value</th>\n",
       "    </tr>\n",
       "  </thead>\n",
       "  <tbody>\n",
       "    <tr>\n",
       "      <th>0</th>\n",
       "      <td>0</td>\n",
       "      <td>US</td>\n",
       "      <td>United States</td>\n",
       "      <td>Less than a high school diploma, 1970</td>\n",
       "      <td>52373312.0</td>\n",
       "    </tr>\n",
       "    <tr>\n",
       "      <th>1</th>\n",
       "      <td>0</td>\n",
       "      <td>US</td>\n",
       "      <td>United States</td>\n",
       "      <td>High school diploma only, 1970</td>\n",
       "      <td>34158051.0</td>\n",
       "    </tr>\n",
       "    <tr>\n",
       "      <th>2</th>\n",
       "      <td>0</td>\n",
       "      <td>US</td>\n",
       "      <td>United States</td>\n",
       "      <td>Some college (1-3 years), 1970</td>\n",
       "      <td>11650730.0</td>\n",
       "    </tr>\n",
       "    <tr>\n",
       "      <th>3</th>\n",
       "      <td>0</td>\n",
       "      <td>US</td>\n",
       "      <td>United States</td>\n",
       "      <td>Four years of college or higher, 1970</td>\n",
       "      <td>11717266.0</td>\n",
       "    </tr>\n",
       "    <tr>\n",
       "      <th>4</th>\n",
       "      <td>0</td>\n",
       "      <td>US</td>\n",
       "      <td>United States</td>\n",
       "      <td>Percent of adults with less than a high school...</td>\n",
       "      <td>47.7</td>\n",
       "    </tr>\n",
       "  </tbody>\n",
       "</table>\n",
       "</div>"
      ],
      "text/plain": [
       "   Federal Information Processing Standard (FIPS) Code State      Area name  \\\n",
       "0                                                  0      US  United States   \n",
       "1                                                  0      US  United States   \n",
       "2                                                  0      US  United States   \n",
       "3                                                  0      US  United States   \n",
       "4                                                  0      US  United States   \n",
       "\n",
       "                                           Attribute       Value  \n",
       "0              Less than a high school diploma, 1970  52373312.0  \n",
       "1                     High school diploma only, 1970  34158051.0  \n",
       "2                     Some college (1-3 years), 1970  11650730.0  \n",
       "3              Four years of college or higher, 1970  11717266.0  \n",
       "4  Percent of adults with less than a high school...        47.7  "
      ]
     },
     "execution_count": 3,
     "metadata": {},
     "output_type": "execute_result"
    }
   ],
   "source": [
    "educ_raw.head()"
   ]
  },
  {
   "cell_type": "code",
   "execution_count": 4,
   "metadata": {},
   "outputs": [
    {
     "data": {
      "text/plain": [
       "array(['US', 'AL', 'AK', 'AZ', 'AR', 'CA', 'CO', 'CT', 'DE', 'DC', 'FL',\n",
       "       'GA', 'HI', 'ID', 'IL', 'IN', 'IA', 'KS', 'KY', 'LA', 'ME', 'MD',\n",
       "       'MA', 'MI', 'MN', 'MS', 'MO', 'MT', 'NE', 'NV', 'NH', 'NJ', 'NM',\n",
       "       'NY', 'NC', 'ND', 'OH', 'OK', 'OR', 'PA', 'RI', 'SC', 'SD', 'TN',\n",
       "       'TX', 'UT', 'VT', 'VA', 'WA', 'WV', 'WI', 'WY', 'PR'], dtype=object)"
      ]
     },
     "execution_count": 4,
     "metadata": {},
     "output_type": "execute_result"
    }
   ],
   "source": [
    "educ_raw[\"State\"].unique()"
   ]
  },
  {
   "cell_type": "code",
   "execution_count": 5,
   "metadata": {},
   "outputs": [],
   "source": [
    "states = [\"SD\", \"LA\", \"UT\", \"TX\", \"MT\"]"
   ]
  },
  {
   "cell_type": "markdown",
   "metadata": {},
   "source": [
    "## Reshaping"
   ]
  },
  {
   "cell_type": "markdown",
   "metadata": {},
   "source": [
    "The downloadable CSVs are in a different format than displayed on the USDA homepage. As the aim of these dataframes is to enrich the main dataset, which does contain FIPS codes, the data is reshaped in a way that this FIPS code (together with the corresponding area name) are used to index the dataframe in order to facilitate merging and/or county-level analysis."
   ]
  },
  {
   "cell_type": "markdown",
   "metadata": {},
   "source": [
    "### Education"
   ]
  },
  {
   "cell_type": "markdown",
   "metadata": {},
   "source": [
    "The raw dataframe imported above is filtered to include only the relevant values (i.e. counties, but not the summary of the state itself). Only the percentage values relevant for the thesis are kept, the rest is dropped. Also, only the newest datapoints (years 2017-2021) are kept, the rest is dropped. As the data is structured in a way that information on years and KPIs are stored in the \"Attribute\" column, the dataframe is pivoted to have the KPIs as column for easier comparability."
   ]
  },
  {
   "cell_type": "code",
   "execution_count": 6,
   "metadata": {},
   "outputs": [],
   "source": [
    "educ_low5 = educ_raw[(educ_raw[\"State\"].isin(states)) & \n",
    "                     (educ_raw[\"Attribute\"].str.contains(\"Percent\")) & \n",
    "                     (educ_raw[\"Attribute\"].str.contains(\"2017-21\")) & \n",
    "                     (educ_raw[\"Area name\"].str.contains(\"County\"))]\n",
    " \n",
    "educ_low5_t = educ_low5.pivot(index = [\"Federal Information Processing Standard (FIPS) Code\", \"Area name\"],columns=\"Attribute\", values=\"Value\")"
   ]
  },
  {
   "cell_type": "code",
   "execution_count": 7,
   "metadata": {},
   "outputs": [
    {
     "data": {
      "text/html": [
       "<div>\n",
       "<style scoped>\n",
       "    .dataframe tbody tr th:only-of-type {\n",
       "        vertical-align: middle;\n",
       "    }\n",
       "\n",
       "    .dataframe tbody tr th {\n",
       "        vertical-align: top;\n",
       "    }\n",
       "\n",
       "    .dataframe thead th {\n",
       "        text-align: right;\n",
       "    }\n",
       "</style>\n",
       "<table border=\"1\" class=\"dataframe\">\n",
       "  <thead>\n",
       "    <tr style=\"text-align: right;\">\n",
       "      <th></th>\n",
       "      <th>Attribute</th>\n",
       "      <th>Percent of adults completing some college or associate's degree, 2017-21</th>\n",
       "      <th>Percent of adults with a bachelor's degree or higher, 2017-21</th>\n",
       "      <th>Percent of adults with a high school diploma only, 2017-21</th>\n",
       "      <th>Percent of adults with less than a high school diploma, 2017-21</th>\n",
       "    </tr>\n",
       "    <tr>\n",
       "      <th>Federal Information Processing Standard (FIPS) Code</th>\n",
       "      <th>Area name</th>\n",
       "      <th></th>\n",
       "      <th></th>\n",
       "      <th></th>\n",
       "      <th></th>\n",
       "    </tr>\n",
       "  </thead>\n",
       "  <tbody>\n",
       "    <tr>\n",
       "      <th>30001</th>\n",
       "      <th>Beaverhead County</th>\n",
       "      <td>33.338568</td>\n",
       "      <td>33.134422</td>\n",
       "      <td>28.062186</td>\n",
       "      <td>5.464824</td>\n",
       "    </tr>\n",
       "    <tr>\n",
       "      <th>30003</th>\n",
       "      <th>Big Horn County</th>\n",
       "      <td>36.061828</td>\n",
       "      <td>19.448925</td>\n",
       "      <td>33.884409</td>\n",
       "      <td>10.604839</td>\n",
       "    </tr>\n",
       "    <tr>\n",
       "      <th>30005</th>\n",
       "      <th>Blaine County</th>\n",
       "      <td>39.347363</td>\n",
       "      <td>24.686687</td>\n",
       "      <td>26.649326</td>\n",
       "      <td>9.316623</td>\n",
       "    </tr>\n",
       "    <tr>\n",
       "      <th>30007</th>\n",
       "      <th>Broadwater County</th>\n",
       "      <td>42.845082</td>\n",
       "      <td>23.533136</td>\n",
       "      <td>26.530182</td>\n",
       "      <td>7.091600</td>\n",
       "    </tr>\n",
       "    <tr>\n",
       "      <th>30009</th>\n",
       "      <th>Carbon County</th>\n",
       "      <td>33.702414</td>\n",
       "      <td>31.537696</td>\n",
       "      <td>30.268724</td>\n",
       "      <td>4.491167</td>\n",
       "    </tr>\n",
       "  </tbody>\n",
       "</table>\n",
       "</div>"
      ],
      "text/plain": [
       "Attribute                                                             Percent of adults completing some college or associate's degree, 2017-21  \\\n",
       "Federal Information Processing Standard (FIPS) ... Area name                                                                                     \n",
       "30001                                              Beaverhead County                                          33.338568                          \n",
       "30003                                              Big Horn County                                            36.061828                          \n",
       "30005                                              Blaine County                                              39.347363                          \n",
       "30007                                              Broadwater County                                          42.845082                          \n",
       "30009                                              Carbon County                                              33.702414                          \n",
       "\n",
       "Attribute                                                             Percent of adults with a bachelor's degree or higher, 2017-21  \\\n",
       "Federal Information Processing Standard (FIPS) ... Area name                                                                          \n",
       "30001                                              Beaverhead County                                          33.134422               \n",
       "30003                                              Big Horn County                                            19.448925               \n",
       "30005                                              Blaine County                                              24.686687               \n",
       "30007                                              Broadwater County                                          23.533136               \n",
       "30009                                              Carbon County                                              31.537696               \n",
       "\n",
       "Attribute                                                             Percent of adults with a high school diploma only, 2017-21  \\\n",
       "Federal Information Processing Standard (FIPS) ... Area name                                                                       \n",
       "30001                                              Beaverhead County                                          28.062186            \n",
       "30003                                              Big Horn County                                            33.884409            \n",
       "30005                                              Blaine County                                              26.649326            \n",
       "30007                                              Broadwater County                                          26.530182            \n",
       "30009                                              Carbon County                                              30.268724            \n",
       "\n",
       "Attribute                                                             Percent of adults with less than a high school diploma, 2017-21  \n",
       "Federal Information Processing Standard (FIPS) ... Area name                                                                           \n",
       "30001                                              Beaverhead County                                           5.464824                \n",
       "30003                                              Big Horn County                                            10.604839                \n",
       "30005                                              Blaine County                                               9.316623                \n",
       "30007                                              Broadwater County                                           7.091600                \n",
       "30009                                              Carbon County                                               4.491167                "
      ]
     },
     "execution_count": 7,
     "metadata": {},
     "output_type": "execute_result"
    }
   ],
   "source": [
    "educ_low5_t.head()"
   ]
  },
  {
   "cell_type": "markdown",
   "metadata": {},
   "source": [
    "### Population"
   ]
  },
  {
   "cell_type": "markdown",
   "metadata": {},
   "source": [
    "The only relevant KPI from this dataframe is the most recent (2022) population figure (\"POP_ESTIMATE_2022\"). Besides that (and a different variable naming), the procedure is the same as for the education dataframe."
   ]
  },
  {
   "cell_type": "code",
   "execution_count": 8,
   "metadata": {},
   "outputs": [],
   "source": [
    "pop_low5 = pop_raw[(pop_raw[\"State\"].isin(states)) &\n",
    "                   (pop_raw[\"Attribute\"].str.contains(\"POP_ESTIMATE_2022\")) &\n",
    "                   (pop_raw[\"Area_Name\"].str.contains(\"County\"))]\n",
    "\n",
    "pop_low5_t = pop_low5.pivot(index = [\"FIPStxt\", \"Area_Name\"],columns=\"Attribute\", values=\"Value\")"
   ]
  },
  {
   "cell_type": "code",
   "execution_count": 9,
   "metadata": {},
   "outputs": [
    {
     "data": {
      "text/html": [
       "<div>\n",
       "<style scoped>\n",
       "    .dataframe tbody tr th:only-of-type {\n",
       "        vertical-align: middle;\n",
       "    }\n",
       "\n",
       "    .dataframe tbody tr th {\n",
       "        vertical-align: top;\n",
       "    }\n",
       "\n",
       "    .dataframe thead th {\n",
       "        text-align: right;\n",
       "    }\n",
       "</style>\n",
       "<table border=\"1\" class=\"dataframe\">\n",
       "  <thead>\n",
       "    <tr style=\"text-align: right;\">\n",
       "      <th></th>\n",
       "      <th>Attribute</th>\n",
       "      <th>POP_ESTIMATE_2022</th>\n",
       "    </tr>\n",
       "    <tr>\n",
       "      <th>FIPStxt</th>\n",
       "      <th>Area_Name</th>\n",
       "      <th></th>\n",
       "    </tr>\n",
       "  </thead>\n",
       "  <tbody>\n",
       "    <tr>\n",
       "      <th>30001</th>\n",
       "      <th>Beaverhead County</th>\n",
       "      <td>9719.0</td>\n",
       "    </tr>\n",
       "    <tr>\n",
       "      <th>30003</th>\n",
       "      <th>Big Horn County</th>\n",
       "      <td>12851.0</td>\n",
       "    </tr>\n",
       "    <tr>\n",
       "      <th>30005</th>\n",
       "      <th>Blaine County</th>\n",
       "      <td>6936.0</td>\n",
       "    </tr>\n",
       "    <tr>\n",
       "      <th>30007</th>\n",
       "      <th>Broadwater County</th>\n",
       "      <td>7793.0</td>\n",
       "    </tr>\n",
       "    <tr>\n",
       "      <th>30009</th>\n",
       "      <th>Carbon County</th>\n",
       "      <td>11179.0</td>\n",
       "    </tr>\n",
       "  </tbody>\n",
       "</table>\n",
       "</div>"
      ],
      "text/plain": [
       "Attribute                  POP_ESTIMATE_2022\n",
       "FIPStxt Area_Name                           \n",
       "30001   Beaverhead County             9719.0\n",
       "30003   Big Horn County              12851.0\n",
       "30005   Blaine County                 6936.0\n",
       "30007   Broadwater County             7793.0\n",
       "30009   Carbon County                11179.0"
      ]
     },
     "execution_count": 9,
     "metadata": {},
     "output_type": "execute_result"
    }
   ],
   "source": [
    "pop_low5_t.head()"
   ]
  },
  {
   "cell_type": "markdown",
   "metadata": {},
   "source": [
    "### Poverty"
   ]
  },
  {
   "cell_type": "markdown",
   "metadata": {},
   "source": [
    "The variable of interest in this dataframe is \"PCTPOVALL_2021\", which is the estimation of people living in poverty among all people in the county. The procedure is the same as for the education dataframe."
   ]
  },
  {
   "cell_type": "code",
   "execution_count": 10,
   "metadata": {},
   "outputs": [],
   "source": [
    "pov_low5 = pov_raw[(pov_raw[\"Stabr\"].isin(states)) &\n",
    "                   (pov_raw[\"Attribute\"].str.contains(\"PCTPOVALL_2021\")) &\n",
    "                   (pov_raw[\"Area_name\"].str.contains(\"County\"))]\n",
    "\n",
    "pov_low5_t = pov_low5.pivot(index = [\"FIPS_Code\", \"Area_name\"],columns=\"Attribute\", values=\"Value\")"
   ]
  },
  {
   "cell_type": "code",
   "execution_count": 11,
   "metadata": {},
   "outputs": [
    {
     "data": {
      "text/html": [
       "<div>\n",
       "<style scoped>\n",
       "    .dataframe tbody tr th:only-of-type {\n",
       "        vertical-align: middle;\n",
       "    }\n",
       "\n",
       "    .dataframe tbody tr th {\n",
       "        vertical-align: top;\n",
       "    }\n",
       "\n",
       "    .dataframe thead th {\n",
       "        text-align: right;\n",
       "    }\n",
       "</style>\n",
       "<table border=\"1\" class=\"dataframe\">\n",
       "  <thead>\n",
       "    <tr style=\"text-align: right;\">\n",
       "      <th></th>\n",
       "      <th>Attribute</th>\n",
       "      <th>PCTPOVALL_2021</th>\n",
       "    </tr>\n",
       "    <tr>\n",
       "      <th>FIPS_Code</th>\n",
       "      <th>Area_name</th>\n",
       "      <th></th>\n",
       "    </tr>\n",
       "  </thead>\n",
       "  <tbody>\n",
       "    <tr>\n",
       "      <th>30001</th>\n",
       "      <th>Beaverhead County</th>\n",
       "      <td>12.7</td>\n",
       "    </tr>\n",
       "    <tr>\n",
       "      <th>30003</th>\n",
       "      <th>Big Horn County</th>\n",
       "      <td>25.7</td>\n",
       "    </tr>\n",
       "    <tr>\n",
       "      <th>30005</th>\n",
       "      <th>Blaine County</th>\n",
       "      <td>18.9</td>\n",
       "    </tr>\n",
       "    <tr>\n",
       "      <th>30007</th>\n",
       "      <th>Broadwater County</th>\n",
       "      <td>8.6</td>\n",
       "    </tr>\n",
       "    <tr>\n",
       "      <th>30009</th>\n",
       "      <th>Carbon County</th>\n",
       "      <td>9.2</td>\n",
       "    </tr>\n",
       "  </tbody>\n",
       "</table>\n",
       "</div>"
      ],
      "text/plain": [
       "Attribute                    PCTPOVALL_2021\n",
       "FIPS_Code Area_name                        \n",
       "30001     Beaverhead County            12.7\n",
       "30003     Big Horn County              25.7\n",
       "30005     Blaine County                18.9\n",
       "30007     Broadwater County             8.6\n",
       "30009     Carbon County                 9.2"
      ]
     },
     "execution_count": 11,
     "metadata": {},
     "output_type": "execute_result"
    }
   ],
   "source": [
    "pov_low5_t.head()"
   ]
  },
  {
   "cell_type": "markdown",
   "metadata": {},
   "source": [
    "### Unemployment"
   ]
  },
  {
   "cell_type": "markdown",
   "metadata": {},
   "source": [
    "The unemployment dataframe contains two values of interest per county: The unemployment rate (for the sake of this analysis, the most recent figures from 2022 - \"Unemployment_rate_2022\" is used) and the median household income (\"Median_Household_Income_2022\"). The procedure is the same as for the previous dataframes. "
   ]
  },
  {
   "cell_type": "code",
   "execution_count": 12,
   "metadata": {},
   "outputs": [],
   "source": [
    "unemp_low5 = unemp_raw[(unemp_raw[\"State\"].isin(states)) &\n",
    "                       (unemp_raw[\"Attribute\"].isin([\"Unemployment_rate_2022\", \"Median_Household_Income_2021\"])) &\n",
    "                       (unemp_raw[\"Area_Name\"].str.contains(\"County\"))]\n",
    "\n",
    "unemp_low5_t = unemp_low5.pivot(index = [\"FIPS_Code\", \"Area_Name\"],columns=\"Attribute\", values=\"Value\")"
   ]
  },
  {
   "cell_type": "code",
   "execution_count": 13,
   "metadata": {},
   "outputs": [
    {
     "data": {
      "text/html": [
       "<div>\n",
       "<style scoped>\n",
       "    .dataframe tbody tr th:only-of-type {\n",
       "        vertical-align: middle;\n",
       "    }\n",
       "\n",
       "    .dataframe tbody tr th {\n",
       "        vertical-align: top;\n",
       "    }\n",
       "\n",
       "    .dataframe thead th {\n",
       "        text-align: right;\n",
       "    }\n",
       "</style>\n",
       "<table border=\"1\" class=\"dataframe\">\n",
       "  <thead>\n",
       "    <tr style=\"text-align: right;\">\n",
       "      <th></th>\n",
       "      <th>Attribute</th>\n",
       "      <th>Median_Household_Income_2021</th>\n",
       "      <th>Unemployment_rate_2022</th>\n",
       "    </tr>\n",
       "    <tr>\n",
       "      <th>FIPS_Code</th>\n",
       "      <th>Area_Name</th>\n",
       "      <th></th>\n",
       "      <th></th>\n",
       "    </tr>\n",
       "  </thead>\n",
       "  <tbody>\n",
       "    <tr>\n",
       "      <th>30001</th>\n",
       "      <th>Beaverhead County, MT</th>\n",
       "      <td>53776.0</td>\n",
       "      <td>2.3</td>\n",
       "    </tr>\n",
       "    <tr>\n",
       "      <th>30003</th>\n",
       "      <th>Big Horn County, MT</th>\n",
       "      <td>47179.0</td>\n",
       "      <td>4.4</td>\n",
       "    </tr>\n",
       "    <tr>\n",
       "      <th>30005</th>\n",
       "      <th>Blaine County, MT</th>\n",
       "      <td>46335.0</td>\n",
       "      <td>3.1</td>\n",
       "    </tr>\n",
       "    <tr>\n",
       "      <th>30007</th>\n",
       "      <th>Broadwater County, MT</th>\n",
       "      <td>66307.0</td>\n",
       "      <td>3.4</td>\n",
       "    </tr>\n",
       "    <tr>\n",
       "      <th>30009</th>\n",
       "      <th>Carbon County, MT</th>\n",
       "      <td>62841.0</td>\n",
       "      <td>2.6</td>\n",
       "    </tr>\n",
       "  </tbody>\n",
       "</table>\n",
       "</div>"
      ],
      "text/plain": [
       "Attribute                        Median_Household_Income_2021  \\\n",
       "FIPS_Code Area_Name                                             \n",
       "30001     Beaverhead County, MT                       53776.0   \n",
       "30003     Big Horn County, MT                         47179.0   \n",
       "30005     Blaine County, MT                           46335.0   \n",
       "30007     Broadwater County, MT                       66307.0   \n",
       "30009     Carbon County, MT                           62841.0   \n",
       "\n",
       "Attribute                        Unemployment_rate_2022  \n",
       "FIPS_Code Area_Name                                      \n",
       "30001     Beaverhead County, MT                     2.3  \n",
       "30003     Big Horn County, MT                       4.4  \n",
       "30005     Blaine County, MT                         3.1  \n",
       "30007     Broadwater County, MT                     3.4  \n",
       "30009     Carbon County, MT                         2.6  "
      ]
     },
     "execution_count": 13,
     "metadata": {},
     "output_type": "execute_result"
    }
   ],
   "source": [
    "unemp_low5_t.head()"
   ]
  },
  {
   "cell_type": "markdown",
   "metadata": {},
   "source": [
    "## Check completeness"
   ]
  },
  {
   "cell_type": "markdown",
   "metadata": {},
   "source": [
    "Checking if there are data available for all counties"
   ]
  },
  {
   "cell_type": "code",
   "execution_count": 14,
   "metadata": {},
   "outputs": [
    {
     "name": "stdout",
     "output_type": "stream",
     "text": [
      "(405, 4) (405, 1) (405, 1) (405, 2)\n"
     ]
    }
   ],
   "source": [
    "print(educ_low5_t.shape, pop_low5_t.shape, pov_low5_t.shape, unemp_low5_t.shape)"
   ]
  },
  {
   "cell_type": "code",
   "execution_count": 15,
   "metadata": {},
   "outputs": [
    {
     "name": "stdout",
     "output_type": "stream",
     "text": [
      "Attribute\n",
      "Percent of adults completing some college or associate's degree, 2017-21    0\n",
      "Percent of adults with a bachelor's degree or higher, 2017-21               0\n",
      "Percent of adults with a high school diploma only, 2017-21                  0\n",
      "Percent of adults with less than a high school diploma, 2017-21             0\n",
      "dtype: int64 \n",
      " Attribute\n",
      "POP_ESTIMATE_2022    0\n",
      "dtype: int64 \n",
      " Attribute\n",
      "PCTPOVALL_2021    0\n",
      "dtype: int64 \n",
      " Attribute\n",
      "Median_Household_Income_2021    0\n",
      "Unemployment_rate_2022          0\n",
      "dtype: int64\n"
     ]
    }
   ],
   "source": [
    "print(educ_low5_t.isna().sum(), \"\\n\", pop_low5_t.isna().sum(), \"\\n\", pov_low5_t.isna().sum(), \"\\n\", unemp_low5_t.isna().sum())"
   ]
  },
  {
   "cell_type": "markdown",
   "metadata": {},
   "source": [
    "## Merging"
   ]
  },
  {
   "cell_type": "markdown",
   "metadata": {},
   "source": [
    "In order to create one dataframe containing all information, the dataframes are merged based on their indices. As the indices are named differently and multiindexing is used, the indices are renamed to match the FIPS code and county name of the main dataframe by overwriting the indices of all dataframes with the indices of the education dataframes. This is only possible as we have already checked for completeness of the data and have ensured that all index values and their order are identical (albeit named differently). The resulting dataframe holds all information in a unified format, structured by FIPS code and county name."
   ]
  },
  {
   "cell_type": "code",
   "execution_count": 17,
   "metadata": {},
   "outputs": [],
   "source": [
    "pop_low5_t.index = educ_low5_t.index\n",
    "pov_low5_t.index = educ_low5_t.index\n",
    "unemp_low5_t.index = educ_low5_t.index"
   ]
  },
  {
   "cell_type": "code",
   "execution_count": 18,
   "metadata": {},
   "outputs": [],
   "source": [
    "# Merge the dataframes based on the first item of the index\n",
    "low5_geo = educ_low5_t.merge(pop_low5_t, left_index = True, right_index = True, how = \"inner\")\n",
    "low5_geo = low5_geo.merge(pov_low5_t, left_index = True, right_index = True, how = \"inner\")\n",
    "low5_geo = low5_geo.merge(unemp_low5_t, left_index = True, right_index = True, how = \"inner\")"
   ]
  },
  {
   "cell_type": "code",
   "execution_count": 19,
   "metadata": {},
   "outputs": [
    {
     "data": {
      "text/html": [
       "<div>\n",
       "<style scoped>\n",
       "    .dataframe tbody tr th:only-of-type {\n",
       "        vertical-align: middle;\n",
       "    }\n",
       "\n",
       "    .dataframe tbody tr th {\n",
       "        vertical-align: top;\n",
       "    }\n",
       "\n",
       "    .dataframe thead th {\n",
       "        text-align: right;\n",
       "    }\n",
       "</style>\n",
       "<table border=\"1\" class=\"dataframe\">\n",
       "  <thead>\n",
       "    <tr style=\"text-align: right;\">\n",
       "      <th></th>\n",
       "      <th>Attribute</th>\n",
       "      <th>Percent of adults completing some college or associate's degree, 2017-21</th>\n",
       "      <th>Percent of adults with a bachelor's degree or higher, 2017-21</th>\n",
       "      <th>Percent of adults with a high school diploma only, 2017-21</th>\n",
       "      <th>Percent of adults with less than a high school diploma, 2017-21</th>\n",
       "      <th>POP_ESTIMATE_2022</th>\n",
       "      <th>PCTPOVALL_2021</th>\n",
       "      <th>Median_Household_Income_2021</th>\n",
       "      <th>Unemployment_rate_2022</th>\n",
       "    </tr>\n",
       "    <tr>\n",
       "      <th>Federal Information Processing Standard (FIPS) Code</th>\n",
       "      <th>Area name</th>\n",
       "      <th></th>\n",
       "      <th></th>\n",
       "      <th></th>\n",
       "      <th></th>\n",
       "      <th></th>\n",
       "      <th></th>\n",
       "      <th></th>\n",
       "      <th></th>\n",
       "    </tr>\n",
       "  </thead>\n",
       "  <tbody>\n",
       "    <tr>\n",
       "      <th>30001</th>\n",
       "      <th>Beaverhead County</th>\n",
       "      <td>33.338568</td>\n",
       "      <td>33.134422</td>\n",
       "      <td>28.062186</td>\n",
       "      <td>5.464824</td>\n",
       "      <td>9719.0</td>\n",
       "      <td>12.7</td>\n",
       "      <td>53776.0</td>\n",
       "      <td>2.3</td>\n",
       "    </tr>\n",
       "    <tr>\n",
       "      <th>30003</th>\n",
       "      <th>Big Horn County</th>\n",
       "      <td>36.061828</td>\n",
       "      <td>19.448925</td>\n",
       "      <td>33.884409</td>\n",
       "      <td>10.604839</td>\n",
       "      <td>12851.0</td>\n",
       "      <td>25.7</td>\n",
       "      <td>47179.0</td>\n",
       "      <td>4.4</td>\n",
       "    </tr>\n",
       "    <tr>\n",
       "      <th>30005</th>\n",
       "      <th>Blaine County</th>\n",
       "      <td>39.347363</td>\n",
       "      <td>24.686687</td>\n",
       "      <td>26.649326</td>\n",
       "      <td>9.316623</td>\n",
       "      <td>6936.0</td>\n",
       "      <td>18.9</td>\n",
       "      <td>46335.0</td>\n",
       "      <td>3.1</td>\n",
       "    </tr>\n",
       "    <tr>\n",
       "      <th>30007</th>\n",
       "      <th>Broadwater County</th>\n",
       "      <td>42.845082</td>\n",
       "      <td>23.533136</td>\n",
       "      <td>26.530182</td>\n",
       "      <td>7.091600</td>\n",
       "      <td>7793.0</td>\n",
       "      <td>8.6</td>\n",
       "      <td>66307.0</td>\n",
       "      <td>3.4</td>\n",
       "    </tr>\n",
       "    <tr>\n",
       "      <th>30009</th>\n",
       "      <th>Carbon County</th>\n",
       "      <td>33.702414</td>\n",
       "      <td>31.537696</td>\n",
       "      <td>30.268724</td>\n",
       "      <td>4.491167</td>\n",
       "      <td>11179.0</td>\n",
       "      <td>9.2</td>\n",
       "      <td>62841.0</td>\n",
       "      <td>2.6</td>\n",
       "    </tr>\n",
       "  </tbody>\n",
       "</table>\n",
       "</div>"
      ],
      "text/plain": [
       "Attribute                                                             Percent of adults completing some college or associate's degree, 2017-21  \\\n",
       "Federal Information Processing Standard (FIPS) ... Area name                                                                                     \n",
       "30001                                              Beaverhead County                                          33.338568                          \n",
       "30003                                              Big Horn County                                            36.061828                          \n",
       "30005                                              Blaine County                                              39.347363                          \n",
       "30007                                              Broadwater County                                          42.845082                          \n",
       "30009                                              Carbon County                                              33.702414                          \n",
       "\n",
       "Attribute                                                             Percent of adults with a bachelor's degree or higher, 2017-21  \\\n",
       "Federal Information Processing Standard (FIPS) ... Area name                                                                          \n",
       "30001                                              Beaverhead County                                          33.134422               \n",
       "30003                                              Big Horn County                                            19.448925               \n",
       "30005                                              Blaine County                                              24.686687               \n",
       "30007                                              Broadwater County                                          23.533136               \n",
       "30009                                              Carbon County                                              31.537696               \n",
       "\n",
       "Attribute                                                             Percent of adults with a high school diploma only, 2017-21  \\\n",
       "Federal Information Processing Standard (FIPS) ... Area name                                                                       \n",
       "30001                                              Beaverhead County                                          28.062186            \n",
       "30003                                              Big Horn County                                            33.884409            \n",
       "30005                                              Blaine County                                              26.649326            \n",
       "30007                                              Broadwater County                                          26.530182            \n",
       "30009                                              Carbon County                                              30.268724            \n",
       "\n",
       "Attribute                                                             Percent of adults with less than a high school diploma, 2017-21  \\\n",
       "Federal Information Processing Standard (FIPS) ... Area name                                                                            \n",
       "30001                                              Beaverhead County                                           5.464824                 \n",
       "30003                                              Big Horn County                                            10.604839                 \n",
       "30005                                              Blaine County                                               9.316623                 \n",
       "30007                                              Broadwater County                                           7.091600                 \n",
       "30009                                              Carbon County                                               4.491167                 \n",
       "\n",
       "Attribute                                                             POP_ESTIMATE_2022  \\\n",
       "Federal Information Processing Standard (FIPS) ... Area name                              \n",
       "30001                                              Beaverhead County             9719.0   \n",
       "30003                                              Big Horn County              12851.0   \n",
       "30005                                              Blaine County                 6936.0   \n",
       "30007                                              Broadwater County             7793.0   \n",
       "30009                                              Carbon County                11179.0   \n",
       "\n",
       "Attribute                                                             PCTPOVALL_2021  \\\n",
       "Federal Information Processing Standard (FIPS) ... Area name                           \n",
       "30001                                              Beaverhead County            12.7   \n",
       "30003                                              Big Horn County              25.7   \n",
       "30005                                              Blaine County                18.9   \n",
       "30007                                              Broadwater County             8.6   \n",
       "30009                                              Carbon County                 9.2   \n",
       "\n",
       "Attribute                                                             Median_Household_Income_2021  \\\n",
       "Federal Information Processing Standard (FIPS) ... Area name                                         \n",
       "30001                                              Beaverhead County                       53776.0   \n",
       "30003                                              Big Horn County                         47179.0   \n",
       "30005                                              Blaine County                           46335.0   \n",
       "30007                                              Broadwater County                       66307.0   \n",
       "30009                                              Carbon County                           62841.0   \n",
       "\n",
       "Attribute                                                             Unemployment_rate_2022  \n",
       "Federal Information Processing Standard (FIPS) ... Area name                                  \n",
       "30001                                              Beaverhead County                     2.3  \n",
       "30003                                              Big Horn County                       4.4  \n",
       "30005                                              Blaine County                         3.1  \n",
       "30007                                              Broadwater County                     3.4  \n",
       "30009                                              Carbon County                         2.6  "
      ]
     },
     "execution_count": 19,
     "metadata": {},
     "output_type": "execute_result"
    }
   ],
   "source": [
    "low5_geo.head()"
   ]
  },
  {
   "cell_type": "markdown",
   "metadata": {},
   "source": [
    "## Renaming"
   ]
  },
  {
   "cell_type": "markdown",
   "metadata": {},
   "source": [
    "The columns are renamed to reflect the KPIs they contain."
   ]
  },
  {
   "cell_type": "code",
   "execution_count": 20,
   "metadata": {},
   "outputs": [],
   "source": [
    "low5_geo.index.names = [\"FIPS\", \"County\"]\n",
    "low5_geo.columns = [\"percentage_college_degree\", \"percentage_bachelor_or_higher\", \"percentage_high_school\", \"percentage_less_than_high_school\", \"population\", \"poverty_rate\", \"median_household_income\", \"unemployment_rate\"]"
   ]
  },
  {
   "cell_type": "code",
   "execution_count": 21,
   "metadata": {},
   "outputs": [
    {
     "data": {
      "text/html": [
       "<div>\n",
       "<style scoped>\n",
       "    .dataframe tbody tr th:only-of-type {\n",
       "        vertical-align: middle;\n",
       "    }\n",
       "\n",
       "    .dataframe tbody tr th {\n",
       "        vertical-align: top;\n",
       "    }\n",
       "\n",
       "    .dataframe thead th {\n",
       "        text-align: right;\n",
       "    }\n",
       "</style>\n",
       "<table border=\"1\" class=\"dataframe\">\n",
       "  <thead>\n",
       "    <tr style=\"text-align: right;\">\n",
       "      <th></th>\n",
       "      <th></th>\n",
       "      <th>percentage_college_degree</th>\n",
       "      <th>percentage_bachelor_or_higher</th>\n",
       "      <th>percentage_high_school</th>\n",
       "      <th>percentage_less_than_high_school</th>\n",
       "      <th>population</th>\n",
       "      <th>poverty_rate</th>\n",
       "      <th>median_household_income</th>\n",
       "      <th>unemployment_rate</th>\n",
       "    </tr>\n",
       "    <tr>\n",
       "      <th>FIPS</th>\n",
       "      <th>County</th>\n",
       "      <th></th>\n",
       "      <th></th>\n",
       "      <th></th>\n",
       "      <th></th>\n",
       "      <th></th>\n",
       "      <th></th>\n",
       "      <th></th>\n",
       "      <th></th>\n",
       "    </tr>\n",
       "  </thead>\n",
       "  <tbody>\n",
       "    <tr>\n",
       "      <th>30001</th>\n",
       "      <th>Beaverhead County</th>\n",
       "      <td>33.338568</td>\n",
       "      <td>33.134422</td>\n",
       "      <td>28.062186</td>\n",
       "      <td>5.464824</td>\n",
       "      <td>9719.0</td>\n",
       "      <td>12.7</td>\n",
       "      <td>53776.0</td>\n",
       "      <td>2.3</td>\n",
       "    </tr>\n",
       "    <tr>\n",
       "      <th>30003</th>\n",
       "      <th>Big Horn County</th>\n",
       "      <td>36.061828</td>\n",
       "      <td>19.448925</td>\n",
       "      <td>33.884409</td>\n",
       "      <td>10.604839</td>\n",
       "      <td>12851.0</td>\n",
       "      <td>25.7</td>\n",
       "      <td>47179.0</td>\n",
       "      <td>4.4</td>\n",
       "    </tr>\n",
       "    <tr>\n",
       "      <th>30005</th>\n",
       "      <th>Blaine County</th>\n",
       "      <td>39.347363</td>\n",
       "      <td>24.686687</td>\n",
       "      <td>26.649326</td>\n",
       "      <td>9.316623</td>\n",
       "      <td>6936.0</td>\n",
       "      <td>18.9</td>\n",
       "      <td>46335.0</td>\n",
       "      <td>3.1</td>\n",
       "    </tr>\n",
       "    <tr>\n",
       "      <th>30007</th>\n",
       "      <th>Broadwater County</th>\n",
       "      <td>42.845082</td>\n",
       "      <td>23.533136</td>\n",
       "      <td>26.530182</td>\n",
       "      <td>7.091600</td>\n",
       "      <td>7793.0</td>\n",
       "      <td>8.6</td>\n",
       "      <td>66307.0</td>\n",
       "      <td>3.4</td>\n",
       "    </tr>\n",
       "    <tr>\n",
       "      <th>30009</th>\n",
       "      <th>Carbon County</th>\n",
       "      <td>33.702414</td>\n",
       "      <td>31.537696</td>\n",
       "      <td>30.268724</td>\n",
       "      <td>4.491167</td>\n",
       "      <td>11179.0</td>\n",
       "      <td>9.2</td>\n",
       "      <td>62841.0</td>\n",
       "      <td>2.6</td>\n",
       "    </tr>\n",
       "  </tbody>\n",
       "</table>\n",
       "</div>"
      ],
      "text/plain": [
       "                         percentage_college_degree  \\\n",
       "FIPS  County                                         \n",
       "30001 Beaverhead County                  33.338568   \n",
       "30003 Big Horn County                    36.061828   \n",
       "30005 Blaine County                      39.347363   \n",
       "30007 Broadwater County                  42.845082   \n",
       "30009 Carbon County                      33.702414   \n",
       "\n",
       "                         percentage_bachelor_or_higher  \\\n",
       "FIPS  County                                             \n",
       "30001 Beaverhead County                      33.134422   \n",
       "30003 Big Horn County                        19.448925   \n",
       "30005 Blaine County                          24.686687   \n",
       "30007 Broadwater County                      23.533136   \n",
       "30009 Carbon County                          31.537696   \n",
       "\n",
       "                         percentage_high_school  \\\n",
       "FIPS  County                                      \n",
       "30001 Beaverhead County               28.062186   \n",
       "30003 Big Horn County                 33.884409   \n",
       "30005 Blaine County                   26.649326   \n",
       "30007 Broadwater County               26.530182   \n",
       "30009 Carbon County                   30.268724   \n",
       "\n",
       "                         percentage_less_than_high_school  population  \\\n",
       "FIPS  County                                                            \n",
       "30001 Beaverhead County                          5.464824      9719.0   \n",
       "30003 Big Horn County                           10.604839     12851.0   \n",
       "30005 Blaine County                              9.316623      6936.0   \n",
       "30007 Broadwater County                          7.091600      7793.0   \n",
       "30009 Carbon County                              4.491167     11179.0   \n",
       "\n",
       "                         poverty_rate  median_household_income  \\\n",
       "FIPS  County                                                     \n",
       "30001 Beaverhead County          12.7                  53776.0   \n",
       "30003 Big Horn County            25.7                  47179.0   \n",
       "30005 Blaine County              18.9                  46335.0   \n",
       "30007 Broadwater County           8.6                  66307.0   \n",
       "30009 Carbon County               9.2                  62841.0   \n",
       "\n",
       "                         unemployment_rate  \n",
       "FIPS  County                                \n",
       "30001 Beaverhead County                2.3  \n",
       "30003 Big Horn County                  4.4  \n",
       "30005 Blaine County                    3.1  \n",
       "30007 Broadwater County                3.4  \n",
       "30009 Carbon County                    2.6  "
      ]
     },
     "execution_count": 21,
     "metadata": {},
     "output_type": "execute_result"
    }
   ],
   "source": [
    "low5_geo.head()"
   ]
  },
  {
   "cell_type": "code",
   "execution_count": 22,
   "metadata": {},
   "outputs": [
    {
     "data": {
      "text/html": [
       "<div>\n",
       "<style scoped>\n",
       "    .dataframe tbody tr th:only-of-type {\n",
       "        vertical-align: middle;\n",
       "    }\n",
       "\n",
       "    .dataframe tbody tr th {\n",
       "        vertical-align: top;\n",
       "    }\n",
       "\n",
       "    .dataframe thead th {\n",
       "        text-align: right;\n",
       "    }\n",
       "</style>\n",
       "<table border=\"1\" class=\"dataframe\">\n",
       "  <thead>\n",
       "    <tr style=\"text-align: right;\">\n",
       "      <th></th>\n",
       "      <th>percentage_college_degree</th>\n",
       "      <th>percentage_bachelor_or_higher</th>\n",
       "      <th>percentage_high_school</th>\n",
       "      <th>percentage_less_than_high_school</th>\n",
       "      <th>population</th>\n",
       "      <th>poverty_rate</th>\n",
       "      <th>median_household_income</th>\n",
       "      <th>unemployment_rate</th>\n",
       "    </tr>\n",
       "  </thead>\n",
       "  <tbody>\n",
       "    <tr>\n",
       "      <th>count</th>\n",
       "      <td>405.000000</td>\n",
       "      <td>405.000000</td>\n",
       "      <td>405.000000</td>\n",
       "      <td>405.000000</td>\n",
       "      <td>4.050000e+02</td>\n",
       "      <td>405.000000</td>\n",
       "      <td>405.000000</td>\n",
       "      <td>405.000000</td>\n",
       "    </tr>\n",
       "    <tr>\n",
       "      <th>mean</th>\n",
       "      <td>31.666285</td>\n",
       "      <td>22.221600</td>\n",
       "      <td>31.994679</td>\n",
       "      <td>14.117436</td>\n",
       "      <td>8.751374e+04</td>\n",
       "      <td>14.965926</td>\n",
       "      <td>57872.422222</td>\n",
       "      <td>3.493580</td>\n",
       "    </tr>\n",
       "    <tr>\n",
       "      <th>std</th>\n",
       "      <td>5.931436</td>\n",
       "      <td>8.469357</td>\n",
       "      <td>6.161586</td>\n",
       "      <td>8.520265</td>\n",
       "      <td>3.407628e+05</td>\n",
       "      <td>5.816758</td>\n",
       "      <td>13992.793757</td>\n",
       "      <td>1.244178</td>\n",
       "    </tr>\n",
       "    <tr>\n",
       "      <th>min</th>\n",
       "      <td>0.000000</td>\n",
       "      <td>0.000000</td>\n",
       "      <td>12.929543</td>\n",
       "      <td>0.602410</td>\n",
       "      <td>5.100000e+01</td>\n",
       "      <td>3.900000</td>\n",
       "      <td>25653.000000</td>\n",
       "      <td>0.600000</td>\n",
       "    </tr>\n",
       "    <tr>\n",
       "      <th>25%</th>\n",
       "      <td>28.900225</td>\n",
       "      <td>16.673020</td>\n",
       "      <td>28.535980</td>\n",
       "      <td>8.253359</td>\n",
       "      <td>4.500000e+03</td>\n",
       "      <td>11.100000</td>\n",
       "      <td>48438.000000</td>\n",
       "      <td>2.600000</td>\n",
       "    </tr>\n",
       "    <tr>\n",
       "      <th>50%</th>\n",
       "      <td>31.907108</td>\n",
       "      <td>20.758483</td>\n",
       "      <td>32.655595</td>\n",
       "      <td>12.551176</td>\n",
       "      <td>1.241800e+04</td>\n",
       "      <td>14.200000</td>\n",
       "      <td>55435.000000</td>\n",
       "      <td>3.400000</td>\n",
       "    </tr>\n",
       "    <tr>\n",
       "      <th>75%</th>\n",
       "      <td>34.481370</td>\n",
       "      <td>26.149103</td>\n",
       "      <td>36.091470</td>\n",
       "      <td>18.334580</td>\n",
       "      <td>3.837300e+04</td>\n",
       "      <td>17.300000</td>\n",
       "      <td>63639.000000</td>\n",
       "      <td>4.200000</td>\n",
       "    </tr>\n",
       "    <tr>\n",
       "      <th>max</th>\n",
       "      <td>76.923077</td>\n",
       "      <td>55.169506</td>\n",
       "      <td>46.583851</td>\n",
       "      <td>81.553398</td>\n",
       "      <td>4.780913e+06</td>\n",
       "      <td>43.500000</td>\n",
       "      <td>124354.000000</td>\n",
       "      <td>11.000000</td>\n",
       "    </tr>\n",
       "  </tbody>\n",
       "</table>\n",
       "</div>"
      ],
      "text/plain": [
       "       percentage_college_degree  percentage_bachelor_or_higher  \\\n",
       "count                 405.000000                     405.000000   \n",
       "mean                   31.666285                      22.221600   \n",
       "std                     5.931436                       8.469357   \n",
       "min                     0.000000                       0.000000   \n",
       "25%                    28.900225                      16.673020   \n",
       "50%                    31.907108                      20.758483   \n",
       "75%                    34.481370                      26.149103   \n",
       "max                    76.923077                      55.169506   \n",
       "\n",
       "       percentage_high_school  percentage_less_than_high_school    population  \\\n",
       "count              405.000000                        405.000000  4.050000e+02   \n",
       "mean                31.994679                         14.117436  8.751374e+04   \n",
       "std                  6.161586                          8.520265  3.407628e+05   \n",
       "min                 12.929543                          0.602410  5.100000e+01   \n",
       "25%                 28.535980                          8.253359  4.500000e+03   \n",
       "50%                 32.655595                         12.551176  1.241800e+04   \n",
       "75%                 36.091470                         18.334580  3.837300e+04   \n",
       "max                 46.583851                         81.553398  4.780913e+06   \n",
       "\n",
       "       poverty_rate  median_household_income  unemployment_rate  \n",
       "count    405.000000               405.000000         405.000000  \n",
       "mean      14.965926             57872.422222           3.493580  \n",
       "std        5.816758             13992.793757           1.244178  \n",
       "min        3.900000             25653.000000           0.600000  \n",
       "25%       11.100000             48438.000000           2.600000  \n",
       "50%       14.200000             55435.000000           3.400000  \n",
       "75%       17.300000             63639.000000           4.200000  \n",
       "max       43.500000            124354.000000          11.000000  "
      ]
     },
     "execution_count": 22,
     "metadata": {},
     "output_type": "execute_result"
    }
   ],
   "source": [
    "low5_geo.describe()"
   ]
  },
  {
   "cell_type": "code",
   "execution_count": 23,
   "metadata": {},
   "outputs": [
    {
     "data": {
      "text/html": [
       "<div>\n",
       "<style scoped>\n",
       "    .dataframe tbody tr th:only-of-type {\n",
       "        vertical-align: middle;\n",
       "    }\n",
       "\n",
       "    .dataframe tbody tr th {\n",
       "        vertical-align: top;\n",
       "    }\n",
       "\n",
       "    .dataframe thead th {\n",
       "        text-align: right;\n",
       "    }\n",
       "</style>\n",
       "<table border=\"1\" class=\"dataframe\">\n",
       "  <thead>\n",
       "    <tr style=\"text-align: right;\">\n",
       "      <th></th>\n",
       "      <th>count</th>\n",
       "      <th>mean</th>\n",
       "      <th>std</th>\n",
       "      <th>min</th>\n",
       "      <th>max</th>\n",
       "    </tr>\n",
       "  </thead>\n",
       "  <tbody>\n",
       "    <tr>\n",
       "      <th>percentage_college_degree</th>\n",
       "      <td>405.00</td>\n",
       "      <td>31.67</td>\n",
       "      <td>5.93</td>\n",
       "      <td>0.00</td>\n",
       "      <td>76.92</td>\n",
       "    </tr>\n",
       "    <tr>\n",
       "      <th>percentage_bachelor_or_higher</th>\n",
       "      <td>405.00</td>\n",
       "      <td>22.22</td>\n",
       "      <td>8.47</td>\n",
       "      <td>0.00</td>\n",
       "      <td>55.17</td>\n",
       "    </tr>\n",
       "    <tr>\n",
       "      <th>percentage_high_school</th>\n",
       "      <td>405.00</td>\n",
       "      <td>31.99</td>\n",
       "      <td>6.16</td>\n",
       "      <td>12.93</td>\n",
       "      <td>46.58</td>\n",
       "    </tr>\n",
       "    <tr>\n",
       "      <th>percentage_less_than_high_school</th>\n",
       "      <td>405.00</td>\n",
       "      <td>14.12</td>\n",
       "      <td>8.52</td>\n",
       "      <td>0.60</td>\n",
       "      <td>81.55</td>\n",
       "    </tr>\n",
       "    <tr>\n",
       "      <th>population</th>\n",
       "      <td>405.00</td>\n",
       "      <td>87.51</td>\n",
       "      <td>340.76</td>\n",
       "      <td>0.05</td>\n",
       "      <td>4,780.91</td>\n",
       "    </tr>\n",
       "    <tr>\n",
       "      <th>poverty_rate</th>\n",
       "      <td>405.00</td>\n",
       "      <td>14.97</td>\n",
       "      <td>5.82</td>\n",
       "      <td>3.90</td>\n",
       "      <td>43.50</td>\n",
       "    </tr>\n",
       "    <tr>\n",
       "      <th>median_household_income</th>\n",
       "      <td>405.00</td>\n",
       "      <td>57.87</td>\n",
       "      <td>13.99</td>\n",
       "      <td>25.65</td>\n",
       "      <td>124.35</td>\n",
       "    </tr>\n",
       "    <tr>\n",
       "      <th>unemployment_rate</th>\n",
       "      <td>405.00</td>\n",
       "      <td>3.49</td>\n",
       "      <td>1.24</td>\n",
       "      <td>0.60</td>\n",
       "      <td>11.00</td>\n",
       "    </tr>\n",
       "  </tbody>\n",
       "</table>\n",
       "</div>"
      ],
      "text/plain": [
       "                                   count   mean     std    min       max\n",
       "percentage_college_degree         405.00  31.67    5.93   0.00     76.92\n",
       "percentage_bachelor_or_higher     405.00  22.22    8.47   0.00     55.17\n",
       "percentage_high_school            405.00  31.99    6.16  12.93     46.58\n",
       "percentage_less_than_high_school  405.00  14.12    8.52   0.60     81.55\n",
       "population                        405.00  87.51  340.76   0.05  4,780.91\n",
       "poverty_rate                      405.00  14.97    5.82   3.90     43.50\n",
       "median_household_income           405.00  57.87   13.99  25.65    124.35\n",
       "unemployment_rate                 405.00   3.49    1.24   0.60     11.00"
      ]
     },
     "execution_count": 23,
     "metadata": {},
     "output_type": "execute_result"
    }
   ],
   "source": [
    "low5_geo_k = low5_geo.copy()\n",
    "low5_geo_k[\"population\"] = low5_geo_k[\"population\"]/1000\n",
    "low5_geo_k[\"median_household_income\"] = low5_geo_k[\"median_household_income\"]/1000\n",
    "#print(np.round(low5_geo_k.describe(), 2).T[['count','mean', 'std', 'min', 'max']].applymap('{:,.2f}'.format).to_latex())\n",
    "np.round(low5_geo_k.describe(), 2).T[['count','mean', 'std', 'min', 'max']].applymap('{:,.2f}'.format)"
   ]
  },
  {
   "cell_type": "code",
   "execution_count": 24,
   "metadata": {},
   "outputs": [
    {
     "data": {
      "image/png": "[encoded data removed]",
      "text/plain": [
       "<Figure size 640x480 with 1 Axes>"
      ]
     },
     "metadata": {},
     "output_type": "display_data"
    },
    {
     "data": {
      "image/png": "[encoded data removed]",
      "text/plain": [
       "<Figure size 640x480 with 1 Axes>"
      ]
     },
     "metadata": {},
     "output_type": "display_data"
    },
    {
     "data": {
      "image/png": "[encoded data removed]",
      "text/plain": [
       "<Figure size 640x480 with 1 Axes>"
      ]
     },
     "metadata": {},
     "output_type": "display_data"
    },
    {
     "data": {
      "image/png": "[encoded data removed]",
      "text/plain": [
       "<Figure size 640x480 with 1 Axes>"
      ]
     },
     "metadata": {},
     "output_type": "display_data"
    },
    {
     "data": {
      "image/png": "[encoded data removed]",
      "text/plain": [
       "<Figure size 640x480 with 1 Axes>"
      ]
     },
     "metadata": {},
     "output_type": "display_data"
    },
    {
     "data": {
      "image/png": "[encoded data removed]",
      "text/plain": [
       "<Figure size 640x480 with 1 Axes>"
      ]
     },
     "metadata": {},
     "output_type": "display_data"
    },
    {
     "data": {
      "image/png": "[encoded data removed]",
      "text/plain": [
       "<Figure size 640x480 with 1 Axes>"
      ]
     },
     "metadata": {},
     "output_type": "display_data"
    },
    {
     "data": {
      "image/png": "[encoded data removed]",
      "text/plain": [
       "<Figure size 640x480 with 1 Axes>"
      ]
     },
     "metadata": {},
     "output_type": "display_data"
    }
   ],
   "source": [
    "import matplotlib.pyplot as plt\n",
    "\n",
    "for col in low5_geo.columns:\n",
    "    plt.hist(low5_geo[col])\n",
    "    plt.title(col)\n",
    "    plt.show()"
   ]
  },
  {
   "cell_type": "code",
   "execution_count": 25,
   "metadata": {},
   "outputs": [],
   "source": [
    "low5_geo.to_pickle(\"C:/Users/Hauke/OneDrive - ucp.pt/04_Thesis/00_GitHub/Thesis/data/processed/enrichment/low5_geo.pkl\")"
   ]
  },
  {
   "cell_type": "markdown",
   "metadata": {},
   "source": [
    "### Correlation Analysis"
   ]
  },
  {
   "cell_type": "markdown",
   "metadata": {},
   "source": [
    "As a high correlation between the KPIs is expected, a correlation matrix is created."
   ]
  },
  {
   "cell_type": "code",
   "execution_count": 26,
   "metadata": {},
   "outputs": [
    {
     "data": {
      "image/png": "[encoded data removed]",
      "text/plain": [
       "<Figure size 1000x1000 with 2 Axes>"
      ]
     },
     "metadata": {},
     "output_type": "display_data"
    }
   ],
   "source": [
    "import seaborn as sns\n",
    "\n",
    "plt.figure(figsize=(10, 10))\n",
    "sns.heatmap(low5_geo.corr(), annot=True, cmap=\"coolwarm\")\n",
    "plt.show()"
   ]
  }
 ],
 "metadata": {
  "kernelspec": {
   "display_name": "Python 3",
   "language": "python",
   "name": "python3"
  },
  "language_info": {
   "codemirror_mode": {
    "name": "ipython",
    "version": 3
   },
   "file_extension": ".py",
   "mimetype": "text/x-python",
   "name": "python",
   "nbconvert_exporter": "python",
   "pygments_lexer": "ipython3",
   "version": "3.11.0"
  }
 },
 "nbformat": 4,
 "nbformat_minor": 2
}
