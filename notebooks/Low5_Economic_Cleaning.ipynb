{
 "cells": [
  {
   "cell_type": "markdown",
   "metadata": {},
   "source": [
    "# Cleaning of the geographical enrichment variables"
   ]
  },
  {
   "cell_type": "markdown",
   "metadata": {},
   "source": [
    "This notebook aims to bring the geographical enrichment variables (https://www.ers.usda.gov/data-products/county-level-data-sets/) into a format that is useful to work with for the purpose of this thesis."
   ]
  },
  {
   "cell_type": "markdown",
   "metadata": {},
   "source": [
    "## Set-Up"
   ]
  },
  {
   "cell_type": "markdown",
   "metadata": {},
   "source": [
    "The goal is to work with pandas dataframes, so numpy and pandas are required."
   ]
  },
  {
   "cell_type": "code",
   "execution_count": 1,
   "metadata": {},
   "outputs": [],
   "source": [
    "import pandas as pd \n",
    "import numpy as np"
   ]
  },
  {
   "cell_type": "markdown",
   "metadata": {},
   "source": [
    "## Raw Files"
   ]
  },
  {
   "cell_type": "markdown",
   "metadata": {},
   "source": [
    "All data (separate datasets on education, population, poverty, and unemployment per state) is available in CSV format, the inbuilt pandas function `read_csv` is utilized to store the data in a pandas dataframe."
   ]
  },
  {
   "cell_type": "code",
   "execution_count": 2,
   "metadata": {},
   "outputs": [],
   "source": [
    "educ_raw = pd.read_csv(\"C:/Users/Hauke/OneDrive - ucp.pt/04_Thesis/00_GitHub/Thesis/data/raw/California_Geographic/Education.csv\", encoding = \"latin1\")\n",
    "pop_raw = pd.read_csv(\"C:/Users/Hauke/OneDrive - ucp.pt/04_Thesis/00_GitHub/Thesis/data/raw/California_Geographic/PopulationEstimates.csv\", encoding = \"latin1\")\n",
    "pov_raw = pd.read_csv(\"C:/Users/Hauke/OneDrive - ucp.pt/04_Thesis/00_GitHub/Thesis/data/raw/California_Geographic/PovertyEstimates.csv\", encoding = \"latin1\")\n",
    "unemp_raw = pd.read_csv(\"C:/Users/Hauke/OneDrive - ucp.pt/04_Thesis/00_GitHub/Thesis/data/raw/California_Geographic/Unemployment.csv\", encoding = \"latin1\")"
   ]
  },
  {
   "cell_type": "code",
   "execution_count": 3,
   "metadata": {},
   "outputs": [
    {
     "data": {
      "text/html": [
       "<div>\n",
       "<style scoped>\n",
       "    .dataframe tbody tr th:only-of-type {\n",
       "        vertical-align: middle;\n",
       "    }\n",
       "\n",
       "    .dataframe tbody tr th {\n",
       "        vertical-align: top;\n",
       "    }\n",
       "\n",
       "    .dataframe thead th {\n",
       "        text-align: right;\n",
       "    }\n",
       "</style>\n",
       "<table border=\"1\" class=\"dataframe\">\n",
       "  <thead>\n",
       "    <tr style=\"text-align: right;\">\n",
       "      <th></th>\n",
       "      <th>Federal Information Processing Standard (FIPS) Code</th>\n",
       "      <th>State</th>\n",
       "      <th>Area name</th>\n",
       "      <th>Attribute</th>\n",
       "      <th>Value</th>\n",
       "    </tr>\n",
       "  </thead>\n",
       "  <tbody>\n",
       "    <tr>\n",
       "      <th>0</th>\n",
       "      <td>0</td>\n",
       "      <td>US</td>\n",
       "      <td>United States</td>\n",
       "      <td>Less than a high school diploma, 1970</td>\n",
       "      <td>52373312.0</td>\n",
       "    </tr>\n",
       "    <tr>\n",
       "      <th>1</th>\n",
       "      <td>0</td>\n",
       "      <td>US</td>\n",
       "      <td>United States</td>\n",
       "      <td>High school diploma only, 1970</td>\n",
       "      <td>34158051.0</td>\n",
       "    </tr>\n",
       "    <tr>\n",
       "      <th>2</th>\n",
       "      <td>0</td>\n",
       "      <td>US</td>\n",
       "      <td>United States</td>\n",
       "      <td>Some college (1-3 years), 1970</td>\n",
       "      <td>11650730.0</td>\n",
       "    </tr>\n",
       "    <tr>\n",
       "      <th>3</th>\n",
       "      <td>0</td>\n",
       "      <td>US</td>\n",
       "      <td>United States</td>\n",
       "      <td>Four years of college or higher, 1970</td>\n",
       "      <td>11717266.0</td>\n",
       "    </tr>\n",
       "    <tr>\n",
       "      <th>4</th>\n",
       "      <td>0</td>\n",
       "      <td>US</td>\n",
       "      <td>United States</td>\n",
       "      <td>Percent of adults with less than a high school...</td>\n",
       "      <td>47.7</td>\n",
       "    </tr>\n",
       "  </tbody>\n",
       "</table>\n",
       "</div>"
      ],
      "text/plain": [
       "   Federal Information Processing Standard (FIPS) Code State      Area name  \\\n",
       "0                                                  0      US  United States   \n",
       "1                                                  0      US  United States   \n",
       "2                                                  0      US  United States   \n",
       "3                                                  0      US  United States   \n",
       "4                                                  0      US  United States   \n",
       "\n",
       "                                           Attribute       Value  \n",
       "0              Less than a high school diploma, 1970  52373312.0  \n",
       "1                     High school diploma only, 1970  34158051.0  \n",
       "2                     Some college (1-3 years), 1970  11650730.0  \n",
       "3              Four years of college or higher, 1970  11717266.0  \n",
       "4  Percent of adults with less than a high school...        47.7  "
      ]
     },
     "execution_count": 3,
     "metadata": {},
     "output_type": "execute_result"
    }
   ],
   "source": [
    "educ_raw.head()"
   ]
  },
  {
   "cell_type": "code",
   "execution_count": 4,
   "metadata": {},
   "outputs": [
    {
     "data": {
      "text/plain": [
       "array(['US', 'AL', 'AK', 'AZ', 'AR', 'CA', 'CO', 'CT', 'DE', 'DC', 'FL',\n",
       "       'GA', 'HI', 'ID', 'IL', 'IN', 'IA', 'KS', 'KY', 'LA', 'ME', 'MD',\n",
       "       'MA', 'MI', 'MN', 'MS', 'MO', 'MT', 'NE', 'NV', 'NH', 'NJ', 'NM',\n",
       "       'NY', 'NC', 'ND', 'OH', 'OK', 'OR', 'PA', 'RI', 'SC', 'SD', 'TN',\n",
       "       'TX', 'UT', 'VT', 'VA', 'WA', 'WV', 'WI', 'WY', 'PR'], dtype=object)"
      ]
     },
     "execution_count": 4,
     "metadata": {},
     "output_type": "execute_result"
    }
   ],
   "source": [
    "educ_raw[\"State\"].unique()"
   ]
  },
  {
   "cell_type": "code",
   "execution_count": 5,
   "metadata": {},
   "outputs": [],
   "source": [
    "states = [\"SD\", \"LA\", \"UT\", \"TX\", \"MT\"]"
   ]
  },
  {
   "cell_type": "markdown",
   "metadata": {},
   "source": [
    "## Reshaping"
   ]
  },
  {
   "cell_type": "markdown",
   "metadata": {},
   "source": [
    "The downloadable CSVs are in a different format than displayed on the USDA homepage. As the aim of these dataframes is to enrich the main dataset, which does contain FIPS codes, the data is reshaped in a way that this FIPS code (together with the corresponding area name) are used to index the dataframe in order to facilitate merging and/or county-level analysis."
   ]
  },
  {
   "cell_type": "markdown",
   "metadata": {},
   "source": [
    "### Education"
   ]
  },
  {
   "cell_type": "markdown",
   "metadata": {},
   "source": [
    "The raw dataframe imported above is filtered to include only the relevant values (i.e. counties, but not the summary of the state itself). Only the percentage values relevant for the thesis are kept, the rest is dropped. Also, only the newest datapoints (years 2017-2021) are kept, the rest is dropped. As the data is structured in a way that information on years and KPIs are stored in the \"Attribute\" column, the dataframe is pivoted to have the KPIs as column for easier comparability."
   ]
  },
  {
   "cell_type": "code",
   "execution_count": 6,
   "metadata": {},
   "outputs": [],
   "source": [
    "educ_low5 = educ_raw[(educ_raw[\"State\"].isin(states)) & \n",
    "                     (educ_raw[\"Attribute\"].str.contains(\"Percent\")) & \n",
    "                     (educ_raw[\"Attribute\"].str.contains(\"2017-21\"))]\n",
    "\n",
    "# drop all rows that have the State Name as Area Name\n",
    "educ_low5 = educ_low5[educ_low5[\"Area name\"] != \"South Dakota\"]\n",
    "educ_low5 = educ_low5[educ_low5[\"Area name\"] != \"Louisiana\"]\n",
    "educ_low5 = educ_low5[educ_low5[\"Area name\"] != \"Lousiana\"]\n",
    "educ_low5 = educ_low5[educ_low5[\"Area name\"] != \"Utah\"]\n",
    "educ_low5 = educ_low5[educ_low5[\"Area name\"] != \"Texas\"]\n",
    "educ_low5 = educ_low5[educ_low5[\"Area name\"] != \"Montana\"]\n",
    " \n",
    "educ_low5_t = educ_low5.pivot(index = [\"Federal Information Processing Standard (FIPS) Code\", \"Area name\"],columns=\"Attribute\", values=\"Value\")"
   ]
  },
  {
   "cell_type": "code",
   "execution_count": 7,
   "metadata": {},
   "outputs": [
    {
     "data": {
      "text/plain": [
       "(469, 4)"
      ]
     },
     "execution_count": 7,
     "metadata": {},
     "output_type": "execute_result"
    }
   ],
   "source": [
    "educ_low5_t.shape"
   ]
  },
  {
   "cell_type": "code",
   "execution_count": 8,
   "metadata": {},
   "outputs": [
    {
     "data": {
      "text/html": [
       "<div>\n",
       "<style scoped>\n",
       "    .dataframe tbody tr th:only-of-type {\n",
       "        vertical-align: middle;\n",
       "    }\n",
       "\n",
       "    .dataframe tbody tr th {\n",
       "        vertical-align: top;\n",
       "    }\n",
       "\n",
       "    .dataframe thead th {\n",
       "        text-align: right;\n",
       "    }\n",
       "</style>\n",
       "<table border=\"1\" class=\"dataframe\">\n",
       "  <thead>\n",
       "    <tr style=\"text-align: right;\">\n",
       "      <th></th>\n",
       "      <th>Attribute</th>\n",
       "      <th>Percent of adults completing some college or associate's degree, 2017-21</th>\n",
       "      <th>Percent of adults with a bachelor's degree or higher, 2017-21</th>\n",
       "      <th>Percent of adults with a high school diploma only, 2017-21</th>\n",
       "      <th>Percent of adults with less than a high school diploma, 2017-21</th>\n",
       "    </tr>\n",
       "    <tr>\n",
       "      <th>Federal Information Processing Standard (FIPS) Code</th>\n",
       "      <th>Area name</th>\n",
       "      <th></th>\n",
       "      <th></th>\n",
       "      <th></th>\n",
       "      <th></th>\n",
       "    </tr>\n",
       "  </thead>\n",
       "  <tbody>\n",
       "    <tr>\n",
       "      <th>22001</th>\n",
       "      <th>Acadia Parish</th>\n",
       "      <td>23.745889</td>\n",
       "      <td>13.613823</td>\n",
       "      <td>42.945138</td>\n",
       "      <td>19.695151</td>\n",
       "    </tr>\n",
       "    <tr>\n",
       "      <th>22003</th>\n",
       "      <th>Allen Parish</th>\n",
       "      <td>24.321330</td>\n",
       "      <td>12.132964</td>\n",
       "      <td>43.324100</td>\n",
       "      <td>20.221607</td>\n",
       "    </tr>\n",
       "    <tr>\n",
       "      <th>22005</th>\n",
       "      <th>Ascension Parish</th>\n",
       "      <td>30.852523</td>\n",
       "      <td>28.719990</td>\n",
       "      <td>29.115630</td>\n",
       "      <td>11.311857</td>\n",
       "    </tr>\n",
       "    <tr>\n",
       "      <th>22007</th>\n",
       "      <th>Assumption Parish</th>\n",
       "      <td>22.666399</td>\n",
       "      <td>10.800857</td>\n",
       "      <td>43.290478</td>\n",
       "      <td>23.242266</td>\n",
       "    </tr>\n",
       "    <tr>\n",
       "      <th>22009</th>\n",
       "      <th>Avoyelles Parish</th>\n",
       "      <td>28.542185</td>\n",
       "      <td>12.308086</td>\n",
       "      <td>35.717941</td>\n",
       "      <td>23.431788</td>\n",
       "    </tr>\n",
       "  </tbody>\n",
       "</table>\n",
       "</div>"
      ],
      "text/plain": [
       "Attribute                                                             Percent of adults completing some college or associate's degree, 2017-21  \\\n",
       "Federal Information Processing Standard (FIPS) ... Area name                                                                                     \n",
       "22001                                              Acadia Parish                                              23.745889                          \n",
       "22003                                              Allen Parish                                               24.321330                          \n",
       "22005                                              Ascension Parish                                           30.852523                          \n",
       "22007                                              Assumption Parish                                          22.666399                          \n",
       "22009                                              Avoyelles Parish                                           28.542185                          \n",
       "\n",
       "Attribute                                                             Percent of adults with a bachelor's degree or higher, 2017-21  \\\n",
       "Federal Information Processing Standard (FIPS) ... Area name                                                                          \n",
       "22001                                              Acadia Parish                                              13.613823               \n",
       "22003                                              Allen Parish                                               12.132964               \n",
       "22005                                              Ascension Parish                                           28.719990               \n",
       "22007                                              Assumption Parish                                          10.800857               \n",
       "22009                                              Avoyelles Parish                                           12.308086               \n",
       "\n",
       "Attribute                                                             Percent of adults with a high school diploma only, 2017-21  \\\n",
       "Federal Information Processing Standard (FIPS) ... Area name                                                                       \n",
       "22001                                              Acadia Parish                                              42.945138            \n",
       "22003                                              Allen Parish                                               43.324100            \n",
       "22005                                              Ascension Parish                                           29.115630            \n",
       "22007                                              Assumption Parish                                          43.290478            \n",
       "22009                                              Avoyelles Parish                                           35.717941            \n",
       "\n",
       "Attribute                                                             Percent of adults with less than a high school diploma, 2017-21  \n",
       "Federal Information Processing Standard (FIPS) ... Area name                                                                           \n",
       "22001                                              Acadia Parish                                              19.695151                \n",
       "22003                                              Allen Parish                                               20.221607                \n",
       "22005                                              Ascension Parish                                           11.311857                \n",
       "22007                                              Assumption Parish                                          23.242266                \n",
       "22009                                              Avoyelles Parish                                           23.431788                "
      ]
     },
     "execution_count": 8,
     "metadata": {},
     "output_type": "execute_result"
    }
   ],
   "source": [
    "educ_low5_t.head()"
   ]
  },
  {
   "cell_type": "markdown",
   "metadata": {},
   "source": [
    "### Population"
   ]
  },
  {
   "cell_type": "markdown",
   "metadata": {},
   "source": [
    "The only relevant KPI from this dataframe is the most recent (2022) population figure (\"POP_ESTIMATE_2022\"). Besides that (and a different variable naming), the procedure is the same as for the education dataframe."
   ]
  },
  {
   "cell_type": "code",
   "execution_count": 9,
   "metadata": {},
   "outputs": [],
   "source": [
    "pop_low5 = pop_raw[(pop_raw[\"State\"].isin(states)) &\n",
    "                   (pop_raw[\"Attribute\"].str.contains(\"POP_ESTIMATE_2022\"))]\n",
    "\n",
    "pop_low5 = pop_low5[pop_low5[\"Area_Name\"] != \"South Dakota\"]\n",
    "pop_low5 = pop_low5[pop_low5[\"Area_Name\"] != \"Louisiana\"]\n",
    "pop_low5 = pop_low5[pop_low5[\"Area_Name\"] != \"Lousiana\"]\n",
    "pop_low5 = pop_low5[pop_low5[\"Area_Name\"] != \"Utah\"]\n",
    "pop_low5 = pop_low5[pop_low5[\"Area_Name\"] != \"Texas\"]\n",
    "pop_low5 = pop_low5[pop_low5[\"Area_Name\"] != \"Montana\"]\n",
    "\n",
    "pop_low5_t = pop_low5.pivot(index = [\"FIPStxt\", \"Area_Name\"],columns=\"Attribute\", values=\"Value\")"
   ]
  },
  {
   "cell_type": "code",
   "execution_count": 10,
   "metadata": {},
   "outputs": [
    {
     "data": {
      "text/plain": [
       "(469, 1)"
      ]
     },
     "execution_count": 10,
     "metadata": {},
     "output_type": "execute_result"
    }
   ],
   "source": [
    "pop_low5_t.shape"
   ]
  },
  {
   "cell_type": "code",
   "execution_count": 11,
   "metadata": {},
   "outputs": [
    {
     "data": {
      "text/html": [
       "<div>\n",
       "<style scoped>\n",
       "    .dataframe tbody tr th:only-of-type {\n",
       "        vertical-align: middle;\n",
       "    }\n",
       "\n",
       "    .dataframe tbody tr th {\n",
       "        vertical-align: top;\n",
       "    }\n",
       "\n",
       "    .dataframe thead th {\n",
       "        text-align: right;\n",
       "    }\n",
       "</style>\n",
       "<table border=\"1\" class=\"dataframe\">\n",
       "  <thead>\n",
       "    <tr style=\"text-align: right;\">\n",
       "      <th></th>\n",
       "      <th>Attribute</th>\n",
       "      <th>POP_ESTIMATE_2022</th>\n",
       "    </tr>\n",
       "    <tr>\n",
       "      <th>FIPStxt</th>\n",
       "      <th>Area_Name</th>\n",
       "      <th></th>\n",
       "    </tr>\n",
       "  </thead>\n",
       "  <tbody>\n",
       "    <tr>\n",
       "      <th>22001</th>\n",
       "      <th>Acadia Parish</th>\n",
       "      <td>56744.0</td>\n",
       "    </tr>\n",
       "    <tr>\n",
       "      <th>22003</th>\n",
       "      <th>Allen Parish</th>\n",
       "      <td>22320.0</td>\n",
       "    </tr>\n",
       "    <tr>\n",
       "      <th>22005</th>\n",
       "      <th>Ascension Parish</th>\n",
       "      <td>130458.0</td>\n",
       "    </tr>\n",
       "    <tr>\n",
       "      <th>22007</th>\n",
       "      <th>Assumption Parish</th>\n",
       "      <td>20604.0</td>\n",
       "    </tr>\n",
       "    <tr>\n",
       "      <th>22009</th>\n",
       "      <th>Avoyelles Parish</th>\n",
       "      <td>38751.0</td>\n",
       "    </tr>\n",
       "  </tbody>\n",
       "</table>\n",
       "</div>"
      ],
      "text/plain": [
       "Attribute                  POP_ESTIMATE_2022\n",
       "FIPStxt Area_Name                           \n",
       "22001   Acadia Parish                56744.0\n",
       "22003   Allen Parish                 22320.0\n",
       "22005   Ascension Parish            130458.0\n",
       "22007   Assumption Parish            20604.0\n",
       "22009   Avoyelles Parish             38751.0"
      ]
     },
     "execution_count": 11,
     "metadata": {},
     "output_type": "execute_result"
    }
   ],
   "source": [
    "pop_low5_t.head()"
   ]
  },
  {
   "cell_type": "markdown",
   "metadata": {},
   "source": [
    "### Poverty"
   ]
  },
  {
   "cell_type": "markdown",
   "metadata": {},
   "source": [
    "The variable of interest in this dataframe is \"PCTPOVALL_2021\", which is the estimation of people living in poverty among all people in the county. The procedure is the same as for the education dataframe."
   ]
  },
  {
   "cell_type": "code",
   "execution_count": 12,
   "metadata": {},
   "outputs": [],
   "source": [
    "pov_low5 = pov_raw[(pov_raw[\"Stabr\"].isin(states)) &\n",
    "                   (pov_raw[\"Attribute\"].str.contains(\"PCTPOVALL_2021\"))]\n",
    "\n",
    "pov_low5 = pov_low5[pov_low5[\"Area_name\"] != \"South Dakota\"]\n",
    "pov_low5 = pov_low5[pov_low5[\"Area_name\"] != \"Louisiana\"]\n",
    "pov_low5 = pov_low5[pov_low5[\"Area_name\"] != \"Lousiana\"]\n",
    "pov_low5 = pov_low5[pov_low5[\"Area_name\"] != \"Utah\"]\n",
    "pov_low5 = pov_low5[pov_low5[\"Area_name\"] != \"Texas\"]\n",
    "pov_low5 = pov_low5[pov_low5[\"Area_name\"] != \"Montana\"]\n",
    "\n",
    "pov_low5_t = pov_low5.pivot(index = [\"FIPS_Code\", \"Area_name\"],columns=\"Attribute\", values=\"Value\")"
   ]
  },
  {
   "cell_type": "code",
   "execution_count": 13,
   "metadata": {},
   "outputs": [
    {
     "data": {
      "text/plain": [
       "(469, 1)"
      ]
     },
     "execution_count": 13,
     "metadata": {},
     "output_type": "execute_result"
    }
   ],
   "source": [
    "pop_low5_t.shape"
   ]
  },
  {
   "cell_type": "code",
   "execution_count": 14,
   "metadata": {},
   "outputs": [
    {
     "data": {
      "text/html": [
       "<div>\n",
       "<style scoped>\n",
       "    .dataframe tbody tr th:only-of-type {\n",
       "        vertical-align: middle;\n",
       "    }\n",
       "\n",
       "    .dataframe tbody tr th {\n",
       "        vertical-align: top;\n",
       "    }\n",
       "\n",
       "    .dataframe thead th {\n",
       "        text-align: right;\n",
       "    }\n",
       "</style>\n",
       "<table border=\"1\" class=\"dataframe\">\n",
       "  <thead>\n",
       "    <tr style=\"text-align: right;\">\n",
       "      <th></th>\n",
       "      <th>Attribute</th>\n",
       "      <th>PCTPOVALL_2021</th>\n",
       "    </tr>\n",
       "    <tr>\n",
       "      <th>FIPS_Code</th>\n",
       "      <th>Area_name</th>\n",
       "      <th></th>\n",
       "    </tr>\n",
       "  </thead>\n",
       "  <tbody>\n",
       "    <tr>\n",
       "      <th>22001</th>\n",
       "      <th>Acadia Parish</th>\n",
       "      <td>20.6</td>\n",
       "    </tr>\n",
       "    <tr>\n",
       "      <th>22003</th>\n",
       "      <th>Allen Parish</th>\n",
       "      <td>20.5</td>\n",
       "    </tr>\n",
       "    <tr>\n",
       "      <th>22005</th>\n",
       "      <th>Ascension Parish</th>\n",
       "      <td>11.4</td>\n",
       "    </tr>\n",
       "    <tr>\n",
       "      <th>22007</th>\n",
       "      <th>Assumption Parish</th>\n",
       "      <td>19.0</td>\n",
       "    </tr>\n",
       "    <tr>\n",
       "      <th>22009</th>\n",
       "      <th>Avoyelles Parish</th>\n",
       "      <td>30.5</td>\n",
       "    </tr>\n",
       "  </tbody>\n",
       "</table>\n",
       "</div>"
      ],
      "text/plain": [
       "Attribute                    PCTPOVALL_2021\n",
       "FIPS_Code Area_name                        \n",
       "22001     Acadia Parish                20.6\n",
       "22003     Allen Parish                 20.5\n",
       "22005     Ascension Parish             11.4\n",
       "22007     Assumption Parish            19.0\n",
       "22009     Avoyelles Parish             30.5"
      ]
     },
     "execution_count": 14,
     "metadata": {},
     "output_type": "execute_result"
    }
   ],
   "source": [
    "pov_low5_t.head()"
   ]
  },
  {
   "cell_type": "markdown",
   "metadata": {},
   "source": [
    "### Unemployment"
   ]
  },
  {
   "cell_type": "markdown",
   "metadata": {},
   "source": [
    "The unemployment dataframe contains two values of interest per county: The unemployment rate (for the sake of this analysis, the most recent figures from 2022 - \"Unemployment_rate_2022\" is used) and the median household income (\"Median_Household_Income_2022\"). The procedure is the same as for the previous dataframes. "
   ]
  },
  {
   "cell_type": "code",
   "execution_count": 15,
   "metadata": {},
   "outputs": [],
   "source": [
    "unemp_low5 = unemp_raw[(unemp_raw[\"State\"].isin(states)) &\n",
    "                       (unemp_raw[\"Attribute\"].isin([\"Unemployment_rate_2022\", \"Median_Household_Income_2021\"]))]\n",
    "\n",
    "unemp_low5 = unemp_low5[unemp_low5[\"Area_Name\"] != \"South Dakota\"]\n",
    "unemp_low5 = unemp_low5[unemp_low5[\"Area_Name\"] != \"Louisiana\"]\n",
    "unemp_low5 = unemp_low5[unemp_low5[\"Area_Name\"] != \"Lousiana\"]\n",
    "unemp_low5 = unemp_low5[unemp_low5[\"Area_Name\"] != \"Utah\"]\n",
    "unemp_low5 = unemp_low5[unemp_low5[\"Area_Name\"] != \"Texas\"]\n",
    "unemp_low5 = unemp_low5[unemp_low5[\"Area_Name\"] != \"Montana\"]\n",
    "\n",
    "unemp_low5_t = unemp_low5.pivot(index = [\"FIPS_Code\", \"Area_Name\"],columns=\"Attribute\", values=\"Value\")"
   ]
  },
  {
   "cell_type": "code",
   "execution_count": 16,
   "metadata": {},
   "outputs": [
    {
     "data": {
      "text/plain": [
       "(469, 2)"
      ]
     },
     "execution_count": 16,
     "metadata": {},
     "output_type": "execute_result"
    }
   ],
   "source": [
    "unemp_low5_t.shape"
   ]
  },
  {
   "cell_type": "code",
   "execution_count": 17,
   "metadata": {},
   "outputs": [
    {
     "data": {
      "text/html": [
       "<div>\n",
       "<style scoped>\n",
       "    .dataframe tbody tr th:only-of-type {\n",
       "        vertical-align: middle;\n",
       "    }\n",
       "\n",
       "    .dataframe tbody tr th {\n",
       "        vertical-align: top;\n",
       "    }\n",
       "\n",
       "    .dataframe thead th {\n",
       "        text-align: right;\n",
       "    }\n",
       "</style>\n",
       "<table border=\"1\" class=\"dataframe\">\n",
       "  <thead>\n",
       "    <tr style=\"text-align: right;\">\n",
       "      <th></th>\n",
       "      <th>Attribute</th>\n",
       "      <th>Median_Household_Income_2021</th>\n",
       "      <th>Unemployment_rate_2022</th>\n",
       "    </tr>\n",
       "    <tr>\n",
       "      <th>FIPS_Code</th>\n",
       "      <th>Area_Name</th>\n",
       "      <th></th>\n",
       "      <th></th>\n",
       "    </tr>\n",
       "  </thead>\n",
       "  <tbody>\n",
       "    <tr>\n",
       "      <th>22001</th>\n",
       "      <th>Acadia Parish, LA</th>\n",
       "      <td>44648.0</td>\n",
       "      <td>3.7</td>\n",
       "    </tr>\n",
       "    <tr>\n",
       "      <th>22003</th>\n",
       "      <th>Allen Parish, LA</th>\n",
       "      <td>43192.0</td>\n",
       "      <td>4.2</td>\n",
       "    </tr>\n",
       "    <tr>\n",
       "      <th>22005</th>\n",
       "      <th>Ascension Parish, LA</th>\n",
       "      <td>75498.0</td>\n",
       "      <td>3.0</td>\n",
       "    </tr>\n",
       "    <tr>\n",
       "      <th>22007</th>\n",
       "      <th>Assumption Parish, LA</th>\n",
       "      <td>42404.0</td>\n",
       "      <td>4.6</td>\n",
       "    </tr>\n",
       "    <tr>\n",
       "      <th>22009</th>\n",
       "      <th>Avoyelles Parish, LA</th>\n",
       "      <td>38567.0</td>\n",
       "      <td>4.2</td>\n",
       "    </tr>\n",
       "  </tbody>\n",
       "</table>\n",
       "</div>"
      ],
      "text/plain": [
       "Attribute                        Median_Household_Income_2021  \\\n",
       "FIPS_Code Area_Name                                             \n",
       "22001     Acadia Parish, LA                           44648.0   \n",
       "22003     Allen Parish, LA                            43192.0   \n",
       "22005     Ascension Parish, LA                        75498.0   \n",
       "22007     Assumption Parish, LA                       42404.0   \n",
       "22009     Avoyelles Parish, LA                        38567.0   \n",
       "\n",
       "Attribute                        Unemployment_rate_2022  \n",
       "FIPS_Code Area_Name                                      \n",
       "22001     Acadia Parish, LA                         3.7  \n",
       "22003     Allen Parish, LA                          4.2  \n",
       "22005     Ascension Parish, LA                      3.0  \n",
       "22007     Assumption Parish, LA                     4.6  \n",
       "22009     Avoyelles Parish, LA                      4.2  "
      ]
     },
     "execution_count": 17,
     "metadata": {},
     "output_type": "execute_result"
    }
   ],
   "source": [
    "unemp_low5_t.head()"
   ]
  },
  {
   "cell_type": "markdown",
   "metadata": {},
   "source": [
    "## Check completeness"
   ]
  },
  {
   "cell_type": "markdown",
   "metadata": {},
   "source": [
    "Checking if there are data available for all counties"
   ]
  },
  {
   "cell_type": "code",
   "execution_count": 18,
   "metadata": {},
   "outputs": [
    {
     "name": "stdout",
     "output_type": "stream",
     "text": [
      "(469, 4) (469, 1) (469, 1) (469, 2)\n"
     ]
    }
   ],
   "source": [
    "print(educ_low5_t.shape, pop_low5_t.shape, pov_low5_t.shape, unemp_low5_t.shape)"
   ]
  },
  {
   "cell_type": "code",
   "execution_count": 19,
   "metadata": {},
   "outputs": [
    {
     "name": "stdout",
     "output_type": "stream",
     "text": [
      "Attribute\n",
      "Percent of adults completing some college or associate's degree, 2017-21    0\n",
      "Percent of adults with a bachelor's degree or higher, 2017-21               0\n",
      "Percent of adults with a high school diploma only, 2017-21                  0\n",
      "Percent of adults with less than a high school diploma, 2017-21             0\n",
      "dtype: int64 \n",
      " Attribute\n",
      "POP_ESTIMATE_2022    0\n",
      "dtype: int64 \n",
      " Attribute\n",
      "PCTPOVALL_2021    0\n",
      "dtype: int64 \n",
      " Attribute\n",
      "Median_Household_Income_2021    0\n",
      "Unemployment_rate_2022          0\n",
      "dtype: int64\n"
     ]
    }
   ],
   "source": [
    "print(educ_low5_t.isna().sum(), \"\\n\", pop_low5_t.isna().sum(), \"\\n\", pov_low5_t.isna().sum(), \"\\n\", unemp_low5_t.isna().sum())"
   ]
  },
  {
   "cell_type": "markdown",
   "metadata": {},
   "source": [
    "## Merging"
   ]
  },
  {
   "cell_type": "markdown",
   "metadata": {},
   "source": [
    "In order to create one dataframe containing all information, the dataframes are merged based on their indices. As the indices are named differently and multiindexing is used, the indices are renamed to match the FIPS code and county name of the main dataframe by overwriting the indices of all dataframes with the indices of the education dataframes. This is only possible as we have already checked for completeness of the data and have ensured that all index values and their order are identical (albeit named differently). The resulting dataframe holds all information in a unified format, structured by FIPS code and county name."
   ]
  },
  {
   "cell_type": "code",
   "execution_count": 20,
   "metadata": {},
   "outputs": [],
   "source": [
    "pop_low5_t.index = educ_low5_t.index\n",
    "pov_low5_t.index = educ_low5_t.index\n",
    "unemp_low5_t.index = educ_low5_t.index"
   ]
  },
  {
   "cell_type": "code",
   "execution_count": 21,
   "metadata": {},
   "outputs": [],
   "source": [
    "# Merge the dataframes based on the first item of the index\n",
    "low5_geo = educ_low5_t.merge(pop_low5_t, left_index = True, right_index = True, how = \"inner\")\n",
    "low5_geo = low5_geo.merge(pov_low5_t, left_index = True, right_index = True, how = \"inner\")\n",
    "low5_geo = low5_geo.merge(unemp_low5_t, left_index = True, right_index = True, how = \"inner\")"
   ]
  },
  {
   "cell_type": "code",
   "execution_count": 22,
   "metadata": {},
   "outputs": [
    {
     "data": {
      "text/html": [
       "<div>\n",
       "<style scoped>\n",
       "    .dataframe tbody tr th:only-of-type {\n",
       "        vertical-align: middle;\n",
       "    }\n",
       "\n",
       "    .dataframe tbody tr th {\n",
       "        vertical-align: top;\n",
       "    }\n",
       "\n",
       "    .dataframe thead th {\n",
       "        text-align: right;\n",
       "    }\n",
       "</style>\n",
       "<table border=\"1\" class=\"dataframe\">\n",
       "  <thead>\n",
       "    <tr style=\"text-align: right;\">\n",
       "      <th></th>\n",
       "      <th>Attribute</th>\n",
       "      <th>Percent of adults completing some college or associate's degree, 2017-21</th>\n",
       "      <th>Percent of adults with a bachelor's degree or higher, 2017-21</th>\n",
       "      <th>Percent of adults with a high school diploma only, 2017-21</th>\n",
       "      <th>Percent of adults with less than a high school diploma, 2017-21</th>\n",
       "      <th>POP_ESTIMATE_2022</th>\n",
       "      <th>PCTPOVALL_2021</th>\n",
       "      <th>Median_Household_Income_2021</th>\n",
       "      <th>Unemployment_rate_2022</th>\n",
       "    </tr>\n",
       "    <tr>\n",
       "      <th>Federal Information Processing Standard (FIPS) Code</th>\n",
       "      <th>Area name</th>\n",
       "      <th></th>\n",
       "      <th></th>\n",
       "      <th></th>\n",
       "      <th></th>\n",
       "      <th></th>\n",
       "      <th></th>\n",
       "      <th></th>\n",
       "      <th></th>\n",
       "    </tr>\n",
       "  </thead>\n",
       "  <tbody>\n",
       "    <tr>\n",
       "      <th>22001</th>\n",
       "      <th>Acadia Parish</th>\n",
       "      <td>23.745889</td>\n",
       "      <td>13.613823</td>\n",
       "      <td>42.945138</td>\n",
       "      <td>19.695151</td>\n",
       "      <td>56744.0</td>\n",
       "      <td>20.6</td>\n",
       "      <td>44648.0</td>\n",
       "      <td>3.7</td>\n",
       "    </tr>\n",
       "    <tr>\n",
       "      <th>22003</th>\n",
       "      <th>Allen Parish</th>\n",
       "      <td>24.321330</td>\n",
       "      <td>12.132964</td>\n",
       "      <td>43.324100</td>\n",
       "      <td>20.221607</td>\n",
       "      <td>22320.0</td>\n",
       "      <td>20.5</td>\n",
       "      <td>43192.0</td>\n",
       "      <td>4.2</td>\n",
       "    </tr>\n",
       "    <tr>\n",
       "      <th>22005</th>\n",
       "      <th>Ascension Parish</th>\n",
       "      <td>30.852523</td>\n",
       "      <td>28.719990</td>\n",
       "      <td>29.115630</td>\n",
       "      <td>11.311857</td>\n",
       "      <td>130458.0</td>\n",
       "      <td>11.4</td>\n",
       "      <td>75498.0</td>\n",
       "      <td>3.0</td>\n",
       "    </tr>\n",
       "    <tr>\n",
       "      <th>22007</th>\n",
       "      <th>Assumption Parish</th>\n",
       "      <td>22.666399</td>\n",
       "      <td>10.800857</td>\n",
       "      <td>43.290478</td>\n",
       "      <td>23.242266</td>\n",
       "      <td>20604.0</td>\n",
       "      <td>19.0</td>\n",
       "      <td>42404.0</td>\n",
       "      <td>4.6</td>\n",
       "    </tr>\n",
       "    <tr>\n",
       "      <th>22009</th>\n",
       "      <th>Avoyelles Parish</th>\n",
       "      <td>28.542185</td>\n",
       "      <td>12.308086</td>\n",
       "      <td>35.717941</td>\n",
       "      <td>23.431788</td>\n",
       "      <td>38751.0</td>\n",
       "      <td>30.5</td>\n",
       "      <td>38567.0</td>\n",
       "      <td>4.2</td>\n",
       "    </tr>\n",
       "  </tbody>\n",
       "</table>\n",
       "</div>"
      ],
      "text/plain": [
       "Attribute                                                             Percent of adults completing some college or associate's degree, 2017-21  \\\n",
       "Federal Information Processing Standard (FIPS) ... Area name                                                                                     \n",
       "22001                                              Acadia Parish                                              23.745889                          \n",
       "22003                                              Allen Parish                                               24.321330                          \n",
       "22005                                              Ascension Parish                                           30.852523                          \n",
       "22007                                              Assumption Parish                                          22.666399                          \n",
       "22009                                              Avoyelles Parish                                           28.542185                          \n",
       "\n",
       "Attribute                                                             Percent of adults with a bachelor's degree or higher, 2017-21  \\\n",
       "Federal Information Processing Standard (FIPS) ... Area name                                                                          \n",
       "22001                                              Acadia Parish                                              13.613823               \n",
       "22003                                              Allen Parish                                               12.132964               \n",
       "22005                                              Ascension Parish                                           28.719990               \n",
       "22007                                              Assumption Parish                                          10.800857               \n",
       "22009                                              Avoyelles Parish                                           12.308086               \n",
       "\n",
       "Attribute                                                             Percent of adults with a high school diploma only, 2017-21  \\\n",
       "Federal Information Processing Standard (FIPS) ... Area name                                                                       \n",
       "22001                                              Acadia Parish                                              42.945138            \n",
       "22003                                              Allen Parish                                               43.324100            \n",
       "22005                                              Ascension Parish                                           29.115630            \n",
       "22007                                              Assumption Parish                                          43.290478            \n",
       "22009                                              Avoyelles Parish                                           35.717941            \n",
       "\n",
       "Attribute                                                             Percent of adults with less than a high school diploma, 2017-21  \\\n",
       "Federal Information Processing Standard (FIPS) ... Area name                                                                            \n",
       "22001                                              Acadia Parish                                              19.695151                 \n",
       "22003                                              Allen Parish                                               20.221607                 \n",
       "22005                                              Ascension Parish                                           11.311857                 \n",
       "22007                                              Assumption Parish                                          23.242266                 \n",
       "22009                                              Avoyelles Parish                                           23.431788                 \n",
       "\n",
       "Attribute                                                             POP_ESTIMATE_2022  \\\n",
       "Federal Information Processing Standard (FIPS) ... Area name                              \n",
       "22001                                              Acadia Parish                56744.0   \n",
       "22003                                              Allen Parish                 22320.0   \n",
       "22005                                              Ascension Parish            130458.0   \n",
       "22007                                              Assumption Parish            20604.0   \n",
       "22009                                              Avoyelles Parish             38751.0   \n",
       "\n",
       "Attribute                                                             PCTPOVALL_2021  \\\n",
       "Federal Information Processing Standard (FIPS) ... Area name                           \n",
       "22001                                              Acadia Parish                20.6   \n",
       "22003                                              Allen Parish                 20.5   \n",
       "22005                                              Ascension Parish             11.4   \n",
       "22007                                              Assumption Parish            19.0   \n",
       "22009                                              Avoyelles Parish             30.5   \n",
       "\n",
       "Attribute                                                             Median_Household_Income_2021  \\\n",
       "Federal Information Processing Standard (FIPS) ... Area name                                         \n",
       "22001                                              Acadia Parish                           44648.0   \n",
       "22003                                              Allen Parish                            43192.0   \n",
       "22005                                              Ascension Parish                        75498.0   \n",
       "22007                                              Assumption Parish                       42404.0   \n",
       "22009                                              Avoyelles Parish                        38567.0   \n",
       "\n",
       "Attribute                                                             Unemployment_rate_2022  \n",
       "Federal Information Processing Standard (FIPS) ... Area name                                  \n",
       "22001                                              Acadia Parish                         3.7  \n",
       "22003                                              Allen Parish                          4.2  \n",
       "22005                                              Ascension Parish                      3.0  \n",
       "22007                                              Assumption Parish                     4.6  \n",
       "22009                                              Avoyelles Parish                      4.2  "
      ]
     },
     "execution_count": 22,
     "metadata": {},
     "output_type": "execute_result"
    }
   ],
   "source": [
    "low5_geo.head()"
   ]
  },
  {
   "cell_type": "markdown",
   "metadata": {},
   "source": [
    "## Renaming"
   ]
  },
  {
   "cell_type": "markdown",
   "metadata": {},
   "source": [
    "The columns are renamed to reflect the KPIs they contain."
   ]
  },
  {
   "cell_type": "code",
   "execution_count": 23,
   "metadata": {},
   "outputs": [],
   "source": [
    "low5_geo.index.names = [\"FIPS\", \"County\"]\n",
    "low5_geo.columns = [\"percentage_college_degree\", \"percentage_bachelor_or_higher\", \"percentage_high_school\", \"percentage_less_than_high_school\", \"population\", \"poverty_rate\", \"median_household_income\", \"unemployment_rate\"]"
   ]
  },
  {
   "cell_type": "code",
   "execution_count": 24,
   "metadata": {},
   "outputs": [
    {
     "data": {
      "text/html": [
       "<div>\n",
       "<style scoped>\n",
       "    .dataframe tbody tr th:only-of-type {\n",
       "        vertical-align: middle;\n",
       "    }\n",
       "\n",
       "    .dataframe tbody tr th {\n",
       "        vertical-align: top;\n",
       "    }\n",
       "\n",
       "    .dataframe thead th {\n",
       "        text-align: right;\n",
       "    }\n",
       "</style>\n",
       "<table border=\"1\" class=\"dataframe\">\n",
       "  <thead>\n",
       "    <tr style=\"text-align: right;\">\n",
       "      <th></th>\n",
       "      <th></th>\n",
       "      <th>percentage_college_degree</th>\n",
       "      <th>percentage_bachelor_or_higher</th>\n",
       "      <th>percentage_high_school</th>\n",
       "      <th>percentage_less_than_high_school</th>\n",
       "      <th>population</th>\n",
       "      <th>poverty_rate</th>\n",
       "      <th>median_household_income</th>\n",
       "      <th>unemployment_rate</th>\n",
       "    </tr>\n",
       "    <tr>\n",
       "      <th>FIPS</th>\n",
       "      <th>County</th>\n",
       "      <th></th>\n",
       "      <th></th>\n",
       "      <th></th>\n",
       "      <th></th>\n",
       "      <th></th>\n",
       "      <th></th>\n",
       "      <th></th>\n",
       "      <th></th>\n",
       "    </tr>\n",
       "  </thead>\n",
       "  <tbody>\n",
       "    <tr>\n",
       "      <th>22001</th>\n",
       "      <th>Acadia Parish</th>\n",
       "      <td>23.745889</td>\n",
       "      <td>13.613823</td>\n",
       "      <td>42.945138</td>\n",
       "      <td>19.695151</td>\n",
       "      <td>56744.0</td>\n",
       "      <td>20.6</td>\n",
       "      <td>44648.0</td>\n",
       "      <td>3.7</td>\n",
       "    </tr>\n",
       "    <tr>\n",
       "      <th>22003</th>\n",
       "      <th>Allen Parish</th>\n",
       "      <td>24.321330</td>\n",
       "      <td>12.132964</td>\n",
       "      <td>43.324100</td>\n",
       "      <td>20.221607</td>\n",
       "      <td>22320.0</td>\n",
       "      <td>20.5</td>\n",
       "      <td>43192.0</td>\n",
       "      <td>4.2</td>\n",
       "    </tr>\n",
       "    <tr>\n",
       "      <th>22005</th>\n",
       "      <th>Ascension Parish</th>\n",
       "      <td>30.852523</td>\n",
       "      <td>28.719990</td>\n",
       "      <td>29.115630</td>\n",
       "      <td>11.311857</td>\n",
       "      <td>130458.0</td>\n",
       "      <td>11.4</td>\n",
       "      <td>75498.0</td>\n",
       "      <td>3.0</td>\n",
       "    </tr>\n",
       "    <tr>\n",
       "      <th>22007</th>\n",
       "      <th>Assumption Parish</th>\n",
       "      <td>22.666399</td>\n",
       "      <td>10.800857</td>\n",
       "      <td>43.290478</td>\n",
       "      <td>23.242266</td>\n",
       "      <td>20604.0</td>\n",
       "      <td>19.0</td>\n",
       "      <td>42404.0</td>\n",
       "      <td>4.6</td>\n",
       "    </tr>\n",
       "    <tr>\n",
       "      <th>22009</th>\n",
       "      <th>Avoyelles Parish</th>\n",
       "      <td>28.542185</td>\n",
       "      <td>12.308086</td>\n",
       "      <td>35.717941</td>\n",
       "      <td>23.431788</td>\n",
       "      <td>38751.0</td>\n",
       "      <td>30.5</td>\n",
       "      <td>38567.0</td>\n",
       "      <td>4.2</td>\n",
       "    </tr>\n",
       "  </tbody>\n",
       "</table>\n",
       "</div>"
      ],
      "text/plain": [
       "                         percentage_college_degree  \\\n",
       "FIPS  County                                         \n",
       "22001 Acadia Parish                      23.745889   \n",
       "22003 Allen Parish                       24.321330   \n",
       "22005 Ascension Parish                   30.852523   \n",
       "22007 Assumption Parish                  22.666399   \n",
       "22009 Avoyelles Parish                   28.542185   \n",
       "\n",
       "                         percentage_bachelor_or_higher  \\\n",
       "FIPS  County                                             \n",
       "22001 Acadia Parish                          13.613823   \n",
       "22003 Allen Parish                           12.132964   \n",
       "22005 Ascension Parish                       28.719990   \n",
       "22007 Assumption Parish                      10.800857   \n",
       "22009 Avoyelles Parish                       12.308086   \n",
       "\n",
       "                         percentage_high_school  \\\n",
       "FIPS  County                                      \n",
       "22001 Acadia Parish                   42.945138   \n",
       "22003 Allen Parish                    43.324100   \n",
       "22005 Ascension Parish                29.115630   \n",
       "22007 Assumption Parish               43.290478   \n",
       "22009 Avoyelles Parish                35.717941   \n",
       "\n",
       "                         percentage_less_than_high_school  population  \\\n",
       "FIPS  County                                                            \n",
       "22001 Acadia Parish                             19.695151     56744.0   \n",
       "22003 Allen Parish                              20.221607     22320.0   \n",
       "22005 Ascension Parish                          11.311857    130458.0   \n",
       "22007 Assumption Parish                         23.242266     20604.0   \n",
       "22009 Avoyelles Parish                          23.431788     38751.0   \n",
       "\n",
       "                         poverty_rate  median_household_income  \\\n",
       "FIPS  County                                                     \n",
       "22001 Acadia Parish              20.6                  44648.0   \n",
       "22003 Allen Parish               20.5                  43192.0   \n",
       "22005 Ascension Parish           11.4                  75498.0   \n",
       "22007 Assumption Parish          19.0                  42404.0   \n",
       "22009 Avoyelles Parish           30.5                  38567.0   \n",
       "\n",
       "                         unemployment_rate  \n",
       "FIPS  County                                \n",
       "22001 Acadia Parish                    3.7  \n",
       "22003 Allen Parish                     4.2  \n",
       "22005 Ascension Parish                 3.0  \n",
       "22007 Assumption Parish                4.6  \n",
       "22009 Avoyelles Parish                 4.2  "
      ]
     },
     "execution_count": 24,
     "metadata": {},
     "output_type": "execute_result"
    }
   ],
   "source": [
    "low5_geo.head()"
   ]
  },
  {
   "cell_type": "code",
   "execution_count": 25,
   "metadata": {},
   "outputs": [
    {
     "data": {
      "text/html": [
       "<div>\n",
       "<style scoped>\n",
       "    .dataframe tbody tr th:only-of-type {\n",
       "        vertical-align: middle;\n",
       "    }\n",
       "\n",
       "    .dataframe tbody tr th {\n",
       "        vertical-align: top;\n",
       "    }\n",
       "\n",
       "    .dataframe thead th {\n",
       "        text-align: right;\n",
       "    }\n",
       "</style>\n",
       "<table border=\"1\" class=\"dataframe\">\n",
       "  <thead>\n",
       "    <tr style=\"text-align: right;\">\n",
       "      <th></th>\n",
       "      <th>percentage_college_degree</th>\n",
       "      <th>percentage_bachelor_or_higher</th>\n",
       "      <th>percentage_high_school</th>\n",
       "      <th>percentage_less_than_high_school</th>\n",
       "      <th>population</th>\n",
       "      <th>poverty_rate</th>\n",
       "      <th>median_household_income</th>\n",
       "      <th>unemployment_rate</th>\n",
       "    </tr>\n",
       "  </thead>\n",
       "  <tbody>\n",
       "    <tr>\n",
       "      <th>count</th>\n",
       "      <td>469.000000</td>\n",
       "      <td>469.000000</td>\n",
       "      <td>469.000000</td>\n",
       "      <td>469.000000</td>\n",
       "      <td>4.690000e+02</td>\n",
       "      <td>469.000000</td>\n",
       "      <td>469.000000</td>\n",
       "      <td>469.000000</td>\n",
       "    </tr>\n",
       "    <tr>\n",
       "      <th>mean</th>\n",
       "      <td>30.888248</td>\n",
       "      <td>21.659404</td>\n",
       "      <td>32.927245</td>\n",
       "      <td>14.525102</td>\n",
       "      <td>8.535886e+04</td>\n",
       "      <td>15.873774</td>\n",
       "      <td>56632.249467</td>\n",
       "      <td>3.552239</td>\n",
       "    </tr>\n",
       "    <tr>\n",
       "      <th>std</th>\n",
       "      <td>6.026791</td>\n",
       "      <td>8.418076</td>\n",
       "      <td>6.602939</td>\n",
       "      <td>8.184568</td>\n",
       "      <td>3.187045e+05</td>\n",
       "      <td>6.234949</td>\n",
       "      <td>13935.820458</td>\n",
       "      <td>1.205055</td>\n",
       "    </tr>\n",
       "    <tr>\n",
       "      <th>min</th>\n",
       "      <td>0.000000</td>\n",
       "      <td>0.000000</td>\n",
       "      <td>12.929543</td>\n",
       "      <td>0.602410</td>\n",
       "      <td>5.100000e+01</td>\n",
       "      <td>3.900000</td>\n",
       "      <td>25653.000000</td>\n",
       "      <td>0.600000</td>\n",
       "    </tr>\n",
       "    <tr>\n",
       "      <th>25%</th>\n",
       "      <td>27.628032</td>\n",
       "      <td>15.912840</td>\n",
       "      <td>29.175879</td>\n",
       "      <td>8.701854</td>\n",
       "      <td>5.281000e+03</td>\n",
       "      <td>11.500000</td>\n",
       "      <td>47373.000000</td>\n",
       "      <td>2.700000</td>\n",
       "    </tr>\n",
       "    <tr>\n",
       "      <th>50%</th>\n",
       "      <td>31.033956</td>\n",
       "      <td>19.786680</td>\n",
       "      <td>33.135356</td>\n",
       "      <td>13.208463</td>\n",
       "      <td>1.447300e+04</td>\n",
       "      <td>14.800000</td>\n",
       "      <td>53891.000000</td>\n",
       "      <td>3.500000</td>\n",
       "    </tr>\n",
       "    <tr>\n",
       "      <th>75%</th>\n",
       "      <td>33.950082</td>\n",
       "      <td>25.742040</td>\n",
       "      <td>37.415919</td>\n",
       "      <td>18.837264</td>\n",
       "      <td>4.724700e+04</td>\n",
       "      <td>18.900000</td>\n",
       "      <td>63014.000000</td>\n",
       "      <td>4.200000</td>\n",
       "    </tr>\n",
       "    <tr>\n",
       "      <th>max</th>\n",
       "      <td>76.923077</td>\n",
       "      <td>55.169506</td>\n",
       "      <td>51.170314</td>\n",
       "      <td>81.553398</td>\n",
       "      <td>4.780913e+06</td>\n",
       "      <td>43.500000</td>\n",
       "      <td>124354.000000</td>\n",
       "      <td>11.000000</td>\n",
       "    </tr>\n",
       "  </tbody>\n",
       "</table>\n",
       "</div>"
      ],
      "text/plain": [
       "       percentage_college_degree  percentage_bachelor_or_higher  \\\n",
       "count                 469.000000                     469.000000   \n",
       "mean                   30.888248                      21.659404   \n",
       "std                     6.026791                       8.418076   \n",
       "min                     0.000000                       0.000000   \n",
       "25%                    27.628032                      15.912840   \n",
       "50%                    31.033956                      19.786680   \n",
       "75%                    33.950082                      25.742040   \n",
       "max                    76.923077                      55.169506   \n",
       "\n",
       "       percentage_high_school  percentage_less_than_high_school    population  \\\n",
       "count              469.000000                        469.000000  4.690000e+02   \n",
       "mean                32.927245                         14.525102  8.535886e+04   \n",
       "std                  6.602939                          8.184568  3.187045e+05   \n",
       "min                 12.929543                          0.602410  5.100000e+01   \n",
       "25%                 29.175879                          8.701854  5.281000e+03   \n",
       "50%                 33.135356                         13.208463  1.447300e+04   \n",
       "75%                 37.415919                         18.837264  4.724700e+04   \n",
       "max                 51.170314                         81.553398  4.780913e+06   \n",
       "\n",
       "       poverty_rate  median_household_income  unemployment_rate  \n",
       "count    469.000000               469.000000         469.000000  \n",
       "mean      15.873774             56632.249467           3.552239  \n",
       "std        6.234949             13935.820458           1.205055  \n",
       "min        3.900000             25653.000000           0.600000  \n",
       "25%       11.500000             47373.000000           2.700000  \n",
       "50%       14.800000             53891.000000           3.500000  \n",
       "75%       18.900000             63014.000000           4.200000  \n",
       "max       43.500000            124354.000000          11.000000  "
      ]
     },
     "execution_count": 25,
     "metadata": {},
     "output_type": "execute_result"
    }
   ],
   "source": [
    "low5_geo.describe()"
   ]
  },
  {
   "cell_type": "code",
   "execution_count": 26,
   "metadata": {},
   "outputs": [
    {
     "data": {
      "text/html": [
       "<div>\n",
       "<style scoped>\n",
       "    .dataframe tbody tr th:only-of-type {\n",
       "        vertical-align: middle;\n",
       "    }\n",
       "\n",
       "    .dataframe tbody tr th {\n",
       "        vertical-align: top;\n",
       "    }\n",
       "\n",
       "    .dataframe thead th {\n",
       "        text-align: right;\n",
       "    }\n",
       "</style>\n",
       "<table border=\"1\" class=\"dataframe\">\n",
       "  <thead>\n",
       "    <tr style=\"text-align: right;\">\n",
       "      <th></th>\n",
       "      <th>count</th>\n",
       "      <th>mean</th>\n",
       "      <th>std</th>\n",
       "      <th>min</th>\n",
       "      <th>max</th>\n",
       "    </tr>\n",
       "  </thead>\n",
       "  <tbody>\n",
       "    <tr>\n",
       "      <th>percentage_college_degree</th>\n",
       "      <td>469.00</td>\n",
       "      <td>30.89</td>\n",
       "      <td>6.03</td>\n",
       "      <td>0.00</td>\n",
       "      <td>76.92</td>\n",
       "    </tr>\n",
       "    <tr>\n",
       "      <th>percentage_bachelor_or_higher</th>\n",
       "      <td>469.00</td>\n",
       "      <td>21.66</td>\n",
       "      <td>8.42</td>\n",
       "      <td>0.00</td>\n",
       "      <td>55.17</td>\n",
       "    </tr>\n",
       "    <tr>\n",
       "      <th>percentage_high_school</th>\n",
       "      <td>469.00</td>\n",
       "      <td>32.93</td>\n",
       "      <td>6.60</td>\n",
       "      <td>12.93</td>\n",
       "      <td>51.17</td>\n",
       "    </tr>\n",
       "    <tr>\n",
       "      <th>percentage_less_than_high_school</th>\n",
       "      <td>469.00</td>\n",
       "      <td>14.53</td>\n",
       "      <td>8.18</td>\n",
       "      <td>0.60</td>\n",
       "      <td>81.55</td>\n",
       "    </tr>\n",
       "    <tr>\n",
       "      <th>population</th>\n",
       "      <td>469.00</td>\n",
       "      <td>85.36</td>\n",
       "      <td>318.70</td>\n",
       "      <td>0.05</td>\n",
       "      <td>4,780.91</td>\n",
       "    </tr>\n",
       "    <tr>\n",
       "      <th>poverty_rate</th>\n",
       "      <td>469.00</td>\n",
       "      <td>15.87</td>\n",
       "      <td>6.23</td>\n",
       "      <td>3.90</td>\n",
       "      <td>43.50</td>\n",
       "    </tr>\n",
       "    <tr>\n",
       "      <th>median_household_income</th>\n",
       "      <td>469.00</td>\n",
       "      <td>56.63</td>\n",
       "      <td>13.94</td>\n",
       "      <td>25.65</td>\n",
       "      <td>124.35</td>\n",
       "    </tr>\n",
       "    <tr>\n",
       "      <th>unemployment_rate</th>\n",
       "      <td>469.00</td>\n",
       "      <td>3.55</td>\n",
       "      <td>1.21</td>\n",
       "      <td>0.60</td>\n",
       "      <td>11.00</td>\n",
       "    </tr>\n",
       "  </tbody>\n",
       "</table>\n",
       "</div>"
      ],
      "text/plain": [
       "                                   count   mean     std    min       max\n",
       "percentage_college_degree         469.00  30.89    6.03   0.00     76.92\n",
       "percentage_bachelor_or_higher     469.00  21.66    8.42   0.00     55.17\n",
       "percentage_high_school            469.00  32.93    6.60  12.93     51.17\n",
       "percentage_less_than_high_school  469.00  14.53    8.18   0.60     81.55\n",
       "population                        469.00  85.36  318.70   0.05  4,780.91\n",
       "poverty_rate                      469.00  15.87    6.23   3.90     43.50\n",
       "median_household_income           469.00  56.63   13.94  25.65    124.35\n",
       "unemployment_rate                 469.00   3.55    1.21   0.60     11.00"
      ]
     },
     "execution_count": 26,
     "metadata": {},
     "output_type": "execute_result"
    }
   ],
   "source": [
    "low5_geo_k = low5_geo.copy()\n",
    "low5_geo_k[\"population\"] = low5_geo_k[\"population\"]/1000\n",
    "low5_geo_k[\"median_household_income\"] = low5_geo_k[\"median_household_income\"]/1000\n",
    "#print(np.round(low5_geo_k.describe(), 2).T[['count','mean', 'std', 'min', 'max']].applymap('{:,.2f}'.format).to_latex())\n",
    "np.round(low5_geo_k.describe(), 2).T[['count','mean', 'std', 'min', 'max']].applymap('{:,.2f}'.format)"
   ]
  },
  {
   "cell_type": "code",
   "execution_count": 27,
   "metadata": {},
   "outputs": [
    {
     "data": {
      "image/png": "[encoded data removed]",
      "text/plain": [
       "<Figure size 640x480 with 1 Axes>"
      ]
     },
     "metadata": {},
     "output_type": "display_data"
    },
    {
     "data": {
      "image/png": "[encoded data removed]",
      "text/plain": [
       "<Figure size 640x480 with 1 Axes>"
      ]
     },
     "metadata": {},
     "output_type": "display_data"
    },
    {
     "data": {
      "image/png": "[encoded data removed]",
      "text/plain": [
       "<Figure size 640x480 with 1 Axes>"
      ]
     },
     "metadata": {},
     "output_type": "display_data"
    },
    {
     "data": {
      "image/png": "[encoded data removed]",
      "text/plain": [
       "<Figure size 640x480 with 1 Axes>"
      ]
     },
     "metadata": {},
     "output_type": "display_data"
    },
    {
     "data": {
      "image/png": "[encoded data removed]",
      "text/plain": [
       "<Figure size 640x480 with 1 Axes>"
      ]
     },
     "metadata": {},
     "output_type": "display_data"
    },
    {
     "data": {
      "image/png": "[encoded data removed]",
      "text/plain": [
       "<Figure size 640x480 with 1 Axes>"
      ]
     },
     "metadata": {},
     "output_type": "display_data"
    },
    {
     "data": {
      "image/png": "[encoded data removed]",
      "text/plain": [
       "<Figure size 640x480 with 1 Axes>"
      ]
     },
     "metadata": {},
     "output_type": "display_data"
    },
    {
     "data": {
      "image/png": "[encoded data removed]",
      "text/plain": [
       "<Figure size 640x480 with 1 Axes>"
      ]
     },
     "metadata": {},
     "output_type": "display_data"
    }
   ],
   "source": [
    "import matplotlib.pyplot as plt\n",
    "\n",
    "for col in low5_geo.columns:\n",
    "    plt.hist(low5_geo[col], bins = 75)\n",
    "    plt.ticklabel_format(style='plain', axis='x')\n",
    "    plt.title(col)\n",
    "    plt.show()"
   ]
  },
  {
   "cell_type": "code",
   "execution_count": 28,
   "metadata": {},
   "outputs": [],
   "source": [
    "low5_geo.to_pickle(\"C:/Users/Hauke/OneDrive - ucp.pt/04_Thesis/00_GitHub/Thesis/data/processed/enrichment/low5_geo.pkl\")"
   ]
  },
  {
   "cell_type": "markdown",
   "metadata": {},
   "source": [
    "### Correlation Analysis"
   ]
  },
  {
   "cell_type": "markdown",
   "metadata": {},
   "source": [
    "As a high correlation between the KPIs is expected, a correlation matrix is created."
   ]
  },
  {
   "cell_type": "code",
   "execution_count": 29,
   "metadata": {},
   "outputs": [
    {
     "data": {
      "image/png": "[encoded data removed]",
      "text/plain": [
       "<Figure size 1000x1000 with 2 Axes>"
      ]
     },
     "metadata": {},
     "output_type": "display_data"
    }
   ],
   "source": [
    "import seaborn as sns\n",
    "\n",
    "plt.figure(figsize=(10, 10))\n",
    "sns.heatmap(low5_geo.corr(), annot=True, cmap=\"coolwarm\")\n",
    "plt.show()"
   ]
  }
 ],
 "metadata": {
  "kernelspec": {
   "display_name": "Python 3",
   "language": "python",
   "name": "python3"
  },
  "language_info": {
   "codemirror_mode": {
    "name": "ipython",
    "version": 3
   },
   "file_extension": ".py",
   "mimetype": "text/x-python",
   "name": "python",
   "nbconvert_exporter": "python",
   "pygments_lexer": "ipython3",
   "version": "3.11.0"
  }
 },
 "nbformat": 4,
 "nbformat_minor": 2
}
