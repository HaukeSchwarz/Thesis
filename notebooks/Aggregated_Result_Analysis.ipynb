{
 "cells": [
  {
   "cell_type": "markdown",
   "metadata": {},
   "source": [
    "### Added results section"
   ]
  },
  {
   "cell_type": "code",
   "execution_count": 1,
   "metadata": {},
   "outputs": [],
   "source": [
    "import numpy as np\n",
    "import pandas as pd"
   ]
  },
  {
   "cell_type": "code",
   "execution_count": 4,
   "metadata": {},
   "outputs": [],
   "source": [
    "comp_df_cal_eqodds = pd.read_pickle(\"C:/Users/Hauke/OneDrive - ucp.pt/04_Thesis/00_GitHub/Thesis/data/interim/result_frames/performance/comp_df_cal_eqodds.pkl\")\n",
    "\n",
    "results_df_eqodds_cor = pd.read_pickle(\"C:/Users/Hauke/OneDrive - ucp.pt/04_Thesis/00_GitHub/Thesis/data/interim/result_frames/performance/results_df_eqodds_cor.pkl\")"
   ]
  },
  {
   "cell_type": "code",
   "execution_count": 5,
   "metadata": {},
   "outputs": [
    {
     "data": {
      "text/html": [
       "<div>\n",
       "<style scoped>\n",
       "    .dataframe tbody tr th:only-of-type {\n",
       "        vertical-align: middle;\n",
       "    }\n",
       "\n",
       "    .dataframe tbody tr th {\n",
       "        vertical-align: top;\n",
       "    }\n",
       "\n",
       "    .dataframe thead th {\n",
       "        text-align: right;\n",
       "    }\n",
       "</style>\n",
       "<table border=\"1\" class=\"dataframe\">\n",
       "  <thead>\n",
       "    <tr style=\"text-align: right;\">\n",
       "      <th></th>\n",
       "      <th>Cal. Eq. Odds</th>\n",
       "      <th>Corr. Rem.</th>\n",
       "    </tr>\n",
       "  </thead>\n",
       "  <tbody>\n",
       "    <tr>\n",
       "      <th>accuracy</th>\n",
       "      <td>0.730104</td>\n",
       "      <td>0.906038</td>\n",
       "    </tr>\n",
       "    <tr>\n",
       "      <th>precision</th>\n",
       "      <td>0.689267</td>\n",
       "      <td>0.880305</td>\n",
       "    </tr>\n",
       "    <tr>\n",
       "      <th>recall</th>\n",
       "      <td>0.972828</td>\n",
       "      <td>0.969708</td>\n",
       "    </tr>\n",
       "    <tr>\n",
       "      <th>f1</th>\n",
       "      <td>0.806859</td>\n",
       "      <td>0.922846</td>\n",
       "    </tr>\n",
       "    <tr>\n",
       "      <th>roc_auc</th>\n",
       "      <td>NA</td>\n",
       "      <td>NA</td>\n",
       "    </tr>\n",
       "    <tr>\n",
       "      <th>tpr_disparity</th>\n",
       "      <td>0.950935</td>\n",
       "      <td>0.94203</td>\n",
       "    </tr>\n",
       "    <tr>\n",
       "      <th>fpr_disparity</th>\n",
       "      <td>0.428591</td>\n",
       "      <td>0.75608</td>\n",
       "    </tr>\n",
       "    <tr>\n",
       "      <th>tnr_disparity</th>\n",
       "      <td>2.232092</td>\n",
       "      <td>1.057631</td>\n",
       "    </tr>\n",
       "    <tr>\n",
       "      <th>fnr_disparity</th>\n",
       "      <td>3.250273</td>\n",
       "      <td>3.417939</td>\n",
       "    </tr>\n",
       "  </tbody>\n",
       "</table>\n",
       "</div>"
      ],
      "text/plain": [
       "              Cal. Eq. Odds Corr. Rem.\n",
       "accuracy           0.730104   0.906038\n",
       "precision          0.689267   0.880305\n",
       "recall             0.972828   0.969708\n",
       "f1                 0.806859   0.922846\n",
       "roc_auc                  NA         NA\n",
       "tpr_disparity      0.950935    0.94203\n",
       "fpr_disparity      0.428591    0.75608\n",
       "tnr_disparity      2.232092   1.057631\n",
       "fnr_disparity      3.250273   3.417939"
      ]
     },
     "execution_count": 5,
     "metadata": {},
     "output_type": "execute_result"
    }
   ],
   "source": [
    "results_df_eqodds_cor"
   ]
  }
 ],
 "metadata": {
  "kernelspec": {
   "display_name": "Python 3",
   "language": "python",
   "name": "python3"
  },
  "language_info": {
   "codemirror_mode": {
    "name": "ipython",
    "version": 3
   },
   "file_extension": ".py",
   "mimetype": "text/x-python",
   "name": "python",
   "nbconvert_exporter": "python",
   "pygments_lexer": "ipython3",
   "version": "3.11.0"
  }
 },
 "nbformat": 4,
 "nbformat_minor": 2
}
