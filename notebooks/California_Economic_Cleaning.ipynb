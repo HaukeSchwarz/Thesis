{
 "cells": [
  {
   "cell_type": "markdown",
   "metadata": {},
   "source": [
    "# Cleaning of the geographical enrichment variables"
   ]
  },
  {
   "cell_type": "markdown",
   "metadata": {},
   "source": [
    "This notebook aims to bring the geographical enrichment variables (https://www.ers.usda.gov/data-products/county-level-data-sets/) into a format that is useful to work with for the purpose of this thesis."
   ]
  },
  {
   "cell_type": "markdown",
   "metadata": {},
   "source": [
    "## Set-Up"
   ]
  },
  {
   "cell_type": "markdown",
   "metadata": {},
   "source": [
    "The goal is to work with pandas dataframes, so numpy and pandas are required."
   ]
  },
  {
   "cell_type": "code",
   "execution_count": 1,
   "metadata": {},
   "outputs": [],
   "source": [
    "import pandas as pd \n",
    "import numpy as np"
   ]
  },
  {
   "cell_type": "markdown",
   "metadata": {},
   "source": [
    "## Raw Files"
   ]
  },
  {
   "cell_type": "markdown",
   "metadata": {},
   "source": [
    "All data (separate datasets on education, population, poverty, and unemployment per state) is available in CSV format, the inbuilt pandas function `read_csv` is utilized to store the data in a pandas dataframe."
   ]
  },
  {
   "cell_type": "code",
   "execution_count": 2,
   "metadata": {},
   "outputs": [],
   "source": [
    "educ_raw = pd.read_csv(\"C:/Users/Hauke/OneDrive - ucp.pt/04_Thesis/00_GitHub/Thesis/data/raw/California_Geographic/Education.csv\", encoding = \"latin1\")\n",
    "pop_raw = pd.read_csv(\"C:/Users/Hauke/OneDrive - ucp.pt/04_Thesis/00_GitHub/Thesis/data/raw/California_Geographic/PopulationEstimates.csv\", encoding = \"latin1\")\n",
    "pov_raw = pd.read_csv(\"C:/Users/Hauke/OneDrive - ucp.pt/04_Thesis/00_GitHub/Thesis/data/raw/California_Geographic/PovertyEstimates.csv\", encoding = \"latin1\")\n",
    "unemp_raw = pd.read_csv(\"C:/Users/Hauke/OneDrive - ucp.pt/04_Thesis/00_GitHub/Thesis/data/raw/California_Geographic/Unemployment.csv\", encoding = \"latin1\")"
   ]
  },
  {
   "cell_type": "markdown",
   "metadata": {},
   "source": [
    "## Reshaping"
   ]
  },
  {
   "cell_type": "markdown",
   "metadata": {},
   "source": [
    "The downloadable CSVs are in a different format than displayed on the USDA homepage. As the aim of these dataframes is to enrich the main dataset, which does contain FIPS codes, the data is reshaped in a way that this FIPS code (together with the corresponding area name) are used to index the dataframe in order to facilitate merging and/or county-level analysis."
   ]
  },
  {
   "cell_type": "markdown",
   "metadata": {},
   "source": [
    "### Education"
   ]
  },
  {
   "cell_type": "markdown",
   "metadata": {},
   "source": [
    "The raw dataframe imported above is filtered to include only the relevant values (i.e. counties in California, but not the summary of the state of California itself). Only the percentage values relevant for the thesis are kept, the rest is dropped. Also, only the newest datapoints (years 2017-2021) are kept, the rest is dropped. As the data is structured in a way that information on years and KPIs are stored in the \"Attribute\" column, the dataframe is pivoted to have the KPIs as column for easier comparability."
   ]
  },
  {
   "cell_type": "code",
   "execution_count": 3,
   "metadata": {},
   "outputs": [],
   "source": [
    "educ_ca = educ_raw[(educ_raw[\"State\"] == \"CA\") & \n",
    "                   (educ_raw[\"Attribute\"].str.contains(\"Percent\")) & \n",
    "                   (educ_raw[\"Attribute\"].str.contains(\"2017-21\")) & \n",
    "                   (educ_raw[\"Area name\"].str.contains(\"County\"))]\n",
    "\n",
    "educ_ca_t = educ_ca.pivot(index = [\"Federal Information Processing Standard (FIPS) Code\", \"Area name\"],columns=\"Attribute\", values=\"Value\")"
   ]
  },
  {
   "cell_type": "code",
   "execution_count": 4,
   "metadata": {},
   "outputs": [
    {
     "data": {
      "text/html": [
       "<div>\n",
       "<style scoped>\n",
       "    .dataframe tbody tr th:only-of-type {\n",
       "        vertical-align: middle;\n",
       "    }\n",
       "\n",
       "    .dataframe tbody tr th {\n",
       "        vertical-align: top;\n",
       "    }\n",
       "\n",
       "    .dataframe thead th {\n",
       "        text-align: right;\n",
       "    }\n",
       "</style>\n",
       "<table border=\"1\" class=\"dataframe\">\n",
       "  <thead>\n",
       "    <tr style=\"text-align: right;\">\n",
       "      <th></th>\n",
       "      <th>Attribute</th>\n",
       "      <th>Percent of adults completing some college or associate's degree, 2017-21</th>\n",
       "      <th>Percent of adults with a bachelor's degree or higher, 2017-21</th>\n",
       "      <th>Percent of adults with a high school diploma only, 2017-21</th>\n",
       "      <th>Percent of adults with less than a high school diploma, 2017-21</th>\n",
       "    </tr>\n",
       "    <tr>\n",
       "      <th>Federal Information Processing Standard (FIPS) Code</th>\n",
       "      <th>Area name</th>\n",
       "      <th></th>\n",
       "      <th></th>\n",
       "      <th></th>\n",
       "      <th></th>\n",
       "    </tr>\n",
       "  </thead>\n",
       "  <tbody>\n",
       "    <tr>\n",
       "      <th>6001</th>\n",
       "      <th>Alameda County</th>\n",
       "      <td>22.707463</td>\n",
       "      <td>49.643049</td>\n",
       "      <td>16.653921</td>\n",
       "      <td>10.995566</td>\n",
       "    </tr>\n",
       "    <tr>\n",
       "      <th>6003</th>\n",
       "      <th>Alpine County</th>\n",
       "      <td>28.689370</td>\n",
       "      <td>39.318885</td>\n",
       "      <td>25.696594</td>\n",
       "      <td>6.295150</td>\n",
       "    </tr>\n",
       "    <tr>\n",
       "      <th>6005</th>\n",
       "      <th>Amador County</th>\n",
       "      <td>41.141056</td>\n",
       "      <td>19.517730</td>\n",
       "      <td>30.650906</td>\n",
       "      <td>8.690307</td>\n",
       "    </tr>\n",
       "    <tr>\n",
       "      <th>6007</th>\n",
       "      <th>Butte County</th>\n",
       "      <td>38.278925</td>\n",
       "      <td>29.760071</td>\n",
       "      <td>22.300534</td>\n",
       "      <td>9.660470</td>\n",
       "    </tr>\n",
       "    <tr>\n",
       "      <th>6009</th>\n",
       "      <th>Calaveras County</th>\n",
       "      <td>39.950216</td>\n",
       "      <td>19.910732</td>\n",
       "      <td>30.943321</td>\n",
       "      <td>9.195731</td>\n",
       "    </tr>\n",
       "  </tbody>\n",
       "</table>\n",
       "</div>"
      ],
      "text/plain": [
       "Attribute                                                            Percent of adults completing some college or associate's degree, 2017-21  \\\n",
       "Federal Information Processing Standard (FIPS) ... Area name                                                                                    \n",
       "6001                                               Alameda County                                            22.707463                          \n",
       "6003                                               Alpine County                                             28.689370                          \n",
       "6005                                               Amador County                                             41.141056                          \n",
       "6007                                               Butte County                                              38.278925                          \n",
       "6009                                               Calaveras County                                          39.950216                          \n",
       "\n",
       "Attribute                                                            Percent of adults with a bachelor's degree or higher, 2017-21  \\\n",
       "Federal Information Processing Standard (FIPS) ... Area name                                                                         \n",
       "6001                                               Alameda County                                            49.643049               \n",
       "6003                                               Alpine County                                             39.318885               \n",
       "6005                                               Amador County                                             19.517730               \n",
       "6007                                               Butte County                                              29.760071               \n",
       "6009                                               Calaveras County                                          19.910732               \n",
       "\n",
       "Attribute                                                            Percent of adults with a high school diploma only, 2017-21  \\\n",
       "Federal Information Processing Standard (FIPS) ... Area name                                                                      \n",
       "6001                                               Alameda County                                            16.653921            \n",
       "6003                                               Alpine County                                             25.696594            \n",
       "6005                                               Amador County                                             30.650906            \n",
       "6007                                               Butte County                                              22.300534            \n",
       "6009                                               Calaveras County                                          30.943321            \n",
       "\n",
       "Attribute                                                            Percent of adults with less than a high school diploma, 2017-21  \n",
       "Federal Information Processing Standard (FIPS) ... Area name                                                                          \n",
       "6001                                               Alameda County                                            10.995566                \n",
       "6003                                               Alpine County                                              6.295150                \n",
       "6005                                               Amador County                                              8.690307                \n",
       "6007                                               Butte County                                               9.660470                \n",
       "6009                                               Calaveras County                                           9.195731                "
      ]
     },
     "execution_count": 4,
     "metadata": {},
     "output_type": "execute_result"
    }
   ],
   "source": [
    "educ_ca_t.head()"
   ]
  },
  {
   "cell_type": "markdown",
   "metadata": {},
   "source": [
    "### Population"
   ]
  },
  {
   "cell_type": "markdown",
   "metadata": {},
   "source": [
    "The only relevant KPI from this dataframe is the most recent (2022) population figure (\"POP_ESTIMATE_2022\"). Besides that (and a different variable naming), the procedure is the same as for the education dataframe."
   ]
  },
  {
   "cell_type": "code",
   "execution_count": 5,
   "metadata": {},
   "outputs": [],
   "source": [
    "pop_ca = pop_raw[(pop_raw[\"State\"] == \"CA\") &\n",
    "                 (pop_raw[\"Attribute\"].str.contains(\"POP_ESTIMATE_2022\")) &\n",
    "                 (pop_raw[\"Area_Name\"].str.contains(\"County\"))]\n",
    "\n",
    "pop_ca_t = pop_ca.pivot(index = [\"FIPStxt\", \"Area_Name\"],columns=\"Attribute\", values=\"Value\")"
   ]
  },
  {
   "cell_type": "code",
   "execution_count": 6,
   "metadata": {},
   "outputs": [
    {
     "data": {
      "text/html": [
       "<div>\n",
       "<style scoped>\n",
       "    .dataframe tbody tr th:only-of-type {\n",
       "        vertical-align: middle;\n",
       "    }\n",
       "\n",
       "    .dataframe tbody tr th {\n",
       "        vertical-align: top;\n",
       "    }\n",
       "\n",
       "    .dataframe thead th {\n",
       "        text-align: right;\n",
       "    }\n",
       "</style>\n",
       "<table border=\"1\" class=\"dataframe\">\n",
       "  <thead>\n",
       "    <tr style=\"text-align: right;\">\n",
       "      <th></th>\n",
       "      <th>Attribute</th>\n",
       "      <th>POP_ESTIMATE_2022</th>\n",
       "    </tr>\n",
       "    <tr>\n",
       "      <th>FIPStxt</th>\n",
       "      <th>Area_Name</th>\n",
       "      <th></th>\n",
       "    </tr>\n",
       "  </thead>\n",
       "  <tbody>\n",
       "    <tr>\n",
       "      <th>6001</th>\n",
       "      <th>Alameda County</th>\n",
       "      <td>1628997.0</td>\n",
       "    </tr>\n",
       "    <tr>\n",
       "      <th>6003</th>\n",
       "      <th>Alpine County</th>\n",
       "      <td>1190.0</td>\n",
       "    </tr>\n",
       "    <tr>\n",
       "      <th>6005</th>\n",
       "      <th>Amador County</th>\n",
       "      <td>41412.0</td>\n",
       "    </tr>\n",
       "    <tr>\n",
       "      <th>6007</th>\n",
       "      <th>Butte County</th>\n",
       "      <td>207303.0</td>\n",
       "    </tr>\n",
       "    <tr>\n",
       "      <th>6009</th>\n",
       "      <th>Calaveras County</th>\n",
       "      <td>46563.0</td>\n",
       "    </tr>\n",
       "  </tbody>\n",
       "</table>\n",
       "</div>"
      ],
      "text/plain": [
       "Attribute                 POP_ESTIMATE_2022\n",
       "FIPStxt Area_Name                          \n",
       "6001    Alameda County            1628997.0\n",
       "6003    Alpine County                1190.0\n",
       "6005    Amador County               41412.0\n",
       "6007    Butte County               207303.0\n",
       "6009    Calaveras County            46563.0"
      ]
     },
     "execution_count": 6,
     "metadata": {},
     "output_type": "execute_result"
    }
   ],
   "source": [
    "pop_ca_t.head()"
   ]
  },
  {
   "cell_type": "markdown",
   "metadata": {},
   "source": [
    "### Poverty"
   ]
  },
  {
   "cell_type": "markdown",
   "metadata": {},
   "source": [
    "The variable of interest in this dataframe is \"PCTPOVALL_2021\", which is the estimation of people living in poverty among all people in the county. The procedure is the same as for the education dataframe."
   ]
  },
  {
   "cell_type": "code",
   "execution_count": 7,
   "metadata": {},
   "outputs": [],
   "source": [
    "pov_ca = pov_raw[(pov_raw[\"Stabr\"] == \"CA\") &\n",
    "                 (pov_raw[\"Attribute\"].str.contains(\"PCTPOVALL_2021\")) &\n",
    "                 (pov_raw[\"Area_name\"].str.contains(\"County\"))]\n",
    "\n",
    "pov_ca_t = pov_ca.pivot(index = [\"FIPS_Code\", \"Area_name\"],columns=\"Attribute\", values=\"Value\")"
   ]
  },
  {
   "cell_type": "code",
   "execution_count": 8,
   "metadata": {},
   "outputs": [
    {
     "data": {
      "text/html": [
       "<div>\n",
       "<style scoped>\n",
       "    .dataframe tbody tr th:only-of-type {\n",
       "        vertical-align: middle;\n",
       "    }\n",
       "\n",
       "    .dataframe tbody tr th {\n",
       "        vertical-align: top;\n",
       "    }\n",
       "\n",
       "    .dataframe thead th {\n",
       "        text-align: right;\n",
       "    }\n",
       "</style>\n",
       "<table border=\"1\" class=\"dataframe\">\n",
       "  <thead>\n",
       "    <tr style=\"text-align: right;\">\n",
       "      <th></th>\n",
       "      <th>Attribute</th>\n",
       "      <th>PCTPOVALL_2021</th>\n",
       "    </tr>\n",
       "    <tr>\n",
       "      <th>FIPS_Code</th>\n",
       "      <th>Area_name</th>\n",
       "      <th></th>\n",
       "    </tr>\n",
       "  </thead>\n",
       "  <tbody>\n",
       "    <tr>\n",
       "      <th>6001</th>\n",
       "      <th>Alameda County</th>\n",
       "      <td>9.4</td>\n",
       "    </tr>\n",
       "    <tr>\n",
       "      <th>6003</th>\n",
       "      <th>Alpine County</th>\n",
       "      <td>15.8</td>\n",
       "    </tr>\n",
       "    <tr>\n",
       "      <th>6005</th>\n",
       "      <th>Amador County</th>\n",
       "      <td>11.1</td>\n",
       "    </tr>\n",
       "    <tr>\n",
       "      <th>6007</th>\n",
       "      <th>Butte County</th>\n",
       "      <td>16.6</td>\n",
       "    </tr>\n",
       "    <tr>\n",
       "      <th>6009</th>\n",
       "      <th>Calaveras County</th>\n",
       "      <td>13.5</td>\n",
       "    </tr>\n",
       "  </tbody>\n",
       "</table>\n",
       "</div>"
      ],
      "text/plain": [
       "Attribute                   PCTPOVALL_2021\n",
       "FIPS_Code Area_name                       \n",
       "6001      Alameda County               9.4\n",
       "6003      Alpine County               15.8\n",
       "6005      Amador County               11.1\n",
       "6007      Butte County                16.6\n",
       "6009      Calaveras County            13.5"
      ]
     },
     "execution_count": 8,
     "metadata": {},
     "output_type": "execute_result"
    }
   ],
   "source": [
    "pov_ca_t.head()"
   ]
  },
  {
   "cell_type": "markdown",
   "metadata": {},
   "source": [
    "### Unemployment"
   ]
  },
  {
   "cell_type": "markdown",
   "metadata": {},
   "source": [
    "The unemployment dataframe contains two values of interest per county: The unemployment rate (for the sake of this analysis, the most recent figures from 2022 - \"Unemployment_rate_2022\" is used) and the median household income (\"Median_Household_Income_2022\"). The procedure is the same as for the previous dataframes. "
   ]
  },
  {
   "cell_type": "code",
   "execution_count": 9,
   "metadata": {},
   "outputs": [],
   "source": [
    "unemp_ca = unemp_raw[(unemp_raw[\"State\"] == \"CA\") &\n",
    "                     (unemp_raw[\"Attribute\"].isin([\"Unemployment_rate_2022\", \"Median_Household_Income_2021\"])) &\n",
    "                     (unemp_raw[\"Area_Name\"].str.contains(\"County\"))]\n",
    "\n",
    "unemp_ca_t = unemp_ca.pivot(index = [\"FIPS_Code\", \"Area_Name\"],columns=\"Attribute\", values=\"Value\")"
   ]
  },
  {
   "cell_type": "code",
   "execution_count": 10,
   "metadata": {},
   "outputs": [
    {
     "data": {
      "text/html": [
       "<div>\n",
       "<style scoped>\n",
       "    .dataframe tbody tr th:only-of-type {\n",
       "        vertical-align: middle;\n",
       "    }\n",
       "\n",
       "    .dataframe tbody tr th {\n",
       "        vertical-align: top;\n",
       "    }\n",
       "\n",
       "    .dataframe thead th {\n",
       "        text-align: right;\n",
       "    }\n",
       "</style>\n",
       "<table border=\"1\" class=\"dataframe\">\n",
       "  <thead>\n",
       "    <tr style=\"text-align: right;\">\n",
       "      <th></th>\n",
       "      <th>Attribute</th>\n",
       "      <th>Median_Household_Income_2021</th>\n",
       "      <th>Unemployment_rate_2022</th>\n",
       "    </tr>\n",
       "    <tr>\n",
       "      <th>FIPS_Code</th>\n",
       "      <th>Area_Name</th>\n",
       "      <th></th>\n",
       "      <th></th>\n",
       "    </tr>\n",
       "  </thead>\n",
       "  <tbody>\n",
       "    <tr>\n",
       "      <th>6001</th>\n",
       "      <th>Alameda County, CA</th>\n",
       "      <td>108971.0</td>\n",
       "      <td>3.3</td>\n",
       "    </tr>\n",
       "    <tr>\n",
       "      <th>6003</th>\n",
       "      <th>Alpine County, CA</th>\n",
       "      <td>87570.0</td>\n",
       "      <td>5.4</td>\n",
       "    </tr>\n",
       "    <tr>\n",
       "      <th>6005</th>\n",
       "      <th>Amador County, CA</th>\n",
       "      <td>68159.0</td>\n",
       "      <td>4.4</td>\n",
       "    </tr>\n",
       "    <tr>\n",
       "      <th>6007</th>\n",
       "      <th>Butte County, CA</th>\n",
       "      <td>62982.0</td>\n",
       "      <td>4.5</td>\n",
       "    </tr>\n",
       "    <tr>\n",
       "      <th>6009</th>\n",
       "      <th>Calaveras County, CA</th>\n",
       "      <td>68298.0</td>\n",
       "      <td>3.6</td>\n",
       "    </tr>\n",
       "  </tbody>\n",
       "</table>\n",
       "</div>"
      ],
      "text/plain": [
       "Attribute                       Median_Household_Income_2021  \\\n",
       "FIPS_Code Area_Name                                            \n",
       "6001      Alameda County, CA                        108971.0   \n",
       "6003      Alpine County, CA                          87570.0   \n",
       "6005      Amador County, CA                          68159.0   \n",
       "6007      Butte County, CA                           62982.0   \n",
       "6009      Calaveras County, CA                       68298.0   \n",
       "\n",
       "Attribute                       Unemployment_rate_2022  \n",
       "FIPS_Code Area_Name                                     \n",
       "6001      Alameda County, CA                       3.3  \n",
       "6003      Alpine County, CA                        5.4  \n",
       "6005      Amador County, CA                        4.4  \n",
       "6007      Butte County, CA                         4.5  \n",
       "6009      Calaveras County, CA                     3.6  "
      ]
     },
     "execution_count": 10,
     "metadata": {},
     "output_type": "execute_result"
    }
   ],
   "source": [
    "unemp_ca_t.head()"
   ]
  },
  {
   "cell_type": "markdown",
   "metadata": {},
   "source": [
    "## Check completeness"
   ]
  },
  {
   "cell_type": "markdown",
   "metadata": {},
   "source": [
    "Checking if there are data available for all counties"
   ]
  },
  {
   "cell_type": "code",
   "execution_count": 11,
   "metadata": {},
   "outputs": [
    {
     "name": "stdout",
     "output_type": "stream",
     "text": [
      "(58, 4) (58, 1) (58, 1) (58, 2)\n"
     ]
    }
   ],
   "source": [
    "print(educ_ca_t.shape, pop_ca_t.shape, pov_ca_t.shape, unemp_ca_t.shape)"
   ]
  },
  {
   "cell_type": "code",
   "execution_count": 12,
   "metadata": {},
   "outputs": [
    {
     "name": "stdout",
     "output_type": "stream",
     "text": [
      "Attribute\n",
      "Percent of adults completing some college or associate's degree, 2017-21    0\n",
      "Percent of adults with a bachelor's degree or higher, 2017-21               0\n",
      "Percent of adults with a high school diploma only, 2017-21                  0\n",
      "Percent of adults with less than a high school diploma, 2017-21             0\n",
      "dtype: int64 \n",
      " Attribute\n",
      "POP_ESTIMATE_2022    0\n",
      "dtype: int64 \n",
      " Attribute\n",
      "PCTPOVALL_2021    0\n",
      "dtype: int64 \n",
      " Attribute\n",
      "Median_Household_Income_2021    0\n",
      "Unemployment_rate_2022          0\n",
      "dtype: int64\n"
     ]
    }
   ],
   "source": [
    "print(educ_ca_t.isna().sum(), \"\\n\", pop_ca_t.isna().sum(), \"\\n\", pov_ca_t.isna().sum(), \"\\n\", unemp_ca_t.isna().sum())"
   ]
  },
  {
   "cell_type": "markdown",
   "metadata": {},
   "source": [
    "## Merging"
   ]
  },
  {
   "cell_type": "markdown",
   "metadata": {},
   "source": [
    "In order to create one dataframe containing all information, the dataframes are merged based on their indices. As the indices are named differently and multiindexing is used, the indices are renamed to match the FIPS code and county name of the main dataframe by overwriting the indices of all dataframes with the indices of the education dataframes. This is only possible as we have already checked for completeness of the data and have ensured that all index values and their order are identical (albeit named differently). The resulting dataframe holds all information in a unified format, structured by FIPS code and county name."
   ]
  },
  {
   "cell_type": "code",
   "execution_count": 13,
   "metadata": {},
   "outputs": [],
   "source": [
    "pop_ca_t.index = educ_ca_t.index\n",
    "pov_ca_t.index = educ_ca_t.index\n",
    "unemp_ca_t.index = educ_ca_t.index"
   ]
  },
  {
   "cell_type": "code",
   "execution_count": 14,
   "metadata": {},
   "outputs": [],
   "source": [
    "# Merge the dataframes based on the first item of the index\n",
    "ca_geo = educ_ca_t.merge(pop_ca_t, left_index = True, right_index = True, how = \"inner\")\n",
    "ca_geo = ca_geo.merge(pov_ca_t, left_index = True, right_index = True, how = \"inner\")\n",
    "ca_geo = ca_geo.merge(unemp_ca_t, left_index = True, right_index = True, how = \"inner\")"
   ]
  },
  {
   "cell_type": "code",
   "execution_count": 15,
   "metadata": {},
   "outputs": [
    {
     "data": {
      "text/html": [
       "<div>\n",
       "<style scoped>\n",
       "    .dataframe tbody tr th:only-of-type {\n",
       "        vertical-align: middle;\n",
       "    }\n",
       "\n",
       "    .dataframe tbody tr th {\n",
       "        vertical-align: top;\n",
       "    }\n",
       "\n",
       "    .dataframe thead th {\n",
       "        text-align: right;\n",
       "    }\n",
       "</style>\n",
       "<table border=\"1\" class=\"dataframe\">\n",
       "  <thead>\n",
       "    <tr style=\"text-align: right;\">\n",
       "      <th></th>\n",
       "      <th>Attribute</th>\n",
       "      <th>Percent of adults completing some college or associate's degree, 2017-21</th>\n",
       "      <th>Percent of adults with a bachelor's degree or higher, 2017-21</th>\n",
       "      <th>Percent of adults with a high school diploma only, 2017-21</th>\n",
       "      <th>Percent of adults with less than a high school diploma, 2017-21</th>\n",
       "      <th>POP_ESTIMATE_2022</th>\n",
       "      <th>PCTPOVALL_2021</th>\n",
       "      <th>Median_Household_Income_2021</th>\n",
       "      <th>Unemployment_rate_2022</th>\n",
       "    </tr>\n",
       "    <tr>\n",
       "      <th>Federal Information Processing Standard (FIPS) Code</th>\n",
       "      <th>Area name</th>\n",
       "      <th></th>\n",
       "      <th></th>\n",
       "      <th></th>\n",
       "      <th></th>\n",
       "      <th></th>\n",
       "      <th></th>\n",
       "      <th></th>\n",
       "      <th></th>\n",
       "    </tr>\n",
       "  </thead>\n",
       "  <tbody>\n",
       "    <tr>\n",
       "      <th>6001</th>\n",
       "      <th>Alameda County</th>\n",
       "      <td>22.707463</td>\n",
       "      <td>49.643049</td>\n",
       "      <td>16.653921</td>\n",
       "      <td>10.995566</td>\n",
       "      <td>1628997.0</td>\n",
       "      <td>9.4</td>\n",
       "      <td>108971.0</td>\n",
       "      <td>3.3</td>\n",
       "    </tr>\n",
       "    <tr>\n",
       "      <th>6003</th>\n",
       "      <th>Alpine County</th>\n",
       "      <td>28.689370</td>\n",
       "      <td>39.318885</td>\n",
       "      <td>25.696594</td>\n",
       "      <td>6.295150</td>\n",
       "      <td>1190.0</td>\n",
       "      <td>15.8</td>\n",
       "      <td>87570.0</td>\n",
       "      <td>5.4</td>\n",
       "    </tr>\n",
       "    <tr>\n",
       "      <th>6005</th>\n",
       "      <th>Amador County</th>\n",
       "      <td>41.141056</td>\n",
       "      <td>19.517730</td>\n",
       "      <td>30.650906</td>\n",
       "      <td>8.690307</td>\n",
       "      <td>41412.0</td>\n",
       "      <td>11.1</td>\n",
       "      <td>68159.0</td>\n",
       "      <td>4.4</td>\n",
       "    </tr>\n",
       "    <tr>\n",
       "      <th>6007</th>\n",
       "      <th>Butte County</th>\n",
       "      <td>38.278925</td>\n",
       "      <td>29.760071</td>\n",
       "      <td>22.300534</td>\n",
       "      <td>9.660470</td>\n",
       "      <td>207303.0</td>\n",
       "      <td>16.6</td>\n",
       "      <td>62982.0</td>\n",
       "      <td>4.5</td>\n",
       "    </tr>\n",
       "    <tr>\n",
       "      <th>6009</th>\n",
       "      <th>Calaveras County</th>\n",
       "      <td>39.950216</td>\n",
       "      <td>19.910732</td>\n",
       "      <td>30.943321</td>\n",
       "      <td>9.195731</td>\n",
       "      <td>46563.0</td>\n",
       "      <td>13.5</td>\n",
       "      <td>68298.0</td>\n",
       "      <td>3.6</td>\n",
       "    </tr>\n",
       "  </tbody>\n",
       "</table>\n",
       "</div>"
      ],
      "text/plain": [
       "Attribute                                                            Percent of adults completing some college or associate's degree, 2017-21  \\\n",
       "Federal Information Processing Standard (FIPS) ... Area name                                                                                    \n",
       "6001                                               Alameda County                                            22.707463                          \n",
       "6003                                               Alpine County                                             28.689370                          \n",
       "6005                                               Amador County                                             41.141056                          \n",
       "6007                                               Butte County                                              38.278925                          \n",
       "6009                                               Calaveras County                                          39.950216                          \n",
       "\n",
       "Attribute                                                            Percent of adults with a bachelor's degree or higher, 2017-21  \\\n",
       "Federal Information Processing Standard (FIPS) ... Area name                                                                         \n",
       "6001                                               Alameda County                                            49.643049               \n",
       "6003                                               Alpine County                                             39.318885               \n",
       "6005                                               Amador County                                             19.517730               \n",
       "6007                                               Butte County                                              29.760071               \n",
       "6009                                               Calaveras County                                          19.910732               \n",
       "\n",
       "Attribute                                                            Percent of adults with a high school diploma only, 2017-21  \\\n",
       "Federal Information Processing Standard (FIPS) ... Area name                                                                      \n",
       "6001                                               Alameda County                                            16.653921            \n",
       "6003                                               Alpine County                                             25.696594            \n",
       "6005                                               Amador County                                             30.650906            \n",
       "6007                                               Butte County                                              22.300534            \n",
       "6009                                               Calaveras County                                          30.943321            \n",
       "\n",
       "Attribute                                                            Percent of adults with less than a high school diploma, 2017-21  \\\n",
       "Federal Information Processing Standard (FIPS) ... Area name                                                                           \n",
       "6001                                               Alameda County                                            10.995566                 \n",
       "6003                                               Alpine County                                              6.295150                 \n",
       "6005                                               Amador County                                              8.690307                 \n",
       "6007                                               Butte County                                               9.660470                 \n",
       "6009                                               Calaveras County                                           9.195731                 \n",
       "\n",
       "Attribute                                                            POP_ESTIMATE_2022  \\\n",
       "Federal Information Processing Standard (FIPS) ... Area name                             \n",
       "6001                                               Alameda County            1628997.0   \n",
       "6003                                               Alpine County                1190.0   \n",
       "6005                                               Amador County               41412.0   \n",
       "6007                                               Butte County               207303.0   \n",
       "6009                                               Calaveras County            46563.0   \n",
       "\n",
       "Attribute                                                            PCTPOVALL_2021  \\\n",
       "Federal Information Processing Standard (FIPS) ... Area name                          \n",
       "6001                                               Alameda County               9.4   \n",
       "6003                                               Alpine County               15.8   \n",
       "6005                                               Amador County               11.1   \n",
       "6007                                               Butte County                16.6   \n",
       "6009                                               Calaveras County            13.5   \n",
       "\n",
       "Attribute                                                            Median_Household_Income_2021  \\\n",
       "Federal Information Processing Standard (FIPS) ... Area name                                        \n",
       "6001                                               Alameda County                        108971.0   \n",
       "6003                                               Alpine County                          87570.0   \n",
       "6005                                               Amador County                          68159.0   \n",
       "6007                                               Butte County                           62982.0   \n",
       "6009                                               Calaveras County                       68298.0   \n",
       "\n",
       "Attribute                                                            Unemployment_rate_2022  \n",
       "Federal Information Processing Standard (FIPS) ... Area name                                 \n",
       "6001                                               Alameda County                       3.3  \n",
       "6003                                               Alpine County                        5.4  \n",
       "6005                                               Amador County                        4.4  \n",
       "6007                                               Butte County                         4.5  \n",
       "6009                                               Calaveras County                     3.6  "
      ]
     },
     "execution_count": 15,
     "metadata": {},
     "output_type": "execute_result"
    }
   ],
   "source": [
    "ca_geo.head()"
   ]
  },
  {
   "cell_type": "markdown",
   "metadata": {},
   "source": [
    "## Renaming"
   ]
  },
  {
   "cell_type": "markdown",
   "metadata": {},
   "source": [
    "The columns are renamed to reflect the KPIs they contain."
   ]
  },
  {
   "cell_type": "code",
   "execution_count": 16,
   "metadata": {},
   "outputs": [],
   "source": [
    "ca_geo.index.names = [\"FIPS\", \"County\"]\n",
    "ca_geo.columns = [\"percentage_college_degree\", \"percentage_bachelor_or_higher\", \"percentage_high_school\", \"percentage_less_than_high_school\", \"population\", \"poverty_rate\", \"median_household_income\", \"unemployment_rate\"]"
   ]
  },
  {
   "cell_type": "code",
   "execution_count": 17,
   "metadata": {},
   "outputs": [
    {
     "data": {
      "text/html": [
       "<div>\n",
       "<style scoped>\n",
       "    .dataframe tbody tr th:only-of-type {\n",
       "        vertical-align: middle;\n",
       "    }\n",
       "\n",
       "    .dataframe tbody tr th {\n",
       "        vertical-align: top;\n",
       "    }\n",
       "\n",
       "    .dataframe thead th {\n",
       "        text-align: right;\n",
       "    }\n",
       "</style>\n",
       "<table border=\"1\" class=\"dataframe\">\n",
       "  <thead>\n",
       "    <tr style=\"text-align: right;\">\n",
       "      <th></th>\n",
       "      <th></th>\n",
       "      <th>percentage_college_degree</th>\n",
       "      <th>percentage_bachelor_or_higher</th>\n",
       "      <th>percentage_high_school</th>\n",
       "      <th>percentage_less_than_high_school</th>\n",
       "      <th>population</th>\n",
       "      <th>poverty_rate</th>\n",
       "      <th>median_household_income</th>\n",
       "      <th>unemployment_rate</th>\n",
       "    </tr>\n",
       "    <tr>\n",
       "      <th>FIPS</th>\n",
       "      <th>County</th>\n",
       "      <th></th>\n",
       "      <th></th>\n",
       "      <th></th>\n",
       "      <th></th>\n",
       "      <th></th>\n",
       "      <th></th>\n",
       "      <th></th>\n",
       "      <th></th>\n",
       "    </tr>\n",
       "  </thead>\n",
       "  <tbody>\n",
       "    <tr>\n",
       "      <th>6001</th>\n",
       "      <th>Alameda County</th>\n",
       "      <td>22.707463</td>\n",
       "      <td>49.643049</td>\n",
       "      <td>16.653921</td>\n",
       "      <td>10.995566</td>\n",
       "      <td>1628997.0</td>\n",
       "      <td>9.4</td>\n",
       "      <td>108971.0</td>\n",
       "      <td>3.3</td>\n",
       "    </tr>\n",
       "    <tr>\n",
       "      <th>6003</th>\n",
       "      <th>Alpine County</th>\n",
       "      <td>28.689370</td>\n",
       "      <td>39.318885</td>\n",
       "      <td>25.696594</td>\n",
       "      <td>6.295150</td>\n",
       "      <td>1190.0</td>\n",
       "      <td>15.8</td>\n",
       "      <td>87570.0</td>\n",
       "      <td>5.4</td>\n",
       "    </tr>\n",
       "    <tr>\n",
       "      <th>6005</th>\n",
       "      <th>Amador County</th>\n",
       "      <td>41.141056</td>\n",
       "      <td>19.517730</td>\n",
       "      <td>30.650906</td>\n",
       "      <td>8.690307</td>\n",
       "      <td>41412.0</td>\n",
       "      <td>11.1</td>\n",
       "      <td>68159.0</td>\n",
       "      <td>4.4</td>\n",
       "    </tr>\n",
       "    <tr>\n",
       "      <th>6007</th>\n",
       "      <th>Butte County</th>\n",
       "      <td>38.278925</td>\n",
       "      <td>29.760071</td>\n",
       "      <td>22.300534</td>\n",
       "      <td>9.660470</td>\n",
       "      <td>207303.0</td>\n",
       "      <td>16.6</td>\n",
       "      <td>62982.0</td>\n",
       "      <td>4.5</td>\n",
       "    </tr>\n",
       "    <tr>\n",
       "      <th>6009</th>\n",
       "      <th>Calaveras County</th>\n",
       "      <td>39.950216</td>\n",
       "      <td>19.910732</td>\n",
       "      <td>30.943321</td>\n",
       "      <td>9.195731</td>\n",
       "      <td>46563.0</td>\n",
       "      <td>13.5</td>\n",
       "      <td>68298.0</td>\n",
       "      <td>3.6</td>\n",
       "    </tr>\n",
       "  </tbody>\n",
       "</table>\n",
       "</div>"
      ],
      "text/plain": [
       "                       percentage_college_degree  \\\n",
       "FIPS County                                        \n",
       "6001 Alameda County                    22.707463   \n",
       "6003 Alpine County                     28.689370   \n",
       "6005 Amador County                     41.141056   \n",
       "6007 Butte County                      38.278925   \n",
       "6009 Calaveras County                  39.950216   \n",
       "\n",
       "                       percentage_bachelor_or_higher  percentage_high_school  \\\n",
       "FIPS County                                                                    \n",
       "6001 Alameda County                        49.643049               16.653921   \n",
       "6003 Alpine County                         39.318885               25.696594   \n",
       "6005 Amador County                         19.517730               30.650906   \n",
       "6007 Butte County                          29.760071               22.300534   \n",
       "6009 Calaveras County                      19.910732               30.943321   \n",
       "\n",
       "                       percentage_less_than_high_school  population  \\\n",
       "FIPS County                                                           \n",
       "6001 Alameda County                           10.995566   1628997.0   \n",
       "6003 Alpine County                             6.295150      1190.0   \n",
       "6005 Amador County                             8.690307     41412.0   \n",
       "6007 Butte County                              9.660470    207303.0   \n",
       "6009 Calaveras County                          9.195731     46563.0   \n",
       "\n",
       "                       poverty_rate  median_household_income  \\\n",
       "FIPS County                                                    \n",
       "6001 Alameda County             9.4                 108971.0   \n",
       "6003 Alpine County             15.8                  87570.0   \n",
       "6005 Amador County             11.1                  68159.0   \n",
       "6007 Butte County              16.6                  62982.0   \n",
       "6009 Calaveras County          13.5                  68298.0   \n",
       "\n",
       "                       unemployment_rate  \n",
       "FIPS County                               \n",
       "6001 Alameda County                  3.3  \n",
       "6003 Alpine County                   5.4  \n",
       "6005 Amador County                   4.4  \n",
       "6007 Butte County                    4.5  \n",
       "6009 Calaveras County                3.6  "
      ]
     },
     "execution_count": 17,
     "metadata": {},
     "output_type": "execute_result"
    }
   ],
   "source": [
    "ca_geo.head()"
   ]
  },
  {
   "cell_type": "code",
   "execution_count": 18,
   "metadata": {},
   "outputs": [
    {
     "data": {
      "text/html": [
       "<div>\n",
       "<style scoped>\n",
       "    .dataframe tbody tr th:only-of-type {\n",
       "        vertical-align: middle;\n",
       "    }\n",
       "\n",
       "    .dataframe tbody tr th {\n",
       "        vertical-align: top;\n",
       "    }\n",
       "\n",
       "    .dataframe thead th {\n",
       "        text-align: right;\n",
       "    }\n",
       "</style>\n",
       "<table border=\"1\" class=\"dataframe\">\n",
       "  <thead>\n",
       "    <tr style=\"text-align: right;\">\n",
       "      <th></th>\n",
       "      <th>percentage_college_degree</th>\n",
       "      <th>percentage_bachelor_or_higher</th>\n",
       "      <th>percentage_high_school</th>\n",
       "      <th>percentage_less_than_high_school</th>\n",
       "      <th>population</th>\n",
       "      <th>poverty_rate</th>\n",
       "      <th>median_household_income</th>\n",
       "      <th>unemployment_rate</th>\n",
       "    </tr>\n",
       "  </thead>\n",
       "  <tbody>\n",
       "    <tr>\n",
       "      <th>count</th>\n",
       "      <td>58.000000</td>\n",
       "      <td>58.000000</td>\n",
       "      <td>58.000000</td>\n",
       "      <td>58.000000</td>\n",
       "      <td>5.800000e+01</td>\n",
       "      <td>58.000000</td>\n",
       "      <td>58.000000</td>\n",
       "      <td>58.000000</td>\n",
       "    </tr>\n",
       "    <tr>\n",
       "      <th>mean</th>\n",
       "      <td>33.194236</td>\n",
       "      <td>28.547125</td>\n",
       "      <td>23.766084</td>\n",
       "      <td>14.492555</td>\n",
       "      <td>6.729197e+05</td>\n",
       "      <td>13.631034</td>\n",
       "      <td>75295.431034</td>\n",
       "      <td>4.836207</td>\n",
       "    </tr>\n",
       "    <tr>\n",
       "      <th>std</th>\n",
       "      <td>5.767978</td>\n",
       "      <td>12.265046</td>\n",
       "      <td>5.838215</td>\n",
       "      <td>7.024371</td>\n",
       "      <td>1.428889e+06</td>\n",
       "      <td>3.955640</td>\n",
       "      <td>21888.077333</td>\n",
       "      <td>2.068366</td>\n",
       "    </tr>\n",
       "    <tr>\n",
       "      <th>min</th>\n",
       "      <td>17.890210</td>\n",
       "      <td>11.770752</td>\n",
       "      <td>10.165542</td>\n",
       "      <td>4.870196</td>\n",
       "      <td>1.190000e+03</td>\n",
       "      <td>6.600000</td>\n",
       "      <td>45508.000000</td>\n",
       "      <td>2.400000</td>\n",
       "    </tr>\n",
       "    <tr>\n",
       "      <th>25%</th>\n",
       "      <td>29.796024</td>\n",
       "      <td>18.818949</td>\n",
       "      <td>19.169706</td>\n",
       "      <td>9.138650</td>\n",
       "      <td>4.855500e+04</td>\n",
       "      <td>10.625000</td>\n",
       "      <td>58662.250000</td>\n",
       "      <td>3.525000</td>\n",
       "    </tr>\n",
       "    <tr>\n",
       "      <th>50%</th>\n",
       "      <td>33.199900</td>\n",
       "      <td>24.542779</td>\n",
       "      <td>24.145697</td>\n",
       "      <td>12.590978</td>\n",
       "      <td>1.867880e+05</td>\n",
       "      <td>13.200000</td>\n",
       "      <td>69621.500000</td>\n",
       "      <td>4.500000</td>\n",
       "    </tr>\n",
       "    <tr>\n",
       "      <th>75%</th>\n",
       "      <td>37.004273</td>\n",
       "      <td>36.960324</td>\n",
       "      <td>27.504493</td>\n",
       "      <td>19.628718</td>\n",
       "      <td>6.847045e+05</td>\n",
       "      <td>16.400000</td>\n",
       "      <td>87659.250000</td>\n",
       "      <td>5.400000</td>\n",
       "    </tr>\n",
       "    <tr>\n",
       "      <th>max</th>\n",
       "      <td>44.228085</td>\n",
       "      <td>60.148936</td>\n",
       "      <td>38.421516</td>\n",
       "      <td>29.646865</td>\n",
       "      <td>9.721138e+06</td>\n",
       "      <td>21.900000</td>\n",
       "      <td>141161.000000</td>\n",
       "      <td>14.700000</td>\n",
       "    </tr>\n",
       "  </tbody>\n",
       "</table>\n",
       "</div>"
      ],
      "text/plain": [
       "       percentage_college_degree  percentage_bachelor_or_higher  \\\n",
       "count                  58.000000                      58.000000   \n",
       "mean                   33.194236                      28.547125   \n",
       "std                     5.767978                      12.265046   \n",
       "min                    17.890210                      11.770752   \n",
       "25%                    29.796024                      18.818949   \n",
       "50%                    33.199900                      24.542779   \n",
       "75%                    37.004273                      36.960324   \n",
       "max                    44.228085                      60.148936   \n",
       "\n",
       "       percentage_high_school  percentage_less_than_high_school    population  \\\n",
       "count               58.000000                         58.000000  5.800000e+01   \n",
       "mean                23.766084                         14.492555  6.729197e+05   \n",
       "std                  5.838215                          7.024371  1.428889e+06   \n",
       "min                 10.165542                          4.870196  1.190000e+03   \n",
       "25%                 19.169706                          9.138650  4.855500e+04   \n",
       "50%                 24.145697                         12.590978  1.867880e+05   \n",
       "75%                 27.504493                         19.628718  6.847045e+05   \n",
       "max                 38.421516                         29.646865  9.721138e+06   \n",
       "\n",
       "       poverty_rate  median_household_income  unemployment_rate  \n",
       "count     58.000000                58.000000          58.000000  \n",
       "mean      13.631034             75295.431034           4.836207  \n",
       "std        3.955640             21888.077333           2.068366  \n",
       "min        6.600000             45508.000000           2.400000  \n",
       "25%       10.625000             58662.250000           3.525000  \n",
       "50%       13.200000             69621.500000           4.500000  \n",
       "75%       16.400000             87659.250000           5.400000  \n",
       "max       21.900000            141161.000000          14.700000  "
      ]
     },
     "execution_count": 18,
     "metadata": {},
     "output_type": "execute_result"
    }
   ],
   "source": [
    "ca_geo.describe()"
   ]
  },
  {
   "cell_type": "code",
   "execution_count": 19,
   "metadata": {},
   "outputs": [
    {
     "data": {
      "image/png": "[encoded data removed]",
      "text/plain": [
       "<Figure size 640x480 with 1 Axes>"
      ]
     },
     "metadata": {},
     "output_type": "display_data"
    },
    {
     "data": {
      "image/png": "[encoded data removed]",
      "text/plain": [
       "<Figure size 640x480 with 1 Axes>"
      ]
     },
     "metadata": {},
     "output_type": "display_data"
    },
    {
     "data": {
      "image/png": "[encoded data removed]",
      "text/plain": [
       "<Figure size 640x480 with 1 Axes>"
      ]
     },
     "metadata": {},
     "output_type": "display_data"
    },
    {
     "data": {
      "image/png": "[encoded data removed]",
      "text/plain": [
       "<Figure size 640x480 with 1 Axes>"
      ]
     },
     "metadata": {},
     "output_type": "display_data"
    },
    {
     "data": {
      "image/png": "[encoded data removed]",
      "text/plain": [
       "<Figure size 640x480 with 1 Axes>"
      ]
     },
     "metadata": {},
     "output_type": "display_data"
    },
    {
     "data": {
      "image/png": "[encoded data removed]",
      "text/plain": [
       "<Figure size 640x480 with 1 Axes>"
      ]
     },
     "metadata": {},
     "output_type": "display_data"
    },
    {
     "data": {
      "image/png": "[encoded data removed]",
      "text/plain": [
       "<Figure size 640x480 with 1 Axes>"
      ]
     },
     "metadata": {},
     "output_type": "display_data"
    },
    {
     "data": {
      "image/png": "[encoded data removed]",
      "text/plain": [
       "<Figure size 640x480 with 1 Axes>"
      ]
     },
     "metadata": {},
     "output_type": "display_data"
    }
   ],
   "source": [
    "import matplotlib.pyplot as plt\n",
    "\n",
    "for col in ca_geo.columns:\n",
    "    plt.hist(ca_geo[col])\n",
    "    plt.title(col)\n",
    "    plt.show()"
   ]
  },
  {
   "cell_type": "code",
   "execution_count": 20,
   "metadata": {},
   "outputs": [],
   "source": [
    "ca_geo.to_pickle(\"C:/Users/Hauke/OneDrive - ucp.pt/04_Thesis/00_GitHub/Thesis/data/processed/enrichment/ca_geo.pkl\")"
   ]
  }
 ],
 "metadata": {
  "kernelspec": {
   "display_name": "Python 3",
   "language": "python",
   "name": "python3"
  },
  "language_info": {
   "codemirror_mode": {
    "name": "ipython",
    "version": 3
   },
   "file_extension": ".py",
   "mimetype": "text/x-python",
   "name": "python",
   "nbconvert_exporter": "python",
   "pygments_lexer": "ipython3",
   "version": "3.11.0"
  }
 },
 "nbformat": 4,
 "nbformat_minor": 2
}
