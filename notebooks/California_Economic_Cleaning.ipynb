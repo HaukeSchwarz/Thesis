{
 "cells": [
  {
   "cell_type": "markdown",
   "metadata": {},
   "source": [
    "# Cleaning of the geographical enrichment variables"
   ]
  },
  {
   "cell_type": "markdown",
   "metadata": {},
   "source": [
    "This notebook aims to bring the geographical enrichment variables (https://www.ers.usda.gov/data-products/county-level-data-sets/) into a format that is useful to work with for the purpose of this thesis."
   ]
  },
  {
   "cell_type": "markdown",
   "metadata": {},
   "source": [
    "## Set-Up"
   ]
  },
  {
   "cell_type": "markdown",
   "metadata": {},
   "source": [
    "The goal is to work with pandas dataframes, so numpy and pandas are required."
   ]
  },
  {
   "cell_type": "code",
   "execution_count": 21,
   "metadata": {},
   "outputs": [],
   "source": [
    "import pandas as pd \n",
    "import numpy as np"
   ]
  },
  {
   "cell_type": "markdown",
   "metadata": {},
   "source": [
    "## Raw Files"
   ]
  },
  {
   "cell_type": "markdown",
   "metadata": {},
   "source": [
    "All data (separate datasets on education, population, poverty, and unemployment per state) is available in CSV format, the inbuilt pandas function `read_csv` is utilized to store the data in a pandas dataframe."
   ]
  },
  {
   "cell_type": "code",
   "execution_count": 22,
   "metadata": {},
   "outputs": [],
   "source": [
    "educ_raw = pd.read_csv(\"C:/Users/Hauke/OneDrive - ucp.pt/04_Thesis/00_GitHub/Thesis/data/raw/California_Geographic/Education.csv\", encoding = \"latin1\")\n",
    "pop_raw = pd.read_csv(\"C:/Users/Hauke/OneDrive - ucp.pt/04_Thesis/00_GitHub/Thesis/data/raw/California_Geographic/PopulationEstimates.csv\", encoding = \"latin1\")\n",
    "pov_raw = pd.read_csv(\"C:/Users/Hauke/OneDrive - ucp.pt/04_Thesis/00_GitHub/Thesis/data/raw/California_Geographic/PovertyEstimates.csv\", encoding = \"latin1\")\n",
    "unemp_raw = pd.read_csv(\"C:/Users/Hauke/OneDrive - ucp.pt/04_Thesis/00_GitHub/Thesis/data/raw/California_Geographic/Unemployment.csv\", encoding = \"latin1\")"
   ]
  },
  {
   "cell_type": "markdown",
   "metadata": {},
   "source": [
    "## Reshaping"
   ]
  },
  {
   "cell_type": "markdown",
   "metadata": {},
   "source": [
    "The downloadable CSVs are in a different format than displayed on the USDA homepage. As the aim of these dataframes is to enrich the main dataset, which does contain FIPS codes, the data is reshaped in a way that this FIPS code (together with the corresponding are name) are used to index the dataframe in order to facilitate merging and/or county-level analysis."
   ]
  },
  {
   "cell_type": "markdown",
   "metadata": {},
   "source": [
    "### Education"
   ]
  },
  {
   "cell_type": "markdown",
   "metadata": {},
   "source": [
    "The raw dataframe imported above is filtered to include only the relevant values (i.e. counties in California, but not the summary of the state of California itself). Only the percentage values relevant for the thesis are kept, the rest is dropped. Also, only the newest datapoints (years 2017-2021) are kept, the rest is dropped. As the data is structured in a way that information on years and KPIs are stored in the \"Attribute\" column, the dataframe is pivoted to have the KPIs as column for easier comparability."
   ]
  },
  {
   "cell_type": "code",
   "execution_count": 62,
   "metadata": {},
   "outputs": [],
   "source": [
    "educ_ca = educ_raw[(educ_raw[\"State\"] == \"CA\") & \n",
    "                   (educ_raw[\"Attribute\"].str.contains(\"Percent\")) & \n",
    "                   (educ_raw[\"Attribute\"].str.contains(\"2017-21\")) & \n",
    "                   (educ_raw[\"Area name\"].str.contains(\"County\"))]\n",
    "\n",
    "educ_ca_t = educ_ca.pivot(index = [\"Federal Information Processing Standard (FIPS) Code\", \"Area name\"],columns=\"Attribute\", values=\"Value\")"
   ]
  },
  {
   "cell_type": "code",
   "execution_count": 63,
   "metadata": {},
   "outputs": [
    {
     "data": {
      "text/html": [
       "<div>\n",
       "<style scoped>\n",
       "    .dataframe tbody tr th:only-of-type {\n",
       "        vertical-align: middle;\n",
       "    }\n",
       "\n",
       "    .dataframe tbody tr th {\n",
       "        vertical-align: top;\n",
       "    }\n",
       "\n",
       "    .dataframe thead th {\n",
       "        text-align: right;\n",
       "    }\n",
       "</style>\n",
       "<table border=\"1\" class=\"dataframe\">\n",
       "  <thead>\n",
       "    <tr style=\"text-align: right;\">\n",
       "      <th></th>\n",
       "      <th>Attribute</th>\n",
       "      <th>Percent of adults completing some college or associate's degree, 2017-21</th>\n",
       "      <th>Percent of adults with a bachelor's degree or higher, 2017-21</th>\n",
       "      <th>Percent of adults with a high school diploma only, 2017-21</th>\n",
       "      <th>Percent of adults with less than a high school diploma, 2017-21</th>\n",
       "    </tr>\n",
       "    <tr>\n",
       "      <th>Federal Information Processing Standard (FIPS) Code</th>\n",
       "      <th>Area name</th>\n",
       "      <th></th>\n",
       "      <th></th>\n",
       "      <th></th>\n",
       "      <th></th>\n",
       "    </tr>\n",
       "  </thead>\n",
       "  <tbody>\n",
       "    <tr>\n",
       "      <th>6001</th>\n",
       "      <th>Alameda County</th>\n",
       "      <td>22.707463</td>\n",
       "      <td>49.643049</td>\n",
       "      <td>16.653921</td>\n",
       "      <td>10.995566</td>\n",
       "    </tr>\n",
       "    <tr>\n",
       "      <th>6003</th>\n",
       "      <th>Alpine County</th>\n",
       "      <td>28.689370</td>\n",
       "      <td>39.318885</td>\n",
       "      <td>25.696594</td>\n",
       "      <td>6.295150</td>\n",
       "    </tr>\n",
       "    <tr>\n",
       "      <th>6005</th>\n",
       "      <th>Amador County</th>\n",
       "      <td>41.141056</td>\n",
       "      <td>19.517730</td>\n",
       "      <td>30.650906</td>\n",
       "      <td>8.690307</td>\n",
       "    </tr>\n",
       "    <tr>\n",
       "      <th>6007</th>\n",
       "      <th>Butte County</th>\n",
       "      <td>38.278925</td>\n",
       "      <td>29.760071</td>\n",
       "      <td>22.300534</td>\n",
       "      <td>9.660470</td>\n",
       "    </tr>\n",
       "    <tr>\n",
       "      <th>6009</th>\n",
       "      <th>Calaveras County</th>\n",
       "      <td>39.950216</td>\n",
       "      <td>19.910732</td>\n",
       "      <td>30.943321</td>\n",
       "      <td>9.195731</td>\n",
       "    </tr>\n",
       "  </tbody>\n",
       "</table>\n",
       "</div>"
      ],
      "text/plain": [
       "Attribute                                                            Percent of adults completing some college or associate's degree, 2017-21  \\\n",
       "Federal Information Processing Standard (FIPS) ... Area name                                                                                    \n",
       "6001                                               Alameda County                                            22.707463                          \n",
       "6003                                               Alpine County                                             28.689370                          \n",
       "6005                                               Amador County                                             41.141056                          \n",
       "6007                                               Butte County                                              38.278925                          \n",
       "6009                                               Calaveras County                                          39.950216                          \n",
       "\n",
       "Attribute                                                            Percent of adults with a bachelor's degree or higher, 2017-21  \\\n",
       "Federal Information Processing Standard (FIPS) ... Area name                                                                         \n",
       "6001                                               Alameda County                                            49.643049               \n",
       "6003                                               Alpine County                                             39.318885               \n",
       "6005                                               Amador County                                             19.517730               \n",
       "6007                                               Butte County                                              29.760071               \n",
       "6009                                               Calaveras County                                          19.910732               \n",
       "\n",
       "Attribute                                                            Percent of adults with a high school diploma only, 2017-21  \\\n",
       "Federal Information Processing Standard (FIPS) ... Area name                                                                      \n",
       "6001                                               Alameda County                                            16.653921            \n",
       "6003                                               Alpine County                                             25.696594            \n",
       "6005                                               Amador County                                             30.650906            \n",
       "6007                                               Butte County                                              22.300534            \n",
       "6009                                               Calaveras County                                          30.943321            \n",
       "\n",
       "Attribute                                                            Percent of adults with less than a high school diploma, 2017-21  \n",
       "Federal Information Processing Standard (FIPS) ... Area name                                                                          \n",
       "6001                                               Alameda County                                            10.995566                \n",
       "6003                                               Alpine County                                              6.295150                \n",
       "6005                                               Amador County                                              8.690307                \n",
       "6007                                               Butte County                                               9.660470                \n",
       "6009                                               Calaveras County                                           9.195731                "
      ]
     },
     "execution_count": 63,
     "metadata": {},
     "output_type": "execute_result"
    }
   ],
   "source": [
    "educ_ca_t.head()"
   ]
  },
  {
   "cell_type": "markdown",
   "metadata": {},
   "source": [
    "### Population"
   ]
  },
  {
   "cell_type": "markdown",
   "metadata": {},
   "source": [
    "The only relevant KPI from this dataframe is the most recent (2022) population figure. Besides that (and a different variable naming), the procedure is the same as for the education dataframe."
   ]
  },
  {
   "cell_type": "code",
   "execution_count": 59,
   "metadata": {},
   "outputs": [],
   "source": [
    "pop_ca = pop_raw[(pop_raw[\"State\"] == \"CA\") &\n",
    "                 (pop_raw[\"Attribute\"].str.contains(\"POP_ESTIMATE_2022\")) &\n",
    "                 (pop_raw[\"Area_Name\"].str.contains(\"County\"))]\n",
    "\n",
    "pop_ca_t = pop_ca.pivot(index = [\"FIPStxt\", \"Area_Name\"],columns=\"Attribute\", values=\"Value\")"
   ]
  },
  {
   "cell_type": "code",
   "execution_count": 64,
   "metadata": {},
   "outputs": [
    {
     "data": {
      "text/html": [
       "<div>\n",
       "<style scoped>\n",
       "    .dataframe tbody tr th:only-of-type {\n",
       "        vertical-align: middle;\n",
       "    }\n",
       "\n",
       "    .dataframe tbody tr th {\n",
       "        vertical-align: top;\n",
       "    }\n",
       "\n",
       "    .dataframe thead th {\n",
       "        text-align: right;\n",
       "    }\n",
       "</style>\n",
       "<table border=\"1\" class=\"dataframe\">\n",
       "  <thead>\n",
       "    <tr style=\"text-align: right;\">\n",
       "      <th></th>\n",
       "      <th>Attribute</th>\n",
       "      <th>POP_ESTIMATE_2022</th>\n",
       "    </tr>\n",
       "    <tr>\n",
       "      <th>FIPStxt</th>\n",
       "      <th>Area_Name</th>\n",
       "      <th></th>\n",
       "    </tr>\n",
       "  </thead>\n",
       "  <tbody>\n",
       "    <tr>\n",
       "      <th>6001</th>\n",
       "      <th>Alameda County</th>\n",
       "      <td>1628997.0</td>\n",
       "    </tr>\n",
       "    <tr>\n",
       "      <th>6003</th>\n",
       "      <th>Alpine County</th>\n",
       "      <td>1190.0</td>\n",
       "    </tr>\n",
       "    <tr>\n",
       "      <th>6005</th>\n",
       "      <th>Amador County</th>\n",
       "      <td>41412.0</td>\n",
       "    </tr>\n",
       "    <tr>\n",
       "      <th>6007</th>\n",
       "      <th>Butte County</th>\n",
       "      <td>207303.0</td>\n",
       "    </tr>\n",
       "    <tr>\n",
       "      <th>6009</th>\n",
       "      <th>Calaveras County</th>\n",
       "      <td>46563.0</td>\n",
       "    </tr>\n",
       "  </tbody>\n",
       "</table>\n",
       "</div>"
      ],
      "text/plain": [
       "Attribute                 POP_ESTIMATE_2022\n",
       "FIPStxt Area_Name                          \n",
       "6001    Alameda County            1628997.0\n",
       "6003    Alpine County                1190.0\n",
       "6005    Amador County               41412.0\n",
       "6007    Butte County               207303.0\n",
       "6009    Calaveras County            46563.0"
      ]
     },
     "execution_count": 64,
     "metadata": {},
     "output_type": "execute_result"
    }
   ],
   "source": [
    "pop_ca_t.head()"
   ]
  }
 ],
 "metadata": {
  "kernelspec": {
   "display_name": "Python 3",
   "language": "python",
   "name": "python3"
  },
  "language_info": {
   "codemirror_mode": {
    "name": "ipython",
    "version": 3
   },
   "file_extension": ".py",
   "mimetype": "text/x-python",
   "name": "python",
   "nbconvert_exporter": "python",
   "pygments_lexer": "ipython3",
   "version": "3.11.0"
  }
 },
 "nbformat": 4,
 "nbformat_minor": 2
}
