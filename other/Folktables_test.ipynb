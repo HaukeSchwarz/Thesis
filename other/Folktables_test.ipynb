{
 "cells": [
  {
   "cell_type": "code",
   "execution_count": 1,
   "metadata": {},
   "outputs": [],
   "source": [
    "from folktables import ACSDataSource"
   ]
  },
  {
   "cell_type": "code",
   "execution_count": 2,
   "metadata": {},
   "outputs": [
    {
     "name": "stdout",
     "output_type": "stream",
     "text": [
      "Downloading data for 2018 1-Year person survey for AL...\n"
     ]
    }
   ],
   "source": [
    "data_source = ACSDataSource(survey_year='2018', horizon='1-Year', survey='person')\n",
    "acs_data = data_source.get_data(states=[\"AL\"], download=True)"
   ]
  },
  {
   "cell_type": "code",
   "execution_count": 3,
   "metadata": {},
   "outputs": [],
   "source": [
    "from folktables import ACSEmployment\n",
    "features, label, group = ACSEmployment.df_to_numpy(acs_data)"
   ]
  },
  {
   "cell_type": "code",
   "execution_count": 10,
   "metadata": {},
   "outputs": [
    {
     "name": "stdout",
     "output_type": "stream",
     "text": [
      "       DIVISION       SPORDER          PUMA   REGION       ST     ADJINC  \\\n",
      "count   47777.0  47777.000000  47777.000000  47777.0  47777.0    47777.0   \n",
      "mean        6.0      1.964355   1508.754568      3.0      1.0  1013097.0   \n",
      "std         0.0      1.217394    823.669365      0.0      0.0        0.0   \n",
      "min         6.0      1.000000    100.000000      3.0      1.0  1013097.0   \n",
      "25%         6.0      1.000000    800.000000      3.0      1.0  1013097.0   \n",
      "50%         6.0      2.000000   1400.000000      3.0      1.0  1013097.0   \n",
      "75%         6.0      2.000000   2300.000000      3.0      1.0  1013097.0   \n",
      "max         6.0     14.000000   2703.000000      3.0      1.0  1013097.0   \n",
      "\n",
      "              PWGTP          AGEP           CIT        CITWP           COW  \\\n",
      "count  47777.000000  47777.000000  47777.000000   594.000000  26323.000000   \n",
      "mean     102.305942     42.777571      1.117002  1995.367003      2.116894   \n",
      "std       97.343719     23.801082      0.617816    17.287568      1.908229   \n",
      "min        1.000000      0.000000      1.000000  1939.000000      1.000000   \n",
      "25%       41.000000     22.000000      1.000000  1983.000000      1.000000   \n",
      "50%       76.000000     45.000000      1.000000  2000.000000      1.000000   \n",
      "75%      128.000000     62.000000      1.000000  2010.000000      3.000000   \n",
      "max     1726.000000     93.000000      5.000000  2018.000000      9.000000   \n",
      "\n",
      "               DDRS          DEAR          DEYE          DOUT          DPHY  \\\n",
      "count  45475.000000  47777.000000  47777.000000  40276.000000  45475.000000   \n",
      "mean       1.955140      1.947360      1.965004      1.913273      1.885717   \n",
      "std        0.206998      0.223317      0.183771      0.281437      0.318158   \n",
      "min        1.000000      1.000000      1.000000      1.000000      1.000000   \n",
      "25%        2.000000      2.000000      2.000000      2.000000      2.000000   \n",
      "50%        2.000000      2.000000      2.000000      2.000000      2.000000   \n",
      "75%        2.000000      2.000000      2.000000      2.000000      2.000000   \n",
      "max        2.000000      2.000000      2.000000      2.000000      2.000000   \n",
      "\n",
      "              DRAT        DRATX  \n",
      "count  1116.000000  4697.000000  \n",
      "mean      3.641577     1.762402  \n",
      "std       1.404232     0.425657  \n",
      "min       1.000000     1.000000  \n",
      "25%       2.000000     2.000000  \n",
      "50%       4.000000     2.000000  \n",
      "75%       5.000000     2.000000  \n",
      "max       6.000000     2.000000  \n"
     ]
    }
   ],
   "source": [
    "print(acs_data[acs_data.columns[:20]].describe())"
   ]
  },
  {
   "cell_type": "code",
   "execution_count": 12,
   "metadata": {},
   "outputs": [
    {
     "name": "stdout",
     "output_type": "stream",
     "text": [
      "<class 'numpy.ndarray'> <class 'numpy.ndarray'> <class 'numpy.ndarray'>\n",
      "(47777, 16) (47777,) (47777,)\n"
     ]
    }
   ],
   "source": [
    "print(type(features), type(label), type(group))\n",
    "print(features.shape, label.shape, group.shape)"
   ]
  },
  {
   "cell_type": "code",
   "execution_count": 22,
   "metadata": {},
   "outputs": [
    {
     "data": {
      "text/plain": [
       "COW\n",
       "1.0    17542\n",
       "2.0     1756\n",
       "3.0     1754\n",
       "4.0     1501\n",
       "5.0      976\n",
       "6.0     1599\n",
       "7.0      861\n",
       "8.0      104\n",
       "9.0      230\n",
       "Name: count, dtype: int64"
      ]
     },
     "execution_count": 22,
     "metadata": {},
     "output_type": "execute_result"
    }
   ],
   "source": [
    "acs_data[\"COW\"].value_counts().sort_index()"
   ]
  }
 ],
 "metadata": {
  "kernelspec": {
   "display_name": "Python 3",
   "language": "python",
   "name": "python3"
  },
  "language_info": {
   "codemirror_mode": {
    "name": "ipython",
    "version": 3
   },
   "file_extension": ".py",
   "mimetype": "text/x-python",
   "name": "python",
   "nbconvert_exporter": "python",
   "pygments_lexer": "ipython3",
   "version": "3.11.0"
  }
 },
 "nbformat": 4,
 "nbformat_minor": 2
}
