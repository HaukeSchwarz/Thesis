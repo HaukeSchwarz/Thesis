{
 "cells": [
  {
   "cell_type": "code",
   "execution_count": 2,
   "metadata": {},
   "outputs": [],
   "source": [
    "from folktables import ACSDataSource"
   ]
  },
  {
   "cell_type": "code",
   "execution_count": 3,
   "metadata": {},
   "outputs": [],
   "source": [
    "data_source = ACSDataSource(survey_year='2018', horizon='1-Year', survey='person')\n",
    "acs_data = data_source.get_data(states=[\"CA\"], download=True)"
   ]
  },
  {
   "cell_type": "code",
   "execution_count": 4,
   "metadata": {},
   "outputs": [],
   "source": [
    "from folktables import ACSEmployment\n",
    "features, label, group = ACSEmployment.df_to_numpy(acs_data)"
   ]
  },
  {
   "cell_type": "code",
   "execution_count": 5,
   "metadata": {},
   "outputs": [
    {
     "name": "stdout",
     "output_type": "stream",
     "text": [
      "       DIVISION        SPORDER           PUMA    REGION        ST     ADJINC  \\\n",
      "count  378817.0  378817.000000  378817.000000  378817.0  378817.0   378817.0   \n",
      "mean        9.0       2.255208    5498.989858       4.0       6.0  1013097.0   \n",
      "std         0.0       1.481371    2683.815709       0.0       0.0        0.0   \n",
      "min         9.0       1.000000     101.000000       4.0       6.0  1013097.0   \n",
      "25%         9.0       1.000000    3724.000000       4.0       6.0  1013097.0   \n",
      "50%         9.0       2.000000    5909.000000       4.0       6.0  1013097.0   \n",
      "75%         9.0       3.000000    7315.000000       4.0       6.0  1013097.0   \n",
      "max         9.0      20.000000   11300.000000       4.0       6.0  1013097.0   \n",
      "\n",
      "               PWGTP           AGEP            CIT         CITWP  \\\n",
      "count  378817.000000  378817.000000  378817.000000  56490.000000   \n",
      "mean      104.422571      40.371145       1.921218   1998.292742   \n",
      "std        75.636497      23.219541       1.527332     13.847503   \n",
      "min         1.000000       0.000000       1.000000   1939.000000   \n",
      "25%        59.000000      21.000000       1.000000   1990.000000   \n",
      "50%        82.000000      40.000000       1.000000   2000.000000   \n",
      "75%       126.000000      59.000000       4.000000   2009.000000   \n",
      "max      1901.000000      94.000000       5.000000   2018.000000   \n",
      "\n",
      "                 COW           DDRS           DEAR           DEYE  \\\n",
      "count  222847.000000  359931.000000  378817.000000  378817.000000   \n",
      "mean        2.225105       1.965388       1.964730       1.977712   \n",
      "std         2.004243       0.182796       0.184463       0.147618   \n",
      "min         1.000000       1.000000       1.000000       1.000000   \n",
      "25%         1.000000       2.000000       2.000000       2.000000   \n",
      "50%         1.000000       2.000000       2.000000       2.000000   \n",
      "75%         3.000000       2.000000       2.000000       2.000000   \n",
      "max         9.000000       2.000000       2.000000       2.000000   \n",
      "\n",
      "                DOUT           DPHY         DRAT         DRATX  \n",
      "count  315731.000000  359931.000000  4160.000000  21321.000000  \n",
      "mean        1.935838       1.931706     3.525240      1.804887  \n",
      "std         0.245042       0.252249     1.464606      0.396297  \n",
      "min         1.000000       1.000000     1.000000      1.000000  \n",
      "25%         2.000000       2.000000     2.000000      2.000000  \n",
      "50%         2.000000       2.000000     4.000000      2.000000  \n",
      "75%         2.000000       2.000000     5.000000      2.000000  \n",
      "max         2.000000       2.000000     6.000000      2.000000  \n"
     ]
    }
   ],
   "source": [
    "print(acs_data[acs_data.columns[:20]].describe())"
   ]
  },
  {
   "cell_type": "code",
   "execution_count": 6,
   "metadata": {},
   "outputs": [
    {
     "name": "stdout",
     "output_type": "stream",
     "text": [
      "<class 'numpy.ndarray'> <class 'numpy.ndarray'> <class 'numpy.ndarray'>\n",
      "(378817, 16) (378817,) (378817,)\n"
     ]
    }
   ],
   "source": [
    "print(type(features), type(label), type(group))\n",
    "print(features.shape, label.shape, group.shape)"
   ]
  },
  {
   "cell_type": "code",
   "execution_count": 7,
   "metadata": {},
   "outputs": [
    {
     "data": {
      "text/plain": [
       "COW\n",
       "1.0    143434\n",
       "2.0     15520\n",
       "3.0     17964\n",
       "4.0      9484\n",
       "5.0      5745\n",
       "6.0     19205\n",
       "7.0      8495\n",
       "8.0       864\n",
       "9.0      2136\n",
       "Name: count, dtype: int64"
      ]
     },
     "execution_count": 7,
     "metadata": {},
     "output_type": "execute_result"
    }
   ],
   "source": [
    "acs_data[\"COW\"].value_counts().sort_index()"
   ]
  },
  {
   "cell_type": "code",
   "execution_count": 8,
   "metadata": {},
   "outputs": [
    {
     "data": {
      "text/plain": [
       "(378817, 286)"
      ]
     },
     "execution_count": 8,
     "metadata": {},
     "output_type": "execute_result"
    }
   ],
   "source": [
    "acs_data.shape"
   ]
  }
 ],
 "metadata": {
  "kernelspec": {
   "display_name": "Python 3",
   "language": "python",
   "name": "python3"
  },
  "language_info": {
   "codemirror_mode": {
    "name": "ipython",
    "version": 3
   },
   "file_extension": ".py",
   "mimetype": "text/x-python",
   "name": "python",
   "nbconvert_exporter": "python",
   "pygments_lexer": "ipython3",
   "version": "3.11.0"
  }
 },
 "nbformat": 4,
 "nbformat_minor": 2
}
